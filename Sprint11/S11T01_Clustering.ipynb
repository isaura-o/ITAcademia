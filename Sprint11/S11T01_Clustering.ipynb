{
 "cells": [
  {
   "cell_type": "markdown",
   "id": "cf312989",
   "metadata": {},
   "source": [
    "$\\#\\#\\#\\#\\#\\#\\#$ Libraries $\\#\\#\\#\\#\\#\\#\\#$"
   ]
  },
  {
   "cell_type": "code",
   "execution_count": 1,
   "id": "c7519207",
   "metadata": {},
   "outputs": [],
   "source": [
    "import numpy as np\n",
    "import pandas as pd\n",
    "import math\n",
    "import matplotlib.pyplot as plt\n",
    "import seaborn as sns\n",
    "import re\n",
    "from scipy import stats\n",
    "from sklearn import metrics\n",
    "from sklearn import cluster\n",
    "from sklearn.preprocessing import LabelEncoder\n",
    "from sklearn.preprocessing import StandardScaler\n",
    "from sklearn.preprocessing import MinMaxScaler\n",
    "from sklearn.preprocessing import RobustScaler\n",
    "from sklearn.cluster import KMeans\n",
    "from sklearn.decomposition import PCA\n",
    "from sklearn import pipeline \n",
    "from scipy.cluster.hierarchy import dendrogram , linkage\n",
    "\n",
    "\n",
    "from sklearn import tree\n",
    "from sklearn.model_selection import train_test_split\n",
    "from sklearn.model_selection import cross_validate\n",
    "from sklearn.neighbors import KNeighborsClassifier\n",
    "from sklearn.tree import DecisionTreeClassifier\n",
    "from sklearn import svm\n",
    "from imblearn.over_sampling import SMOTE\n",
    "\n",
    "\n",
    "import warnings\n",
    "\n",
    "warnings.filterwarnings('ignore') "
   ]
  },
  {
   "cell_type": "markdown",
   "id": "9d6eccbe",
   "metadata": {},
   "source": [
    "$\\#\\#\\#\\#\\#\\#\\#\\#\\#\\#\\#\\#\\#\\#\\#\\#\\#\\#\\#\\#\\#\\#$"
   ]
  },
  {
   "cell_type": "markdown",
   "id": "9e2aa92c",
   "metadata": {},
   "source": [
    "# Data"
   ]
  },
  {
   "cell_type": "code",
   "execution_count": 2,
   "id": "559af4a9",
   "metadata": {},
   "outputs": [],
   "source": [
    "df = pd.read_csv('DelayedFlights_Mod.csv')"
   ]
  },
  {
   "cell_type": "code",
   "execution_count": 3,
   "id": "55cd7d53",
   "metadata": {},
   "outputs": [
    {
     "data": {
      "text/html": [
       "<div>\n",
       "<style scoped>\n",
       "    .dataframe tbody tr th:only-of-type {\n",
       "        vertical-align: middle;\n",
       "    }\n",
       "\n",
       "    .dataframe tbody tr th {\n",
       "        vertical-align: top;\n",
       "    }\n",
       "\n",
       "    .dataframe thead th {\n",
       "        text-align: right;\n",
       "    }\n",
       "</style>\n",
       "<table border=\"1\" class=\"dataframe\">\n",
       "  <thead>\n",
       "    <tr style=\"text-align: right;\">\n",
       "      <th></th>\n",
       "      <th>Unnamed: 0</th>\n",
       "      <th>Month</th>\n",
       "      <th>DayofMonth</th>\n",
       "      <th>DayOfWeek</th>\n",
       "      <th>DepTime</th>\n",
       "      <th>CRSDepTime</th>\n",
       "      <th>ArrTime</th>\n",
       "      <th>CRSArrTime</th>\n",
       "      <th>UniqueCarrier</th>\n",
       "      <th>FlightNum</th>\n",
       "      <th>...</th>\n",
       "      <th>LateAircraftDelay</th>\n",
       "      <th>VelocityAir</th>\n",
       "      <th>DelayedArr</th>\n",
       "      <th>TotalDelayed</th>\n",
       "      <th>TaxiTime</th>\n",
       "      <th>Year</th>\n",
       "      <th>DateDep</th>\n",
       "      <th>DateCRSDep</th>\n",
       "      <th>DateArr</th>\n",
       "      <th>DateCRSArr</th>\n",
       "    </tr>\n",
       "  </thead>\n",
       "  <tbody>\n",
       "    <tr>\n",
       "      <th>1928363</th>\n",
       "      <td>1936753</td>\n",
       "      <td>12</td>\n",
       "      <td>13</td>\n",
       "      <td>6</td>\n",
       "      <td>1250.0</td>\n",
       "      <td>1220</td>\n",
       "      <td>1617.0</td>\n",
       "      <td>1552</td>\n",
       "      <td>DL</td>\n",
       "      <td>1621</td>\n",
       "      <td>...</td>\n",
       "      <td>22.0</td>\n",
       "      <td>369.795918</td>\n",
       "      <td>1</td>\n",
       "      <td>25.0</td>\n",
       "      <td>27.0</td>\n",
       "      <td>2008</td>\n",
       "      <td>2.008121e+11</td>\n",
       "      <td>200812131220</td>\n",
       "      <td>2.008121e+11</td>\n",
       "      <td>200812131552</td>\n",
       "    </tr>\n",
       "    <tr>\n",
       "      <th>1928364</th>\n",
       "      <td>1936754</td>\n",
       "      <td>12</td>\n",
       "      <td>13</td>\n",
       "      <td>6</td>\n",
       "      <td>657.0</td>\n",
       "      <td>600</td>\n",
       "      <td>904.0</td>\n",
       "      <td>749</td>\n",
       "      <td>DL</td>\n",
       "      <td>1631</td>\n",
       "      <td>...</td>\n",
       "      <td>0.0</td>\n",
       "      <td>227.244094</td>\n",
       "      <td>1</td>\n",
       "      <td>75.0</td>\n",
       "      <td>49.0</td>\n",
       "      <td>2008</td>\n",
       "      <td>2.008121e+11</td>\n",
       "      <td>200812130600</td>\n",
       "      <td>2.008121e+11</td>\n",
       "      <td>200812130749</td>\n",
       "    </tr>\n",
       "    <tr>\n",
       "      <th>1928365</th>\n",
       "      <td>1936755</td>\n",
       "      <td>12</td>\n",
       "      <td>13</td>\n",
       "      <td>6</td>\n",
       "      <td>1007.0</td>\n",
       "      <td>847</td>\n",
       "      <td>1149.0</td>\n",
       "      <td>1010</td>\n",
       "      <td>DL</td>\n",
       "      <td>1631</td>\n",
       "      <td>...</td>\n",
       "      <td>79.0</td>\n",
       "      <td>255.185185</td>\n",
       "      <td>1</td>\n",
       "      <td>99.0</td>\n",
       "      <td>40.0</td>\n",
       "      <td>2008</td>\n",
       "      <td>2.008121e+11</td>\n",
       "      <td>200812130847</td>\n",
       "      <td>2.008121e+11</td>\n",
       "      <td>200812131010</td>\n",
       "    </tr>\n",
       "    <tr>\n",
       "      <th>1928366</th>\n",
       "      <td>1936756</td>\n",
       "      <td>12</td>\n",
       "      <td>13</td>\n",
       "      <td>6</td>\n",
       "      <td>1251.0</td>\n",
       "      <td>1240</td>\n",
       "      <td>1446.0</td>\n",
       "      <td>1437</td>\n",
       "      <td>DL</td>\n",
       "      <td>1639</td>\n",
       "      <td>...</td>\n",
       "      <td>0.0</td>\n",
       "      <td>278.086957</td>\n",
       "      <td>1</td>\n",
       "      <td>0.0</td>\n",
       "      <td>26.0</td>\n",
       "      <td>2008</td>\n",
       "      <td>2.008121e+11</td>\n",
       "      <td>200812131240</td>\n",
       "      <td>2.008121e+11</td>\n",
       "      <td>200812131437</td>\n",
       "    </tr>\n",
       "    <tr>\n",
       "      <th>1928367</th>\n",
       "      <td>1936757</td>\n",
       "      <td>12</td>\n",
       "      <td>13</td>\n",
       "      <td>6</td>\n",
       "      <td>1110.0</td>\n",
       "      <td>1103</td>\n",
       "      <td>1413.0</td>\n",
       "      <td>1418</td>\n",
       "      <td>DL</td>\n",
       "      <td>1641</td>\n",
       "      <td>...</td>\n",
       "      <td>0.0</td>\n",
       "      <td>426.341463</td>\n",
       "      <td>0</td>\n",
       "      <td>0.0</td>\n",
       "      <td>19.0</td>\n",
       "      <td>2008</td>\n",
       "      <td>2.008121e+11</td>\n",
       "      <td>200812131103</td>\n",
       "      <td>2.008121e+11</td>\n",
       "      <td>200812131418</td>\n",
       "    </tr>\n",
       "  </tbody>\n",
       "</table>\n",
       "<p>5 rows × 35 columns</p>\n",
       "</div>"
      ],
      "text/plain": [
       "         Unnamed: 0  Month  DayofMonth  DayOfWeek  DepTime  CRSDepTime  \\\n",
       "1928363     1936753     12          13          6   1250.0        1220   \n",
       "1928364     1936754     12          13          6    657.0         600   \n",
       "1928365     1936755     12          13          6   1007.0         847   \n",
       "1928366     1936756     12          13          6   1251.0        1240   \n",
       "1928367     1936757     12          13          6   1110.0        1103   \n",
       "\n",
       "         ArrTime  CRSArrTime UniqueCarrier  FlightNum  ... LateAircraftDelay  \\\n",
       "1928363   1617.0        1552            DL       1621  ...              22.0   \n",
       "1928364    904.0         749            DL       1631  ...               0.0   \n",
       "1928365   1149.0        1010            DL       1631  ...              79.0   \n",
       "1928366   1446.0        1437            DL       1639  ...               0.0   \n",
       "1928367   1413.0        1418            DL       1641  ...               0.0   \n",
       "\n",
       "         VelocityAir  DelayedArr  TotalDelayed  TaxiTime  Year       DateDep  \\\n",
       "1928363   369.795918           1          25.0      27.0  2008  2.008121e+11   \n",
       "1928364   227.244094           1          75.0      49.0  2008  2.008121e+11   \n",
       "1928365   255.185185           1          99.0      40.0  2008  2.008121e+11   \n",
       "1928366   278.086957           1           0.0      26.0  2008  2.008121e+11   \n",
       "1928367   426.341463           0           0.0      19.0  2008  2.008121e+11   \n",
       "\n",
       "           DateCRSDep       DateArr    DateCRSArr  \n",
       "1928363  200812131220  2.008121e+11  200812131552  \n",
       "1928364  200812130600  2.008121e+11  200812130749  \n",
       "1928365  200812130847  2.008121e+11  200812131010  \n",
       "1928366  200812131240  2.008121e+11  200812131437  \n",
       "1928367  200812131103  2.008121e+11  200812131418  \n",
       "\n",
       "[5 rows x 35 columns]"
      ]
     },
     "execution_count": 3,
     "metadata": {},
     "output_type": "execute_result"
    }
   ],
   "source": [
    "# Transforming data in cyclic for timestamp/timedate built-in functions. \n",
    "# we make use of the columns DepTime, CRSDepTime, ArrTime, CRSArrTime to know the hours for the date transformation.\n",
    "# we can notice that afterwards we can drop these columns.\n",
    "df['Year'] = 2008 # we add the column of year, previously erased, will be dropped afterwards.\n",
    "df['DateDep'] = df.DepTime + df.DayofMonth*10000 + df.Month*1000000 + df.Year*100000000\n",
    "df['DateCRSDep'] = df.CRSDepTime + df.DayofMonth*10000 + df.Month*1000000 + df.Year*100000000\n",
    "df['DateArr'] = df.ArrTime + df.DayofMonth*10000 + df.Month*1000000 + df.Year*100000000\n",
    "df['DateCRSArr'] = df.CRSArrTime + df.DayofMonth*10000 + df.Month*1000000 + df.Year*100000000\n",
    "\n",
    "df.tail()"
   ]
  },
  {
   "cell_type": "code",
   "execution_count": 4,
   "id": "55348008",
   "metadata": {},
   "outputs": [
    {
     "data": {
      "text/html": [
       "<div>\n",
       "<style scoped>\n",
       "    .dataframe tbody tr th:only-of-type {\n",
       "        vertical-align: middle;\n",
       "    }\n",
       "\n",
       "    .dataframe tbody tr th {\n",
       "        vertical-align: top;\n",
       "    }\n",
       "\n",
       "    .dataframe thead th {\n",
       "        text-align: right;\n",
       "    }\n",
       "</style>\n",
       "<table border=\"1\" class=\"dataframe\">\n",
       "  <thead>\n",
       "    <tr style=\"text-align: right;\">\n",
       "      <th></th>\n",
       "      <th>Unnamed: 0</th>\n",
       "      <th>Month</th>\n",
       "      <th>DayofMonth</th>\n",
       "      <th>DayOfWeek</th>\n",
       "      <th>DepTime</th>\n",
       "      <th>CRSDepTime</th>\n",
       "      <th>ArrTime</th>\n",
       "      <th>CRSArrTime</th>\n",
       "      <th>UniqueCarrier</th>\n",
       "      <th>FlightNum</th>\n",
       "      <th>...</th>\n",
       "      <th>TaxiTime</th>\n",
       "      <th>Year</th>\n",
       "      <th>DateDep</th>\n",
       "      <th>DateCRSDep</th>\n",
       "      <th>DateArr</th>\n",
       "      <th>DateCRSArr</th>\n",
       "      <th>UCarrier_en</th>\n",
       "      <th>TailNum_en</th>\n",
       "      <th>Origin_en</th>\n",
       "      <th>Dest_en</th>\n",
       "    </tr>\n",
       "  </thead>\n",
       "  <tbody>\n",
       "    <tr>\n",
       "      <th>0</th>\n",
       "      <td>0</td>\n",
       "      <td>1</td>\n",
       "      <td>3</td>\n",
       "      <td>4</td>\n",
       "      <td>2003.0</td>\n",
       "      <td>1955</td>\n",
       "      <td>2211.0</td>\n",
       "      <td>2225</td>\n",
       "      <td>WN</td>\n",
       "      <td>335</td>\n",
       "      <td>...</td>\n",
       "      <td>12.0</td>\n",
       "      <td>2008</td>\n",
       "      <td>2.008010e+11</td>\n",
       "      <td>200801031955</td>\n",
       "      <td>2.008010e+11</td>\n",
       "      <td>200801032225</td>\n",
       "      <td>17</td>\n",
       "      <td>3756</td>\n",
       "      <td>135</td>\n",
       "      <td>284</td>\n",
       "    </tr>\n",
       "    <tr>\n",
       "      <th>1</th>\n",
       "      <td>1</td>\n",
       "      <td>1</td>\n",
       "      <td>3</td>\n",
       "      <td>4</td>\n",
       "      <td>754.0</td>\n",
       "      <td>735</td>\n",
       "      <td>1002.0</td>\n",
       "      <td>1000</td>\n",
       "      <td>WN</td>\n",
       "      <td>3231</td>\n",
       "      <td>...</td>\n",
       "      <td>15.0</td>\n",
       "      <td>2008</td>\n",
       "      <td>2.008010e+11</td>\n",
       "      <td>200801030735</td>\n",
       "      <td>2.008010e+11</td>\n",
       "      <td>200801031000</td>\n",
       "      <td>17</td>\n",
       "      <td>4116</td>\n",
       "      <td>135</td>\n",
       "      <td>284</td>\n",
       "    </tr>\n",
       "    <tr>\n",
       "      <th>2</th>\n",
       "      <td>2</td>\n",
       "      <td>1</td>\n",
       "      <td>3</td>\n",
       "      <td>4</td>\n",
       "      <td>628.0</td>\n",
       "      <td>620</td>\n",
       "      <td>804.0</td>\n",
       "      <td>750</td>\n",
       "      <td>WN</td>\n",
       "      <td>448</td>\n",
       "      <td>...</td>\n",
       "      <td>20.0</td>\n",
       "      <td>2008</td>\n",
       "      <td>2.008010e+11</td>\n",
       "      <td>200801030620</td>\n",
       "      <td>2.008010e+11</td>\n",
       "      <td>200801030750</td>\n",
       "      <td>17</td>\n",
       "      <td>1948</td>\n",
       "      <td>140</td>\n",
       "      <td>48</td>\n",
       "    </tr>\n",
       "    <tr>\n",
       "      <th>3</th>\n",
       "      <td>3</td>\n",
       "      <td>1</td>\n",
       "      <td>3</td>\n",
       "      <td>4</td>\n",
       "      <td>1829.0</td>\n",
       "      <td>1755</td>\n",
       "      <td>1959.0</td>\n",
       "      <td>1925</td>\n",
       "      <td>WN</td>\n",
       "      <td>3920</td>\n",
       "      <td>...</td>\n",
       "      <td>13.0</td>\n",
       "      <td>2008</td>\n",
       "      <td>2.008010e+11</td>\n",
       "      <td>200801031755</td>\n",
       "      <td>2.008010e+11</td>\n",
       "      <td>200801031925</td>\n",
       "      <td>17</td>\n",
       "      <td>2129</td>\n",
       "      <td>140</td>\n",
       "      <td>48</td>\n",
       "    </tr>\n",
       "    <tr>\n",
       "      <th>4</th>\n",
       "      <td>4</td>\n",
       "      <td>1</td>\n",
       "      <td>3</td>\n",
       "      <td>4</td>\n",
       "      <td>1940.0</td>\n",
       "      <td>1915</td>\n",
       "      <td>2121.0</td>\n",
       "      <td>2110</td>\n",
       "      <td>WN</td>\n",
       "      <td>378</td>\n",
       "      <td>...</td>\n",
       "      <td>14.0</td>\n",
       "      <td>2008</td>\n",
       "      <td>2.008010e+11</td>\n",
       "      <td>200801031915</td>\n",
       "      <td>2.008010e+11</td>\n",
       "      <td>200801032110</td>\n",
       "      <td>17</td>\n",
       "      <td>3839</td>\n",
       "      <td>140</td>\n",
       "      <td>149</td>\n",
       "    </tr>\n",
       "  </tbody>\n",
       "</table>\n",
       "<p>5 rows × 39 columns</p>\n",
       "</div>"
      ],
      "text/plain": [
       "   Unnamed: 0  Month  DayofMonth  DayOfWeek  DepTime  CRSDepTime  ArrTime  \\\n",
       "0           0      1           3          4   2003.0        1955   2211.0   \n",
       "1           1      1           3          4    754.0         735   1002.0   \n",
       "2           2      1           3          4    628.0         620    804.0   \n",
       "3           3      1           3          4   1829.0        1755   1959.0   \n",
       "4           4      1           3          4   1940.0        1915   2121.0   \n",
       "\n",
       "   CRSArrTime UniqueCarrier  FlightNum  ... TaxiTime  Year       DateDep  \\\n",
       "0        2225            WN        335  ...     12.0  2008  2.008010e+11   \n",
       "1        1000            WN       3231  ...     15.0  2008  2.008010e+11   \n",
       "2         750            WN        448  ...     20.0  2008  2.008010e+11   \n",
       "3        1925            WN       3920  ...     13.0  2008  2.008010e+11   \n",
       "4        2110            WN        378  ...     14.0  2008  2.008010e+11   \n",
       "\n",
       "     DateCRSDep       DateArr    DateCRSArr UCarrier_en TailNum_en  Origin_en  \\\n",
       "0  200801031955  2.008010e+11  200801032225          17       3756        135   \n",
       "1  200801030735  2.008010e+11  200801031000          17       4116        135   \n",
       "2  200801030620  2.008010e+11  200801030750          17       1948        140   \n",
       "3  200801031755  2.008010e+11  200801031925          17       2129        140   \n",
       "4  200801031915  2.008010e+11  200801032110          17       3839        140   \n",
       "\n",
       "   Dest_en  \n",
       "0      284  \n",
       "1      284  \n",
       "2       48  \n",
       "3       48  \n",
       "4      149  \n",
       "\n",
       "[5 rows x 39 columns]"
      ]
     },
     "execution_count": 4,
     "metadata": {},
     "output_type": "execute_result"
    }
   ],
   "source": [
    "# we also transform the categorical/object type variable\n",
    "encode = LabelEncoder()\n",
    "df['UCarrier_en'] = encode.fit_transform(df['UniqueCarrier'])\n",
    "df['TailNum_en'] = encode.fit_transform(df['TailNum'])\n",
    "df['Origin_en'] = encode.fit_transform(df['Origin'])\n",
    "df['Dest_en'] = encode.fit_transform(df['Dest'])\n",
    "\n",
    "df.head()"
   ]
  },
  {
   "cell_type": "code",
   "execution_count": 5,
   "id": "3041bf00",
   "metadata": {},
   "outputs": [],
   "source": [
    "df.drop(['Unnamed: 0', 'Month', 'DayofMonth', 'DayOfWeek', 'DepTime', 'CRSDepTime', 'ArrTime', 'CRSArrTime', \n",
    "         'UniqueCarrier', 'TailNum', 'Origin', 'Dest', 'Year'], axis=1, inplace=True)"
   ]
  },
  {
   "cell_type": "code",
   "execution_count": 6,
   "id": "88a945e5",
   "metadata": {
    "scrolled": false
   },
   "outputs": [
    {
     "name": "stdout",
     "output_type": "stream",
     "text": [
      "<class 'pandas.core.frame.DataFrame'>\n",
      "RangeIndex: 1928368 entries, 0 to 1928367\n",
      "Data columns (total 26 columns):\n",
      " #   Column             Dtype  \n",
      "---  ------             -----  \n",
      " 0   FlightNum          int64  \n",
      " 1   ActualElapsedTime  float64\n",
      " 2   CRSElapsedTime     float64\n",
      " 3   AirTime            float64\n",
      " 4   ArrDelay           float64\n",
      " 5   DepDelay           float64\n",
      " 6   Distance           int64  \n",
      " 7   TaxiIn             float64\n",
      " 8   TaxiOut            float64\n",
      " 9   CarrierDelay       float64\n",
      " 10  WeatherDelay       float64\n",
      " 11  NASDelay           float64\n",
      " 12  SecurityDelay      float64\n",
      " 13  LateAircraftDelay  float64\n",
      " 14  VelocityAir        float64\n",
      " 15  DelayedArr         int64  \n",
      " 16  TotalDelayed       float64\n",
      " 17  TaxiTime           float64\n",
      " 18  DateDep            float64\n",
      " 19  DateCRSDep         int64  \n",
      " 20  DateArr            float64\n",
      " 21  DateCRSArr         int64  \n",
      " 22  UCarrier_en        int64  \n",
      " 23  TailNum_en         int64  \n",
      " 24  Origin_en          int64  \n",
      " 25  Dest_en            int64  \n",
      "dtypes: float64(17), int64(9)\n",
      "memory usage: 382.5 MB\n"
     ]
    }
   ],
   "source": [
    "df.info()"
   ]
  },
  {
   "cell_type": "markdown",
   "id": "f9255263",
   "metadata": {},
   "source": [
    "> Note: For this exercise until necessary we will be using all columns of the dataset, even thought we know that date columns, time columns, and the categorical (but DelayedArr) are independent of the all the others, thus not very interesting for this dataset. "
   ]
  },
  {
   "cell_type": "markdown",
   "id": "4253a367",
   "metadata": {},
   "source": [
    "# Nivell 1"
   ]
  },
  {
   "cell_type": "markdown",
   "id": "530a3540",
   "metadata": {},
   "source": [
    "## Exercici 1: Agrupa els diferents vols utilitzant l'algorisme de K-means.\n"
   ]
  },
  {
   "cell_type": "markdown",
   "id": "a25f326d",
   "metadata": {},
   "source": [
    "We make a copy of the original dataset before continuing, since the algorithm K-means will modify it quantitively.\n",
    "\n",
    "In this exercise we will approach the K-Means algorithm in differents ways, one to group the flights by similarity to each other, the second way, like a classifier algorithm (KNeighobours), to cluster the flights if they have been late or earlier/in time and use it as predictor."
   ]
  },
  {
   "cell_type": "code",
   "execution_count": 7,
   "id": "9edacb3f",
   "metadata": {},
   "outputs": [],
   "source": [
    "df2 = df.copy()"
   ]
  },
  {
   "cell_type": "code",
   "execution_count": 8,
   "id": "917a7020",
   "metadata": {
    "scrolled": true
   },
   "outputs": [
    {
     "data": {
      "text/plain": [
       "Index(['FlightNum', 'ActualElapsedTime', 'CRSElapsedTime', 'AirTime',\n",
       "       'ArrDelay', 'DepDelay', 'Distance', 'TaxiIn', 'TaxiOut', 'CarrierDelay',\n",
       "       'WeatherDelay', 'NASDelay', 'SecurityDelay', 'LateAircraftDelay',\n",
       "       'VelocityAir', 'DelayedArr', 'TotalDelayed', 'TaxiTime', 'DateDep',\n",
       "       'DateCRSDep', 'DateArr', 'DateCRSArr', 'UCarrier_en', 'TailNum_en',\n",
       "       'Origin_en', 'Dest_en'],\n",
       "      dtype='object')"
      ]
     },
     "execution_count": 8,
     "metadata": {},
     "output_type": "execute_result"
    }
   ],
   "source": [
    "df2.columns"
   ]
  },
  {
   "cell_type": "markdown",
   "id": "0d7502b7",
   "metadata": {},
   "source": [
    "**Naive Clustering**\n",
    "\n",
    "Before begining with the clustering, we need to know how many clusters we need for our system. To do so, we will use the Elbow method techinque.\n",
    "\n",
    "The Elbow method, it consists in seeing which is the integer that reduces the Sum of Squares distances to the closest centroids (intertia_ function on k-means algorithm), i.e., the integer that is tangent to the curve."
   ]
  },
  {
   "cell_type": "code",
   "execution_count": 12,
   "id": "18679bc9",
   "metadata": {},
   "outputs": [],
   "source": [
    "# Elbow method to determine number of centroids needed.\n",
    "# we set up a range to 15 clusters, although we have 26 features, we supose we don't need this much resolution.\n",
    "#\n",
    "elbow = []\n",
    "\n",
    "for i in range(1,15):\n",
    "    kmeans = KMeans(n_clusters=i, random_state=42).fit(df2)\n",
    "    elbow.append(kmeans.inertia_)"
   ]
  },
  {
   "cell_type": "code",
   "execution_count": 13,
   "id": "b0d9a888",
   "metadata": {},
   "outputs": [
    {
     "data": {
      "image/png": "[encoded data removed]",
      "text/plain": [
       "<Figure size 432x288 with 1 Axes>"
      ]
     },
     "metadata": {
      "needs_background": "light"
     },
     "output_type": "display_data"
    }
   ],
   "source": [
    "# figure of elbow method:\n",
    "x = range(1,15)\n",
    "plt.plot(x, elbow)\n",
    "plt.xlabel('num of clusters')\n",
    "plt.ylabel('Sum of squared distances of samples to closest cluster')\n",
    "plt.xticks(x)\n",
    "plt.show()"
   ]
  },
  {
   "cell_type": "markdown",
   "id": "c3e5b228",
   "metadata": {},
   "source": [
    "The elbow method tells us that the optimal number of clusters i where the curve changes its slope (the tangent). In this case it corresponds to the value 3, thus we will use k-means method for three clusters."
   ]
  },
  {
   "cell_type": "markdown",
   "id": "b34b4787",
   "metadata": {},
   "source": [
    "We do the same but know using Silhoutte score, we need to take into account that the computational time of this score increases exponentially as the system grows and we increase the number of clusters [S11T02](https://github.com/isaura-o/ITAcademia/blob/main/Sprint11/S11T02_Supp_Material.ipynb)."
   ]
  },
  {
   "cell_type": "code",
   "execution_count": 55,
   "id": "d3d8d406",
   "metadata": {},
   "outputs": [],
   "source": [
    "# we take a 10% of the sample (Silhoutte takes around 107 seconds to calculate it for 100000 points.)\n",
    "dfsamp = df2.sample(frac=0.1)"
   ]
  },
  {
   "cell_type": "code",
   "execution_count": 56,
   "id": "ca576988",
   "metadata": {},
   "outputs": [],
   "source": [
    "ScSil = []\n",
    "for i in range(2,6):\n",
    "    \n",
    "    kmeans = KMeans(n_clusters=i, random_state=42).fit(dfsamp)\n",
    "    labels = kmeans.labels_ \n",
    "    \n",
    "    ScSil.append(metrics.silhouette_score(dfsamp, labels, metric='euclidean'))\n"
   ]
  },
  {
   "cell_type": "code",
   "execution_count": 62,
   "id": "e315d61c",
   "metadata": {},
   "outputs": [
    {
     "data": {
      "image/png": "[encoded data removed]",
      "text/plain": [
       "<Figure size 432x288 with 1 Axes>"
      ]
     },
     "metadata": {
      "needs_background": "light"
     },
     "output_type": "display_data"
    }
   ],
   "source": [
    "# figure of Silhouette score:\n",
    "x = range(2,6) # remember that while range is 2 to 6 means that we get 2 to 5 !!!\n",
    "plt.plot(x, ScSil)\n",
    "plt.xlabel('num of clusters')\n",
    "plt.ylabel('Silhouette Score')\n",
    "plt.xticks(np.arange(min(x), max(x)+1, 1.0))\n",
    "plt.show()"
   ]
  },
  {
   "cell_type": "markdown",
   "id": "8dd1ba87",
   "metadata": {},
   "source": [
    "Silhoutte Score ranges from $[-1,1]$, where 1 indicates that the clusters are dense and well seperated and 0 means that the clusters are overlapping. Negatives values indicate that the clusters had wrong or incorrect data, points that don't belong to them.\n",
    "\n",
    "In the graph above, we can see that the values of the clusters are around 0.6-0.65 indicating that we have clusters more or less dense and separated, but just. Even more, the higher score is for 5 clusters, which is around 0.65. Thus the most optimal number of clusters for this system is 5. But in the exploration of the dataset below we will use the third best cluster number, 3, since the Elbow method has deemed it more appropiate."
   ]
  },
  {
   "cell_type": "markdown",
   "id": "f34b3d82",
   "metadata": {},
   "source": [
    "Let's calculate the distances to the centroids of the clusters with all columns of the dataset, in which the only treatment has been relabel the object type data."
   ]
  },
  {
   "cell_type": "code",
   "execution_count": 17,
   "id": "12be5916",
   "metadata": {},
   "outputs": [],
   "source": [
    "kmeans = KMeans(n_clusters=3, random_state=42).fit(df2)"
   ]
  },
  {
   "cell_type": "code",
   "execution_count": 18,
   "id": "892aead0",
   "metadata": {},
   "outputs": [
    {
     "data": {
      "text/plain": [
       "array([0, 0, 0, ..., 2, 2, 2], dtype=int32)"
      ]
     },
     "execution_count": 18,
     "metadata": {},
     "output_type": "execute_result"
    }
   ],
   "source": [
    "# labels:\n",
    "kmeans.labels_"
   ]
  },
  {
   "cell_type": "code",
   "execution_count": 19,
   "id": "b9831401",
   "metadata": {},
   "outputs": [
    {
     "data": {
      "text/plain": [
       "array([[2.20143948e+03, 1.32613667e+02, 1.33196130e+02, 1.07805733e+02,\n",
       "        4.22845818e+01, 4.28670389e+01, 7.54855843e+02, 6.73776840e+00,\n",
       "        1.80701657e+01, 1.26000512e+01, 2.35312580e+00, 9.26490492e+00,\n",
       "        6.29179641e-02, 1.67544085e+01, 3.13414144e+02, 9.11853455e-01,\n",
       "        4.10354084e+01, 2.48079341e+01, 2.00802604e+11, 2.00802604e+11,\n",
       "        2.00802604e+11, 2.00802604e+11, 1.11497788e+01, 2.67330678e+03,\n",
       "        1.48179278e+02, 1.51314042e+02],\n",
       "       [2.14167964e+03, 1.34981769e+02, 1.35748522e+02, 1.09548100e+02,\n",
       "        4.32473799e+01, 4.40141329e+01, 7.82275234e+02, 6.82033952e+00,\n",
       "        1.86133303e+01, 1.25130335e+01, 2.53045317e+00, 1.04747137e+01,\n",
       "        5.84491821e-02, 1.63238860e+01, 3.17808229e+02, 9.12611842e-01,\n",
       "        4.19005356e+01, 2.54336699e+01, 2.00806665e+11, 2.00806665e+11,\n",
       "        2.00806665e+11, 2.00806665e+11, 1.11114458e+01, 2.70249079e+03,\n",
       "        1.45374750e+02, 1.49290050e+02],\n",
       "       [2.21840500e+03, 1.31989952e+02, 1.33499139e+02, 1.07202329e+02,\n",
       "        4.06329822e+01, 4.21421689e+01, 7.55566743e+02, 6.90489679e+00,\n",
       "        1.78827268e+01, 1.19847621e+01, 2.27125545e+00, 9.32467319e+00,\n",
       "        5.14956808e-02, 1.58603154e+01, 3.14274984e+02, 8.95096479e-01,\n",
       "        3.94925018e+01, 2.47876236e+01, 2.00810985e+11, 2.00810985e+11,\n",
       "        2.00810986e+11, 2.00810986e+11, 1.11027617e+01, 2.77540840e+03,\n",
       "        1.45620854e+02, 1.48978016e+02]])"
      ]
     },
     "execution_count": 19,
     "metadata": {},
     "output_type": "execute_result"
    }
   ],
   "source": [
    "# centroids \n",
    "kmeans.cluster_centers_"
   ]
  },
  {
   "cell_type": "code",
   "execution_count": 20,
   "id": "5fc6288b",
   "metadata": {},
   "outputs": [],
   "source": [
    "df2['Centroid_KM'] = kmeans.predict(df2)"
   ]
  },
  {
   "cell_type": "code",
   "execution_count": 21,
   "id": "48ba6412",
   "metadata": {},
   "outputs": [
    {
     "data": {
      "image/png": "[encoded data removed]",
      "text/plain": [
       "<Figure size 432x288 with 1 Axes>"
      ]
     },
     "metadata": {
      "needs_background": "light"
     },
     "output_type": "display_data"
    }
   ],
   "source": [
    "pd.Series(df2['Centroid_KM']).value_counts().plot.bar()\n",
    "plt.xlabel('Cluster number')\n",
    "plt.ylabel('Number of flights in cluster')\n",
    "plt.show()"
   ]
  },
  {
   "cell_type": "markdown",
   "id": "16de8828",
   "metadata": {},
   "source": [
    "Next, to see more of the power of clustering, now we reduce the dimensionality of our dataset. We will use PCA to reduce its dimensionality, to 2 dimensions, and we only will use features that are not categorical. Since PCA usually aims to answer a question, as: is the flight late or not, the categorical features would have need to be normalized like on get_dummies, but since most of them are not dependent of the delay of a flight we will extract them.\n",
    "\n",
    "We also use a new dataset, since the last has been modified by KMeans."
   ]
  },
  {
   "cell_type": "code",
   "execution_count": 22,
   "id": "47aa5cad",
   "metadata": {},
   "outputs": [],
   "source": [
    "df3 = df.copy()"
   ]
  },
  {
   "cell_type": "code",
   "execution_count": 23,
   "id": "3907eb76",
   "metadata": {},
   "outputs": [
    {
     "data": {
      "text/plain": [
       "Index(['FlightNum', 'ActualElapsedTime', 'CRSElapsedTime', 'AirTime',\n",
       "       'ArrDelay', 'DepDelay', 'Distance', 'TaxiIn', 'TaxiOut', 'CarrierDelay',\n",
       "       'WeatherDelay', 'NASDelay', 'SecurityDelay', 'LateAircraftDelay',\n",
       "       'VelocityAir', 'DelayedArr', 'TotalDelayed', 'TaxiTime', 'DateDep',\n",
       "       'DateCRSDep', 'DateArr', 'DateCRSArr', 'UCarrier_en', 'TailNum_en',\n",
       "       'Origin_en', 'Dest_en'],\n",
       "      dtype='object')"
      ]
     },
     "execution_count": 23,
     "metadata": {},
     "output_type": "execute_result"
    }
   ],
   "source": [
    "df3.columns"
   ]
  },
  {
   "cell_type": "code",
   "execution_count": 24,
   "id": "bf4328fa",
   "metadata": {},
   "outputs": [
    {
     "data": {
      "text/plain": [
       "Index(['ActualElapsedTime', 'CRSElapsedTime', 'AirTime', 'ArrDelay',\n",
       "       'DepDelay', 'Distance', 'TaxiIn', 'TaxiOut', 'CarrierDelay',\n",
       "       'WeatherDelay', 'NASDelay', 'SecurityDelay', 'LateAircraftDelay',\n",
       "       'VelocityAir', 'DelayedArr', 'TotalDelayed', 'TaxiTime'],\n",
       "      dtype='object')"
      ]
     },
     "execution_count": 24,
     "metadata": {},
     "output_type": "execute_result"
    }
   ],
   "source": [
    "df3.drop(['FlightNum', 'DateDep', 'DateCRSDep', 'DateArr', 'DateCRSArr', 'UCarrier_en', 'TailNum_en', 'Origin_en', \n",
    "         'Dest_en'], axis=1, inplace=True)\n",
    "df3.columns"
   ]
  },
  {
   "cell_type": "code",
   "execution_count": 25,
   "id": "b62fd2ea",
   "metadata": {},
   "outputs": [
    {
     "data": {
      "text/plain": [
       "Index(['ActualElapsedTime', 'CRSElapsedTime', 'AirTime', 'ArrDelay',\n",
       "       'DepDelay', 'Distance', 'TaxiIn', 'TaxiOut', 'CarrierDelay',\n",
       "       'WeatherDelay', 'NASDelay', 'SecurityDelay', 'LateAircraftDelay',\n",
       "       'VelocityAir', 'TotalDelayed', 'TaxiTime'],\n",
       "      dtype='object')"
      ]
     },
     "execution_count": 25,
     "metadata": {},
     "output_type": "execute_result"
    }
   ],
   "source": [
    "X = df3.drop('DelayedArr', axis = 1)\n",
    "X.columns"
   ]
  },
  {
   "cell_type": "code",
   "execution_count": 26,
   "id": "1c58078f",
   "metadata": {},
   "outputs": [
    {
     "data": {
      "text/plain": [
       "(1928368, 2)"
      ]
     },
     "execution_count": 26,
     "metadata": {},
     "output_type": "execute_result"
    }
   ],
   "source": [
    "# reduces the system to a 2-d, do pipeline to reduce system:\n",
    "pipe1 = pipeline.Pipeline([('scaler', StandardScaler()), ('pca', PCA(n_components=2))])\n",
    "\n",
    "dpca = pipe1.fit_transform(X)\n",
    "dpca.shape"
   ]
  },
  {
   "cell_type": "code",
   "execution_count": 27,
   "id": "61112061",
   "metadata": {},
   "outputs": [],
   "source": [
    "# now we run KMeans:\n",
    "kmeans = KMeans(n_clusters=3, random_state=42).fit(dpca)\n",
    "label = kmeans.predict(dpca)"
   ]
  },
  {
   "cell_type": "code",
   "execution_count": 28,
   "id": "b1149ba0",
   "metadata": {},
   "outputs": [
    {
     "data": {
      "image/png": "[encoded data removed]",
      "text/plain": [
       "<Figure size 720x360 with 1 Axes>"
      ]
     },
     "metadata": {
      "needs_background": "light"
     },
     "output_type": "display_data"
    }
   ],
   "source": [
    "# graph with the labels:\n",
    "nlabels = np.unique(label)\n",
    "centroids = kmeans.cluster_centers_\n",
    "\n",
    "plt.figure(figsize=(10, 5))\n",
    "for i in nlabels:\n",
    "    plt.scatter(dpca[label == i , 0] , dpca[label == i , 1] , label = i)\n",
    "plt.scatter(centroids[:,0], centroids[:,1], s=50, color='k')\n",
    "plt.legend()\n",
    "plt.show()"
   ]
  },
  {
   "cell_type": "markdown",
   "id": "fc51187b",
   "metadata": {},
   "source": [
    "This figure is how the 3 clusters look like on our data, we can see that the cluster are overlapping. Looking at the graph we cannot say which flights correspond to each cluster, the k-means algorithm only shows us the observations are similar to each other, when we pick 3 clusters only, since there is overlapping."
   ]
  },
  {
   "cell_type": "markdown",
   "id": "d29029d4",
   "metadata": {},
   "source": [
    "**Using K-Means as predictor**"
   ]
  },
  {
   "cell_type": "markdown",
   "id": "b3e73e19",
   "metadata": {},
   "source": [
    "Now we will twist the problem a bit more, we will use the K-Means algorithm to predict if a flight has been late or not, as we had done in the last sprints.\n",
    "\n",
    "Now we will separate the dataset into 2 clusters, since we are only interested in late/early&onTime arrivals. \n",
    "\n",
    "To do so, the methodology is very similar, we will define our variables X and y, and then do the prediction with the algorithm. We do not need to split in train/test since we do need to train the algorithm before it does the classification into clusters.\n",
    "\n",
    "> Note we take into account that we are using ArrDelay and DepDelay columns if not the KMeans algorithm will have a hard time trying to infer correctly the delayed. To see results: [S11T02](https://github.com/isaura-o/ITAcademia/blob/main/Sprint11/S11T02_Supp_Material.ipynb) (Supp material)."
   ]
  },
  {
   "cell_type": "markdown",
   "id": "af0e3144",
   "metadata": {},
   "source": [
    "Since the number of clustering we will use will not change for the three subexamples below, we can define the kMeans here:"
   ]
  },
  {
   "cell_type": "code",
   "execution_count": 9,
   "id": "33903fd1",
   "metadata": {},
   "outputs": [],
   "source": [
    "# first we use a new copy!\n",
    "df4 = df.copy()"
   ]
  },
  {
   "cell_type": "code",
   "execution_count": 10,
   "id": "c945f6d5",
   "metadata": {},
   "outputs": [
    {
     "data": {
      "text/plain": [
       "Index(['ActualElapsedTime', 'CRSElapsedTime', 'AirTime', 'ArrDelay',\n",
       "       'DepDelay', 'Distance', 'TaxiIn', 'TaxiOut', 'CarrierDelay',\n",
       "       'WeatherDelay', 'NASDelay', 'SecurityDelay', 'LateAircraftDelay',\n",
       "       'VelocityAir', 'DelayedArr', 'TotalDelayed', 'TaxiTime'],\n",
       "      dtype='object')"
      ]
     },
     "execution_count": 10,
     "metadata": {},
     "output_type": "execute_result"
    }
   ],
   "source": [
    "# Drop the categorical values for X:\n",
    "df4.drop(['FlightNum', 'DateDep', 'DateCRSDep', 'DateArr', 'DateCRSArr', 'UCarrier_en', 'TailNum_en', 'Origin_en', \n",
    "         'Dest_en'], axis=1, inplace=True)\n",
    "df4.columns"
   ]
  },
  {
   "cell_type": "code",
   "execution_count": 11,
   "id": "cd540070",
   "metadata": {},
   "outputs": [
    {
     "data": {
      "text/plain": [
       "(1928368, 17)"
      ]
     },
     "execution_count": 11,
     "metadata": {},
     "output_type": "execute_result"
    }
   ],
   "source": [
    "df4.shape"
   ]
  },
  {
   "cell_type": "code",
   "execution_count": 12,
   "id": "67ed8116",
   "metadata": {},
   "outputs": [],
   "source": [
    "# 2 cluster kmeans:\n",
    "kmeans2 = KMeans(n_clusters=2, random_state=42)"
   ]
  },
  {
   "cell_type": "markdown",
   "id": "8cdfb5fc",
   "metadata": {},
   "source": [
    "*Dataset non scaled*"
   ]
  },
  {
   "cell_type": "code",
   "execution_count": 13,
   "id": "12c7e952",
   "metadata": {},
   "outputs": [],
   "source": [
    "# Define the variables X and y\n",
    "X = np.array(df4.drop(['DelayedArr'], axis=1))\n",
    "y = np.array(df4['DelayedArr']).reshape(-1,1) "
   ]
  },
  {
   "cell_type": "code",
   "execution_count": 14,
   "id": "27740e26",
   "metadata": {},
   "outputs": [
    {
     "name": "stdout",
     "output_type": "stream",
     "text": [
      "Accuracy: 0.7815468831675282\n",
      "adjusted rand score:  0.07501869770593164\n",
      "normalized MI: 0.014526589544144016\n",
      "              precision    recall  f1-score   support\n",
      "\n",
      "           0       0.16      0.33      0.22    177916\n",
      "           1       0.92      0.83      0.87   1750452\n",
      "\n",
      "    accuracy                           0.78   1928368\n",
      "   macro avg       0.54      0.58      0.54   1928368\n",
      "weighted avg       0.85      0.78      0.81   1928368\n",
      "\n",
      "\n",
      "\n",
      "\n"
     ]
    },
    {
     "data": {
      "text/html": [
       "<div>\n",
       "<style scoped>\n",
       "    .dataframe tbody tr th:only-of-type {\n",
       "        vertical-align: middle;\n",
       "    }\n",
       "\n",
       "    .dataframe tbody tr th {\n",
       "        vertical-align: top;\n",
       "    }\n",
       "\n",
       "    .dataframe thead th {\n",
       "        text-align: right;\n",
       "    }\n",
       "</style>\n",
       "<table border=\"1\" class=\"dataframe\">\n",
       "  <thead>\n",
       "    <tr style=\"text-align: right;\">\n",
       "      <th>Predicted</th>\n",
       "      <th>0</th>\n",
       "      <th>1</th>\n",
       "      <th>All</th>\n",
       "    </tr>\n",
       "    <tr>\n",
       "      <th>True</th>\n",
       "      <th></th>\n",
       "      <th></th>\n",
       "      <th></th>\n",
       "    </tr>\n",
       "  </thead>\n",
       "  <tbody>\n",
       "    <tr>\n",
       "      <th>0</th>\n",
       "      <td>58001</td>\n",
       "      <td>119915</td>\n",
       "      <td>177916</td>\n",
       "    </tr>\n",
       "    <tr>\n",
       "      <th>1</th>\n",
       "      <td>301343</td>\n",
       "      <td>1449109</td>\n",
       "      <td>1750452</td>\n",
       "    </tr>\n",
       "    <tr>\n",
       "      <th>All</th>\n",
       "      <td>359344</td>\n",
       "      <td>1569024</td>\n",
       "      <td>1928368</td>\n",
       "    </tr>\n",
       "  </tbody>\n",
       "</table>\n",
       "</div>"
      ],
      "text/plain": [
       "Predicted       0        1      All\n",
       "True                               \n",
       "0           58001   119915   177916\n",
       "1          301343  1449109  1750452\n",
       "All        359344  1569024  1928368"
      ]
     },
     "execution_count": 14,
     "metadata": {},
     "output_type": "execute_result"
    }
   ],
   "source": [
    "# do the fitting with X_Train:\n",
    "knsc = kmeans2.fit_transform(X)\n",
    "\n",
    "# first fitting to train algorithm:\n",
    "labelNS = kmeans2.predict(X)\n",
    "\n",
    "# compare:\n",
    "# score: we will use accuracy score, since it counts straighforward the values correctly inferred.\n",
    "print('Accuracy:', metrics.accuracy_score(y, labelNS))\n",
    "print('adjusted rand score: ', metrics.adjusted_rand_score(y.ravel(), labelNS.ravel()))\n",
    "print('normalized MI:', metrics.normalized_mutual_info_score (y.ravel(), labelNS.ravel()))\n",
    "print(metrics.classification_report(y.ravel(), labelNS))\n",
    "\n",
    "print('\\n\\n')\n",
    "pd.crosstab(y.ravel(), labelNS, rownames=['True'], colnames=['Predicted'], margins=True)"
   ]
  },
  {
   "cell_type": "markdown",
   "id": "3fc03f40",
   "metadata": {},
   "source": [
    "The accuracy tells us that doesn't seem that the data has been inferred randomly, that it has found some pattern, but the adjusted rand index is very low, which means that the labelling may be done randomly, but because of the accuracy we may suspect that the labeling it is independent of the data we feed the algorithm.\n",
    "\n",
    "We can see that while it can't predict well the earlier arrivals, and the accuracy points that the algorithm works mostly random. Even if it has predicted a $33\\%$ as delayed when it was earlier/on time, it has very low precision-recall. \n",
    "\n",
    "The algorithm as it is able to infer correcty mostly of the delayed flights and has a low score of not well predicted delays, it is why the precision-recall scores are high for delays inferred."
   ]
  },
  {
   "cell_type": "code",
   "execution_count": 17,
   "id": "82d9bc09",
   "metadata": {},
   "outputs": [
    {
     "data": {
      "image/png": "[encoded data removed]",
      "text/plain": [
       "<Figure size 720x360 with 1 Axes>"
      ]
     },
     "metadata": {
      "needs_background": "light"
     },
     "output_type": "display_data"
    }
   ],
   "source": [
    "# graph with the labels:\n",
    "nlabels = np.unique(labelNS)\n",
    "centroids = kmeans2.cluster_centers_\n",
    "\n",
    "plt.figure(figsize=(10, 5))\n",
    "for i in nlabels:\n",
    "    plt.scatter(X[labelNS == i , 0] , X[labelNS == i , 1] , label = i)\n",
    "plt.scatter(centroids[:,0], centroids[:,1], s=50, color='k')\n",
    "plt.legend()\n",
    "plt.show()"
   ]
  },
  {
   "cell_type": "markdown",
   "id": "6f85a492",
   "metadata": {},
   "source": [
    "In this figure we can see that label 0 and label 1 are overlapping which indicates the high values incorrectly inferred as delayed flights when they might be on time. Also, we found orange points on blue zone and vice versa, indicating that even if the flight had the caracteristics of being a delay(or earlier) the algorithm has not take it into account.\n",
    "\n",
    "We want to check if the algorithm might have inferred label 0 as the delayed flights and with label 1 the flights on time. Has the algorithm mixed the values?"
   ]
  },
  {
   "cell_type": "code",
   "execution_count": 62,
   "id": "8e8334f3",
   "metadata": {},
   "outputs": [
    {
     "name": "stdout",
     "output_type": "stream",
     "text": [
      "Accuracy: 0.21845311683247182\n",
      "adjusted rand score:  0.07501869770593164\n",
      "              precision    recall  f1-score   support\n",
      "\n",
      "           0       0.08      0.67      0.14    177916\n",
      "           1       0.84      0.17      0.29   1750452\n",
      "\n",
      "    accuracy                           0.22   1928368\n",
      "   macro avg       0.46      0.42      0.21   1928368\n",
      "weighted avg       0.77      0.22      0.27   1928368\n",
      "\n",
      "\n",
      "\n",
      "\n"
     ]
    },
    {
     "data": {
      "text/html": [
       "<div>\n",
       "<style scoped>\n",
       "    .dataframe tbody tr th:only-of-type {\n",
       "        vertical-align: middle;\n",
       "    }\n",
       "\n",
       "    .dataframe tbody tr th {\n",
       "        vertical-align: top;\n",
       "    }\n",
       "\n",
       "    .dataframe thead th {\n",
       "        text-align: right;\n",
       "    }\n",
       "</style>\n",
       "<table border=\"1\" class=\"dataframe\">\n",
       "  <thead>\n",
       "    <tr style=\"text-align: right;\">\n",
       "      <th>Predicted</th>\n",
       "      <th>0</th>\n",
       "      <th>1</th>\n",
       "      <th>All</th>\n",
       "    </tr>\n",
       "    <tr>\n",
       "      <th>True</th>\n",
       "      <th></th>\n",
       "      <th></th>\n",
       "      <th></th>\n",
       "    </tr>\n",
       "  </thead>\n",
       "  <tbody>\n",
       "    <tr>\n",
       "      <th>0</th>\n",
       "      <td>119915</td>\n",
       "      <td>58001</td>\n",
       "      <td>177916</td>\n",
       "    </tr>\n",
       "    <tr>\n",
       "      <th>1</th>\n",
       "      <td>1449109</td>\n",
       "      <td>301343</td>\n",
       "      <td>1750452</td>\n",
       "    </tr>\n",
       "    <tr>\n",
       "      <th>All</th>\n",
       "      <td>1569024</td>\n",
       "      <td>359344</td>\n",
       "      <td>1928368</td>\n",
       "    </tr>\n",
       "  </tbody>\n",
       "</table>\n",
       "</div>"
      ],
      "text/plain": [
       "Predicted        0       1      All\n",
       "True                               \n",
       "0           119915   58001   177916\n",
       "1          1449109  301343  1750452\n",
       "All        1569024  359344  1928368"
      ]
     },
     "execution_count": 62,
     "metadata": {},
     "output_type": "execute_result"
    }
   ],
   "source": [
    "# algorithm analysis taking into account that now 0 is 1 and 1 is 0 (aka 0 is delay, 1 is on time)\n",
    "ilabelNS = 1 - labelNS\n",
    "\n",
    "# compare:\n",
    "# score: we will use accuracy score, since it counts straighforward the values correctly inferred.\n",
    "print('Accuracy:', metrics.accuracy_score(y, ilabelNS))\n",
    "print('adjusted rand score: ', metrics.adjusted_rand_score(y.ravel(), ilabelNS.ravel()))\n",
    "print(metrics.classification_report(y.ravel(), ilabelNS))\n",
    "print('\\n\\n')\n",
    "pd.crosstab(y.ravel(), ilabelNS, rownames=['True'], colnames=['Predicted'], margins=True)"
   ]
  },
  {
   "cell_type": "markdown",
   "id": "ff6c2aa8",
   "metadata": {},
   "source": [
    "If the values had been mixed, then the algorithm has troubles to infer the delays, precision low, but also it has troubles to correctly determine if a flight has been on time/earlier. In this case the accuracy has decrease quantetively but the adjusted rand score is the same (this score is only evaluating the performance of the data in 2 clusters).\n",
    "\n",
    "Actually, this analysis doesn't give us any information if the data with label 0 is late or is on time and viceversa."
   ]
  },
  {
   "cell_type": "markdown",
   "id": "8ad30b0a",
   "metadata": {},
   "source": [
    "*Dataset scaled*"
   ]
  },
  {
   "cell_type": "code",
   "execution_count": 18,
   "id": "d9199e23",
   "metadata": {},
   "outputs": [
    {
     "data": {
      "text/plain": [
       "(1928368, 17)"
      ]
     },
     "execution_count": 18,
     "metadata": {},
     "output_type": "execute_result"
    }
   ],
   "source": [
    "df4.shape"
   ]
  },
  {
   "cell_type": "code",
   "execution_count": 19,
   "id": "48e789e9",
   "metadata": {},
   "outputs": [],
   "source": [
    "# Define the variables X and y\n",
    "X = np.array(df4.drop(['DelayedArr'], axis=1))\n",
    "y = np.array(df4['DelayedArr']).reshape(-1,1) "
   ]
  },
  {
   "cell_type": "code",
   "execution_count": 20,
   "id": "e7c15da4",
   "metadata": {},
   "outputs": [
    {
     "data": {
      "text/plain": [
       "(1928368, 16)"
      ]
     },
     "execution_count": 20,
     "metadata": {},
     "output_type": "execute_result"
    }
   ],
   "source": [
    "X.shape"
   ]
  },
  {
   "cell_type": "code",
   "execution_count": 53,
   "id": "e925749a",
   "metadata": {},
   "outputs": [
    {
     "data": {
      "image/png": "[encoded data removed]",
      "text/plain": [
       "<Figure size 720x360 with 1 Axes>"
      ]
     },
     "metadata": {},
     "output_type": "display_data"
    }
   ],
   "source": [
    "# we want to take a look at the outliers to see if we can use MinMaxScaler or better use RobustScaler.\n",
    "data = pd.melt(df4)\n",
    "\n",
    "sns.set(rc={\"figure.figsize\":(10, 5)})\n",
    "sns.boxplot(data=data, y='variable', x='value')\n",
    "plt.show()"
   ]
  },
  {
   "cell_type": "markdown",
   "id": "b649ac87",
   "metadata": {},
   "source": [
    "We see that the outliers are important in all the non categorical variables, we need a scaler that is agressive enough to treat this data and that not only changes the scale (we may found that there is inconsistencies with the scaled values, like in distances, if we only apply a change of scale), for this we will use RobustScaler instead of MinMaxScaler or StandardScaler."
   ]
  },
  {
   "cell_type": "code",
   "execution_count": 21,
   "id": "b8031ebb",
   "metadata": {},
   "outputs": [],
   "source": [
    "# Use robust scaler to scale:\n",
    "X_scaled = RobustScaler().fit_transform(X)"
   ]
  },
  {
   "cell_type": "code",
   "execution_count": 22,
   "id": "732927b4",
   "metadata": {},
   "outputs": [
    {
     "name": "stdout",
     "output_type": "stream",
     "text": [
      "Accuracy: 0.1023342017706164\n",
      "adjusted rand score:  -0.016392587790186305\n",
      "normalized MI: 0.005384290484556598\n",
      "              precision    recall  f1-score   support\n",
      "\n",
      "           0       0.09      1.00      0.17    177916\n",
      "           1       1.00      0.01      0.02   1750452\n",
      "\n",
      "    accuracy                           0.10   1928368\n",
      "   macro avg       0.55      0.51      0.10   1928368\n",
      "weighted avg       0.92      0.10      0.04   1928368\n",
      "\n",
      "\n",
      "\n",
      "\n"
     ]
    },
    {
     "data": {
      "text/html": [
       "<div>\n",
       "<style scoped>\n",
       "    .dataframe tbody tr th:only-of-type {\n",
       "        vertical-align: middle;\n",
       "    }\n",
       "\n",
       "    .dataframe tbody tr th {\n",
       "        vertical-align: top;\n",
       "    }\n",
       "\n",
       "    .dataframe thead th {\n",
       "        text-align: right;\n",
       "    }\n",
       "</style>\n",
       "<table border=\"1\" class=\"dataframe\">\n",
       "  <thead>\n",
       "    <tr style=\"text-align: right;\">\n",
       "      <th>Predicted</th>\n",
       "      <th>0</th>\n",
       "      <th>1</th>\n",
       "      <th>All</th>\n",
       "    </tr>\n",
       "    <tr>\n",
       "      <th>True</th>\n",
       "      <th></th>\n",
       "      <th></th>\n",
       "      <th></th>\n",
       "    </tr>\n",
       "  </thead>\n",
       "  <tbody>\n",
       "    <tr>\n",
       "      <th>0</th>\n",
       "      <td>177916</td>\n",
       "      <td>0</td>\n",
       "      <td>177916</td>\n",
       "    </tr>\n",
       "    <tr>\n",
       "      <th>1</th>\n",
       "      <td>1731030</td>\n",
       "      <td>19422</td>\n",
       "      <td>1750452</td>\n",
       "    </tr>\n",
       "    <tr>\n",
       "      <th>All</th>\n",
       "      <td>1908946</td>\n",
       "      <td>19422</td>\n",
       "      <td>1928368</td>\n",
       "    </tr>\n",
       "  </tbody>\n",
       "</table>\n",
       "</div>"
      ],
      "text/plain": [
       "Predicted        0      1      All\n",
       "True                              \n",
       "0           177916      0   177916\n",
       "1          1731030  19422  1750452\n",
       "All        1908946  19422  1928368"
      ]
     },
     "execution_count": 22,
     "metadata": {},
     "output_type": "execute_result"
    }
   ],
   "source": [
    "# do the fitting:\n",
    "dfsc = kmeans2.fit_transform(X_scaled)\n",
    "\n",
    "# predict:\n",
    "labelS = kmeans2.predict(X_scaled)\n",
    "\n",
    "# score: we will use accuracy score, since it counts straighforward the values correctly inferred.\n",
    "print('Accuracy:', metrics.accuracy_score(y, labelS))\n",
    "print('adjusted rand score: ', metrics.adjusted_rand_score(y.ravel(), labelS.ravel()))\n",
    "print('normalized MI:', metrics.normalized_mutual_info_score (y.ravel(), labelS.ravel()))\n",
    "print(metrics.classification_report(y.ravel(), labelS))\n",
    "print('\\n\\n')\n",
    "# compare the real:\n",
    "pd.crosstab(y.ravel(), labelS, rownames=['True'], colnames=['Predicted'], margins=True)"
   ]
  },
  {
   "cell_type": "markdown",
   "id": "98c45822",
   "metadata": {},
   "source": [
    "Now the algorithm is unable to predict the delayed flights, it predicts around a $65\\%$ correctly earlier flights correctly, but only infers a $1\\%$ of the delays correctly. \n",
    "The precision is very low for the earlier flights while the recall is low for delays. We have more false negatives than true negatives.\n",
    "\n",
    "The accuracy has decrase quantitavely, pointing that the KMeans it is not a good tool to do predictions, also that it would have been better using more clusters, the cluster performance is below zero, the labelling may be random without taking into account the data very well, we might not want to use KMeans for predicting in this case."
   ]
  },
  {
   "cell_type": "code",
   "execution_count": 23,
   "id": "de1597ad",
   "metadata": {},
   "outputs": [
    {
     "data": {
      "image/png": "[encoded data removed]",
      "text/plain": [
       "<Figure size 720x360 with 1 Axes>"
      ]
     },
     "metadata": {
      "needs_background": "light"
     },
     "output_type": "display_data"
    }
   ],
   "source": [
    "# graph with the labels:\n",
    "nlabels = np.unique(labelS)\n",
    "centroids = kmeans2.cluster_centers_\n",
    "\n",
    "plt.figure(figsize=(10, 5))\n",
    "for i in nlabels:\n",
    "    plt.scatter(X_scaled[labelS == i , 0] , X_scaled[labelS == i , 1] , label = i)\n",
    "plt.scatter(centroids[:,0], centroids[:,1], s=50, color='k')\n",
    "plt.legend()\n",
    "plt.show()"
   ]
  },
  {
   "cell_type": "markdown",
   "id": "4508dd4c",
   "metadata": {},
   "source": [
    "As we can see in the figure above, scaling only has only made that there are more false negatives values, thus, the algorithm fails into classifying well the data. The centroids are nearly at the same coordinates, thus the algorithm cannot distinguish very well if one it is a delay or not.\n",
    "\n",
    "Let's make the same assumption than before. Have be had been reading the results of the algorithm wrong?"
   ]
  },
  {
   "cell_type": "code",
   "execution_count": 71,
   "id": "4ea3eba5",
   "metadata": {},
   "outputs": [
    {
     "name": "stdout",
     "output_type": "stream",
     "text": [
      "Accuracy: 0.8976657982293836\n",
      "adjusted rand score:  -0.016392587790186305\n",
      "              precision    recall  f1-score   support\n",
      "\n",
      "           0       0.00      0.00      0.00    177916\n",
      "           1       0.91      0.99      0.95   1750452\n",
      "\n",
      "    accuracy                           0.90   1928368\n",
      "   macro avg       0.45      0.49      0.47   1928368\n",
      "weighted avg       0.82      0.90      0.86   1928368\n",
      "\n",
      "\n",
      "\n",
      "\n"
     ]
    },
    {
     "data": {
      "text/html": [
       "<div>\n",
       "<style scoped>\n",
       "    .dataframe tbody tr th:only-of-type {\n",
       "        vertical-align: middle;\n",
       "    }\n",
       "\n",
       "    .dataframe tbody tr th {\n",
       "        vertical-align: top;\n",
       "    }\n",
       "\n",
       "    .dataframe thead th {\n",
       "        text-align: right;\n",
       "    }\n",
       "</style>\n",
       "<table border=\"1\" class=\"dataframe\">\n",
       "  <thead>\n",
       "    <tr style=\"text-align: right;\">\n",
       "      <th>Predicted</th>\n",
       "      <th>0</th>\n",
       "      <th>1</th>\n",
       "      <th>All</th>\n",
       "    </tr>\n",
       "    <tr>\n",
       "      <th>True</th>\n",
       "      <th></th>\n",
       "      <th></th>\n",
       "      <th></th>\n",
       "    </tr>\n",
       "  </thead>\n",
       "  <tbody>\n",
       "    <tr>\n",
       "      <th>0</th>\n",
       "      <td>0</td>\n",
       "      <td>177916</td>\n",
       "      <td>177916</td>\n",
       "    </tr>\n",
       "    <tr>\n",
       "      <th>1</th>\n",
       "      <td>19422</td>\n",
       "      <td>1731030</td>\n",
       "      <td>1750452</td>\n",
       "    </tr>\n",
       "    <tr>\n",
       "      <th>All</th>\n",
       "      <td>19422</td>\n",
       "      <td>1908946</td>\n",
       "      <td>1928368</td>\n",
       "    </tr>\n",
       "  </tbody>\n",
       "</table>\n",
       "</div>"
      ],
      "text/plain": [
       "Predicted      0        1      All\n",
       "True                              \n",
       "0              0   177916   177916\n",
       "1          19422  1731030  1750452\n",
       "All        19422  1908946  1928368"
      ]
     },
     "execution_count": 71,
     "metadata": {},
     "output_type": "execute_result"
    }
   ],
   "source": [
    "# algorithm analysis taking into account that now 0 is 1 and 1 is 0 (0 is delay, 1 on time)\n",
    "ilabelS = 1 - labelS\n",
    "\n",
    "# compare:\n",
    "# score: we will use accuracy score, since it counts straighforward the values correctly inferred.\n",
    "print('Accuracy:', metrics.accuracy_score(y, ilabelS))\n",
    "print('adjusted rand score: ', metrics.adjusted_rand_score(y.ravel(), labelS.ravel()))\n",
    "print(metrics.classification_report(y.ravel(), ilabelS))\n",
    "print('\\n\\n')\n",
    "pd.crosstab(y.ravel(), ilabelS, rownames=['True'], colnames=['Predicted'], margins=True)"
   ]
  },
  {
   "cell_type": "markdown",
   "id": "6ca58bd8",
   "metadata": {},
   "source": [
    "If we had been reading the labels wrong, this algorithm performs worse than before, even if the accuracy now is high. This is because the precision and recall for the delays is 0, looking at the table above we can see that there are NONE flights late, thus now we know that the correct way to look at the labels is the same as we had done before: 0 is for earlier/on time and 1 is for late."
   ]
  },
  {
   "cell_type": "markdown",
   "id": "f09a7ab3",
   "metadata": {},
   "source": [
    "*Dataset scaled and dimension reduced (PCA)*"
   ]
  },
  {
   "cell_type": "markdown",
   "id": "493de400",
   "metadata": {},
   "source": [
    "We part from X and y scaled and we do the scaling with robust scaler, and the dimensionality reduction with PCA:"
   ]
  },
  {
   "cell_type": "code",
   "execution_count": 24,
   "id": "89a08144",
   "metadata": {},
   "outputs": [
    {
     "data": {
      "text/plain": [
       "(1928368, 16)"
      ]
     },
     "execution_count": 24,
     "metadata": {},
     "output_type": "execute_result"
    }
   ],
   "source": [
    "X.shape"
   ]
  },
  {
   "cell_type": "code",
   "execution_count": 25,
   "id": "c0692912",
   "metadata": {},
   "outputs": [
    {
     "data": {
      "text/plain": [
       "(1928368, 1)"
      ]
     },
     "execution_count": 25,
     "metadata": {},
     "output_type": "execute_result"
    }
   ],
   "source": [
    "y.shape"
   ]
  },
  {
   "cell_type": "code",
   "execution_count": 26,
   "id": "b56787fe",
   "metadata": {},
   "outputs": [
    {
     "data": {
      "text/plain": [
       "(1928368, 2)"
      ]
     },
     "execution_count": 26,
     "metadata": {},
     "output_type": "execute_result"
    }
   ],
   "source": [
    "# reduces the system to a 2-d, do pipeline to reduce system:\n",
    "pipe2 = pipeline.Pipeline([('scaler', RobustScaler()), ('pca', PCA(n_components=2))])\n",
    "\n",
    "dSpca = pipe2.fit_transform(X)\n",
    "dSpca.shape"
   ]
  },
  {
   "cell_type": "code",
   "execution_count": 27,
   "id": "40447682",
   "metadata": {
    "scrolled": false
   },
   "outputs": [
    {
     "name": "stdout",
     "output_type": "stream",
     "text": [
      "Accuracy: 0.10256496685279988\n",
      "adjusted rand score:  -0.016731535205308297\n",
      "normalized MI: 0.005492397551438736\n",
      "              precision    recall  f1-score   support\n",
      "\n",
      "           0       0.09      1.00      0.17    177916\n",
      "           1       1.00      0.01      0.02   1750452\n",
      "\n",
      "    accuracy                           0.10   1928368\n",
      "   macro avg       0.55      0.51      0.10   1928368\n",
      "weighted avg       0.92      0.10      0.04   1928368\n",
      "\n",
      "\n",
      "\n",
      "\n"
     ]
    },
    {
     "data": {
      "text/html": [
       "<div>\n",
       "<style scoped>\n",
       "    .dataframe tbody tr th:only-of-type {\n",
       "        vertical-align: middle;\n",
       "    }\n",
       "\n",
       "    .dataframe tbody tr th {\n",
       "        vertical-align: top;\n",
       "    }\n",
       "\n",
       "    .dataframe thead th {\n",
       "        text-align: right;\n",
       "    }\n",
       "</style>\n",
       "<table border=\"1\" class=\"dataframe\">\n",
       "  <thead>\n",
       "    <tr style=\"text-align: right;\">\n",
       "      <th>Predicted</th>\n",
       "      <th>0</th>\n",
       "      <th>1</th>\n",
       "      <th>All</th>\n",
       "    </tr>\n",
       "    <tr>\n",
       "      <th>True</th>\n",
       "      <th></th>\n",
       "      <th></th>\n",
       "      <th></th>\n",
       "    </tr>\n",
       "  </thead>\n",
       "  <tbody>\n",
       "    <tr>\n",
       "      <th>0</th>\n",
       "      <td>177916</td>\n",
       "      <td>0</td>\n",
       "      <td>177916</td>\n",
       "    </tr>\n",
       "    <tr>\n",
       "      <th>1</th>\n",
       "      <td>1730585</td>\n",
       "      <td>19867</td>\n",
       "      <td>1750452</td>\n",
       "    </tr>\n",
       "    <tr>\n",
       "      <th>All</th>\n",
       "      <td>1908501</td>\n",
       "      <td>19867</td>\n",
       "      <td>1928368</td>\n",
       "    </tr>\n",
       "  </tbody>\n",
       "</table>\n",
       "</div>"
      ],
      "text/plain": [
       "Predicted        0      1      All\n",
       "True                              \n",
       "0           177916      0   177916\n",
       "1          1730585  19867  1750452\n",
       "All        1908501  19867  1928368"
      ]
     },
     "execution_count": 27,
     "metadata": {},
     "output_type": "execute_result"
    }
   ],
   "source": [
    "# do the fitting with X_Train:\n",
    "dfPsc = kmeans2.fit_transform(dSpca)\n",
    "\n",
    "# first fitting to train algorithm:\n",
    "labelPS = kmeans2.predict(dSpca)\n",
    "\n",
    "# score: we will use accuracy score, since it counts straighforward the values correctly inferred.\n",
    "print('Accuracy:', metrics.accuracy_score(y, labelPS))\n",
    "print('adjusted rand score: ', metrics.adjusted_rand_score(y.ravel(), labelPS.ravel()))\n",
    "print('normalized MI:', metrics.normalized_mutual_info_score (y.ravel(), labelPS.ravel()))\n",
    "print(metrics.classification_report(y.ravel(), labelPS))\n",
    "print('\\n\\n')\n",
    "\n",
    "# confusion matrix the real:\n",
    "pd.crosstab(y.ravel(), labelPS, rownames=['True'], colnames=['Predicted'], margins=True)"
   ]
  },
  {
   "cell_type": "markdown",
   "id": "1ba80f78",
   "metadata": {},
   "source": [
    "As in the scaled case performance is really low, the algorithm is unable to infer correctly the delayed flights, only a $1\\%$ has been correctly inferred, and overstimates, another time the on time/earlier flights.\n",
    "\n",
    "The accuracy is low, and the cluster performance coefficient has below zero value, meaning that would be better to clusterize more the dataset."
   ]
  },
  {
   "cell_type": "code",
   "execution_count": 28,
   "id": "57ad63cd",
   "metadata": {},
   "outputs": [
    {
     "data": {
      "image/png": "[encoded data removed]",
      "text/plain": [
       "<Figure size 720x360 with 1 Axes>"
      ]
     },
     "metadata": {
      "needs_background": "light"
     },
     "output_type": "display_data"
    }
   ],
   "source": [
    "# graph with the labels (test set):\n",
    "nlabels = np.unique(labelPS)\n",
    "centroids = kmeans2.cluster_centers_\n",
    "\n",
    "plt.figure(figsize=(10, 5))\n",
    "for i in nlabels:\n",
    "    plt.scatter(dSpca[labelPS == i , 0] , dSpca[labelPS == i , 1] , label = i)\n",
    "plt.scatter(centroids[:,0], centroids[:,1], s=50, color='k')\n",
    "plt.legend()\n",
    "plt.show()"
   ]
  },
  {
   "cell_type": "markdown",
   "id": "646e6707",
   "metadata": {},
   "source": [
    "In this figure we can see another time that the two clusters are overlapped, and in this case the centroids while are separated its coordinates are very similar, meaning that the data is very dependent on each other and the algorithm cannot define correctly the clusters, when we are using it as predictor.\n",
    "\n",
    "This figure as the one above (standarization without PCA) are the same if we are using the feature 'ArrDelay' or not."
   ]
  },
  {
   "cell_type": "markdown",
   "id": "f7e3a1dc",
   "metadata": {},
   "source": [
    "**Summary**\n",
    "\n",
    "The K-Means as it is a good graphical representation to clusterize the data **but** it **is not** an accurate predictor, we have seen that the normalized MI score is nearly zero (remember: MI = 0 variable independents), thus the labelling the algorithm did was independent or random. To predict a class for a dataset we may use other classification algorithms as KNeighbours, Decision Tree or Suport Vector Classifier.\n",
    "\n",
    "It looks also, that adding the column 'ArrDelay' only affects to the non scaled result, the other two cases the correctly inference is very low, it is the same as not adding 'ArrDelay'. Also, standarizing the dataset has also decrease the correctly predition of the delay, in this exercise we have choose to use RobustScaler because of the outliers, if they weren't that importants as we have seen, we could have use instead StandardScaler or MinMaxScaler. See [S11T02](https://github.com/isaura-o/ITAcademia/blob/main/Sprint11/S11T02_Supp_Material.ipynb) for results with robust scaler without the column 'ArrDelay'.\n",
    "\n",
    "> results of the predictions:\n",
    "\n",
    "$$\\begin{array}{| c | c |}\n",
    "\\hline\n",
    "\\mbox{Data} & \\mbox{Accuracy Score} (\\%) \\\\\n",
    "\\hline\n",
    "\\mbox{Non Scaled} & 78.15 \\\\\n",
    "\\mbox{Scaled} & 10.23 \\\\\n",
    "\\mbox{PCA Scaled} & 10.26 \\\\\n",
    "\\hline\n",
    "\\end{array}$$\n"
   ]
  },
  {
   "cell_type": "markdown",
   "id": "d185006f",
   "metadata": {},
   "source": [
    "# Nivell 2"
   ]
  },
  {
   "cell_type": "markdown",
   "id": "b072e6d1",
   "metadata": {},
   "source": [
    "## Exercici 2: Agrupa els diferents vols utilitzant l'algorisme de clustering jeràrquic."
   ]
  },
  {
   "cell_type": "markdown",
   "id": "660f6236",
   "metadata": {},
   "source": [
    "An hierarchical clustering algorithm by definition it is the denodrogram. Although when we talk about hierarchical clusters we need to take into account two types of them:\n",
    "\n",
    "* Agglomerative: each observation starts its own cluster.\n",
    "* Divisive: all observations start on the same cluster and then splits recursively branching out.\n",
    "\n",
    "The divisive case it is the typical dendrogram, which we will use next to do our bit of analysis.\n",
    "\n",
    "For Agglomerative function see [S11T02](https://github.com/isaura-o/ITAcademia/blob/main/Sprint11/S11T02_Supp_Material.ipynb)."
   ]
  },
  {
   "cell_type": "code",
   "execution_count": 6,
   "id": "eb52f36d",
   "metadata": {},
   "outputs": [],
   "source": [
    "df5 = df.copy()"
   ]
  },
  {
   "cell_type": "markdown",
   "id": "2b131fa5",
   "metadata": {},
   "source": [
    "Since a dendrogram is a way to cluster from \"top\" to \"bottom\", i.e., all the data is in one cluster and then it branches (like a tree) down, we can use it like we have done with the networks in the sprints before this one, to see how the features are related between each other."
   ]
  },
  {
   "cell_type": "code",
   "execution_count": 23,
   "id": "3ca4cada",
   "metadata": {
    "scrolled": false
   },
   "outputs": [
    {
     "data": {
      "image/png": "[encoded data removed]",
      "text/plain": [
       "<Figure size 1008x432 with 1 Axes>"
      ]
     },
     "metadata": {
      "needs_background": "light"
     },
     "output_type": "display_data"
    }
   ],
   "source": [
    "# We want to take a look how the features, transpose the matrix to get how they are related!\n",
    "# links for dendrogram\n",
    "Z = linkage(df5.T, method = 'ward')\n",
    " \n",
    "#plotting dendrogram\n",
    "plt.figure(figsize=(14,6))\n",
    "dendro = dendrogram(Z)\n",
    "plt.title('Dendrogram')\n",
    "plt.ylabel('Euclidean distance')\n",
    "plt.show()"
   ]
  },
  {
   "cell_type": "code",
   "execution_count": 29,
   "id": "f14d7e53",
   "metadata": {},
   "outputs": [
    {
     "data": {
      "image/png": "[encoded data removed]",
      "text/plain": [
       "<Figure size 1224x576 with 1 Axes>"
      ]
     },
     "metadata": {
      "needs_background": "light"
     },
     "output_type": "display_data"
    }
   ],
   "source": [
    "#plotting dendrogram\n",
    "plt.figure(figsize=(17,8))\n",
    "dendro = dendrogram(Z)\n",
    "plt.title('Dendrogram')\n",
    "plt.ylabel('Euclidean distance')\n",
    "plt.ylim(0, 1e7)\n",
    "plt.show()"
   ]
  },
  {
   "cell_type": "code",
   "execution_count": 30,
   "id": "a1e67d11",
   "metadata": {},
   "outputs": [
    {
     "data": {
      "image/png": "[encoded data removed]",
      "text/plain": [
       "<Figure size 1224x576 with 1 Axes>"
      ]
     },
     "metadata": {
      "needs_background": "light"
     },
     "output_type": "display_data"
    }
   ],
   "source": [
    "#plotting dendrogram\n",
    "plt.figure(figsize=(17,8))\n",
    "dendro = dendrogram(Z)\n",
    "plt.title('Dendrogram')\n",
    "plt.ylabel('Euclidean distance')\n",
    "plt.ylim(0, 1e5)\n",
    "plt.show()"
   ]
  },
  {
   "cell_type": "markdown",
   "id": "f7f57ead",
   "metadata": {},
   "source": [
    "The images above are a zoom in on the features, we can see that there are \"two\" main clusters, one in orange, one in green. \n",
    "\n",
    "The orange one if formed for the features 18 to 21, they correspond to dates (arrival, depart, and the CRS correspondent ones). \n",
    "\n",
    "The green cluster has all the other features but taking a first look we can see that there are 3 indepedent features over all, these are the 0 and 23, which are one at each others sides because of they similiarity, in fact they correspond to the Flight Number and Tail Number, that seems they to be somewhat related.\n",
    "\n",
    "Now we take a look at the other two big clusters inside of the green cluster, in which 6 (Distance) belongs to both, the second one contains the 14, VelocityAir, which is related but independent enough of the two other small clusters: ActualElapsedTime/CRS and AirTime (cluster: 3, 1, 2) and Origin/Destination (cluster: 24 and 25). The last cluster, which it is the bigger one, has two principal separations: one with a cluster of 3 features, the other with the remainder of the features. The 3 feature cluster correspond to the features: DepDelay (5), ArrDelay and TotalDelayed (4 and 16). The largest one has the features: CarrierDelay (9), and LateAircraftDelay (13), then we have a cluster with the NASDelay (11), TaxiOut(8) and TaxiTime (17). Then there is the WeatherDealy (10), UniqueCarrier (22), TaxiIn (7), SecurityDelay (12) and DelayedArr (15).\n",
    "\n",
    "We can see that the main components that determine the delay of flights are: WeatherDelay, Carrier, SecurityDelay and DelayedArr, together with CarrierDelay, LateAircraft, DepDelay, ArrDelay, TotalDelay, Origin, Destination, ElapsedTime/CRS, AirTime, VelocityAir. We can see that the dendrogram results differs a bit from the networks we inferred (see exercise 3 for network), when we thresholded the network to obtain the most strong links SecurityDelay was one that was considered not important enough but the Distance was considered to be more important in order to determine the delaying."
   ]
  },
  {
   "cell_type": "code",
   "execution_count": 59,
   "id": "8b51fdf9",
   "metadata": {},
   "outputs": [
    {
     "name": "stdout",
     "output_type": "stream",
     "text": [
      "<class 'pandas.core.frame.DataFrame'>\n",
      "RangeIndex: 1928368 entries, 0 to 1928367\n",
      "Data columns (total 26 columns):\n",
      " #   Column             Dtype  \n",
      "---  ------             -----  \n",
      " 0   FlightNum          int64  \n",
      " 1   ActualElapsedTime  float64\n",
      " 2   CRSElapsedTime     float64\n",
      " 3   AirTime            float64\n",
      " 4   ArrDelay           float64\n",
      " 5   DepDelay           float64\n",
      " 6   Distance           int64  \n",
      " 7   TaxiIn             float64\n",
      " 8   TaxiOut            float64\n",
      " 9   CarrierDelay       float64\n",
      " 10  WeatherDelay       float64\n",
      " 11  NASDelay           float64\n",
      " 12  SecurityDelay      float64\n",
      " 13  LateAircraftDelay  float64\n",
      " 14  VelocityAir        float64\n",
      " 15  DelayedArr         int64  \n",
      " 16  TotalDelayed       float64\n",
      " 17  TaxiTime           float64\n",
      " 18  DateDep            float64\n",
      " 19  DateCRSDep         int64  \n",
      " 20  DateArr            float64\n",
      " 21  DateCRSArr         int64  \n",
      " 22  UCarrier_en        int64  \n",
      " 23  TailNum_en         int64  \n",
      " 24  Origin_en          int64  \n",
      " 25  Dest_en            int64  \n",
      "dtypes: float64(17), int64(9)\n",
      "memory usage: 382.5 MB\n"
     ]
    }
   ],
   "source": [
    "df.info()"
   ]
  },
  {
   "cell_type": "markdown",
   "id": "63a73268",
   "metadata": {},
   "source": [
    "Now, we will do the same for the \"rows\" of the dataset (points). Although this time we will pick only a subset to see how are they related to each other, since the computer cannot represent graphically that many points."
   ]
  },
  {
   "cell_type": "code",
   "execution_count": 83,
   "id": "932f17cd",
   "metadata": {},
   "outputs": [],
   "source": [
    "df5sam = df.sample(10000)"
   ]
  },
  {
   "cell_type": "code",
   "execution_count": 87,
   "id": "04b1abe0",
   "metadata": {},
   "outputs": [],
   "source": [
    "# data dendrogram\n",
    "Z = linkage(df5sam, method = 'ward')"
   ]
  },
  {
   "cell_type": "code",
   "execution_count": 86,
   "id": "599c49d3",
   "metadata": {},
   "outputs": [
    {
     "data": {
      "image/png": "[encoded data removed]",
      "text/plain": [
       "<Figure size 1224x576 with 1 Axes>"
      ]
     },
     "metadata": {
      "needs_background": "light"
     },
     "output_type": "display_data"
    }
   ],
   "source": [
    "#plotting dendrogram\n",
    "plt.figure(figsize=(17,8))\n",
    "dendro = dendrogram(Z)\n",
    "plt.title('Dendrogram')\n",
    "plt.ylabel('Euclidean distance')\n",
    "plt.ylim(0,4e8)\n",
    "plt.show()"
   ]
  },
  {
   "cell_type": "markdown",
   "id": "54a10577",
   "metadata": {},
   "source": [
    "The dendrogram shows two distinct trees, one in green one in orange. We may supose that they are the delays the green tree, since it is bigger (more than half of the graph) and we know that our data is unbalanced towards the delays. We can supose also, that the orange it is the on time/early arrivals.\n",
    "\n",
    "Taking a subsample of 100 observations, we can see in the figure below, that the flights have very similar characteristics within a same cluster. For the orange (on time flights) there are three main subclusters, while for the green (delays) there are 4 big subclusters within to 3 subclusters, which indicates that while the data whithin the leaf is similar between themselves, if didn't have the column DelayedArr (binary/categorical) the algorithm might had a bit of problems to determine the two big hierarchies."
   ]
  },
  {
   "cell_type": "code",
   "execution_count": 97,
   "id": "45cf336c",
   "metadata": {},
   "outputs": [
    {
     "data": {
      "image/png": "[encoded data removed]",
      "text/plain": [
       "<Figure size 1224x576 with 1 Axes>"
      ]
     },
     "metadata": {
      "needs_background": "light"
     },
     "output_type": "display_data"
    }
   ],
   "source": [
    "df5sam = df.sample(100)\n",
    "Z = linkage(df5sam, method = 'ward')\n",
    "\n",
    "#plotting dendrogram\n",
    "plt.figure(figsize=(17,8))\n",
    "dendro = dendrogram(Z)\n",
    "plt.title('Dendrogram')\n",
    "plt.ylabel('Euclidean distance')\n",
    "plt.show()"
   ]
  },
  {
   "cell_type": "markdown",
   "id": "af5c0dfa",
   "metadata": {},
   "source": [
    "# Nivell 3"
   ]
  },
  {
   "cell_type": "markdown",
   "id": "3dce371c",
   "metadata": {},
   "source": [
    "## Exercici 3: Calcula el rendiment del clustering mitjançant un paràmetre com pot ser silhouette."
   ]
  },
  {
   "cell_type": "markdown",
   "id": "314f3006",
   "metadata": {},
   "source": [
    "There are different tools to avaluate the cluster performance in sklearn, we have seen in exercise 1 & [S11T02](https://github.com/isaura-o/ITAcademia/blob/main/Sprint11/S11T02_Supp_Material.ipynb) that there is the elbow method and the silhoutte coefficient, another type of performance coefficient it is the adjusted rand index (score) that we have used in exercise 1 when we have used KMeans as a predictor, to see if the labelling was random/independent or not. Some others performance evaluators are:\n",
    "\n",
    "* Normalized Mutual Information: normalized_mutual_info_score (labels_true, labels_pred)\n",
    "* Adjusted Mutual Information: adjusted_mutual_info_score (labels_true, labels_pred)\n",
    "* Fowlkes-Mallows Score: fowlkes_mallows__score (labels_true, labels_pred)\n",
    "\n",
    "In the documentation of the Silhouette score in [sklearnWeb](https://scikit-learn.org/stable/modules/generated/sklearn.metrics.silhouette_score.html) there are only few parameters to tinker with, like the sample size or the random seed. In this case we will choose to tinker with the sample size and the number of clustering, from kMeans, which indirectly changes the labels. The metric, we want euclidian since we are not in any special space or wanting only the pairwise distances. This exercise will be similar to the one done to calculate the computational time that is on the supplemental material [S11T02](https://github.com/isaura-o/ITAcademia/blob/main/Sprint11/S11T02_Supp_Material.ipynb), this is why we will choose the maximum size of the system at 50000 points.\n"
   ]
  },
  {
   "cell_type": "code",
   "execution_count": 15,
   "id": "a516cc71",
   "metadata": {},
   "outputs": [],
   "source": [
    "n = [1000, 5000, 10000, 50000]\n",
    "clus = [2, 3, 4, 5, 6, 7, 8, 9, 10, 11, 12, 13, 14]\n",
    "\n",
    "ScSil = np.zeros((13,4))\n",
    "for i in range(0,len(clus)):\n",
    "    \n",
    "    kmeans = KMeans(n_clusters=clus[i], random_state=42).fit(df)\n",
    "    labels = kmeans.labels_ \n",
    "    \n",
    "    for j in range(0,len(n)):\n",
    "        ScSil[i,j] = (metrics.silhouette_score(df, labels, metric='euclidean', sample_size=n[j], random_state=42))\n",
    "        #print(j, i, ScSil)\n"
   ]
  },
  {
   "cell_type": "code",
   "execution_count": 16,
   "id": "ae835167",
   "metadata": {},
   "outputs": [
    {
     "data": {
      "text/plain": [
       "array([[0.61402585, 0.6095761 , 0.61343716, 0.61190664],\n",
       "       [0.63530702, 0.63661249, 0.6369599 , 0.63849221],\n",
       "       [0.63012901, 0.63110704, 0.62910706, 0.6272994 ],\n",
       "       [0.64638881, 0.64873989, 0.64769813, 0.64843401],\n",
       "       [0.65647141, 0.66079576, 0.66428864, 0.66608455],\n",
       "       [0.68145753, 0.68270801, 0.68626782, 0.68762386],\n",
       "       [0.67907847, 0.68627388, 0.68558587, 0.68749728],\n",
       "       [0.7562791 , 0.75609709, 0.75836026, 0.75895541],\n",
       "       [0.8156789 , 0.81431029, 0.81301801, 0.81421905],\n",
       "       [0.84972811, 0.84811216, 0.84741033, 0.84715237],\n",
       "       [0.89095225, 0.89154116, 0.89195743, 0.8914784 ],\n",
       "       [0.86657046, 0.87105902, 0.86960829, 0.87040167],\n",
       "       [0.84082499, 0.8458864 , 0.84435838, 0.84545903]])"
      ]
     },
     "execution_count": 16,
     "metadata": {},
     "output_type": "execute_result"
    }
   ],
   "source": [
    "ScSil"
   ]
  },
  {
   "cell_type": "code",
   "execution_count": 17,
   "id": "ba221f39",
   "metadata": {},
   "outputs": [
    {
     "data": {
      "image/png": "[encoded data removed]",
      "text/plain": [
       "<Figure size 432x288 with 1 Axes>"
      ]
     },
     "metadata": {
      "needs_background": "light"
     },
     "output_type": "display_data"
    }
   ],
   "source": [
    "# figure of Silhouette score:\n",
    "plt.plot(clus, ScSil[:,0], label = 1000)\n",
    "plt.plot(clus, ScSil[:,1], label = 5000)\n",
    "plt.plot(clus, ScSil[:,2], label = 10000)\n",
    "plt.plot(clus, ScSil[:,3], label = 50000)\n",
    "\n",
    "plt.xlabel('num of clusters')\n",
    "plt.ylabel('Silhouette Score')\n",
    "plt.xticks(np.arange(min(clus), max(clus)+1, 1.0))\n",
    "plt.legend()\n",
    "plt.show()"
   ]
  },
  {
   "cell_type": "markdown",
   "id": "0d9cfba8",
   "metadata": {},
   "source": [
    "We can see that the Silhouette score considers that at least 10 clusters would represent better the system, in fact if we look at the figure of the Dendrogram (figure [x]) and at the network below, we can see, that this dataset has at least 9 distinct clusters (dendrogram) or 8 for network. Thus the if we had to do the kMeans analysis another time, we, instead, would we using 10 clusters to process the data.\n",
    "\n",
    "Below the network there is the bit of analysis done. There had been dimension reduction with PCA but not standarizaton, since that way we take into account the categorical values."
   ]
  },
  {
   "cell_type": "code",
   "execution_count": 69,
   "id": "b1cb03aa",
   "metadata": {},
   "outputs": [
    {
     "data": {
      "image/png": "[encoded data removed]",
      "text/plain": [
       "<Figure size 432x288 with 1 Axes>"
      ]
     },
     "metadata": {},
     "output_type": "display_data"
    }
   ],
   "source": [
    "import networkx as nx\n",
    "# 1. get adjacency matrix\n",
    "corrdf = df.corr()\n",
    "corrdfas = abs(corrdf)\n",
    "\n",
    "# 2. Use a threshold to only keep the strongest links:\n",
    "thres = corrdfas.std()\n",
    "net = corrdf[(corrdf >= thres) & (corrdf != 1) ] # we don't want self links.\n",
    "net[np.isnan(net)] = 0\n",
    "net2 = np.array(net)\n",
    "\n",
    "# 3. Map the network\n",
    "G = nx.from_numpy_matrix(net2)\n",
    "\n",
    "pos = nx.spring_layout(G)\n",
    "nodes = nx.draw_networkx_labels(G, pos)\n",
    "\n",
    "nx.draw(G, pos)\n",
    "plt.show()"
   ]
  },
  {
   "cell_type": "code",
   "execution_count": 18,
   "id": "da94aae4",
   "metadata": {},
   "outputs": [
    {
     "data": {
      "image/png": "[encoded data removed]",
      "text/plain": [
       "<Figure size 720x360 with 1 Axes>"
      ]
     },
     "metadata": {
      "needs_background": "light"
     },
     "output_type": "display_data"
    }
   ],
   "source": [
    "# 12 clusters analysis as Silhouette wants us to do!\n",
    "\n",
    "dfPCA = PCA(n_components=2).fit_transform(df5)\n",
    "\n",
    "kmeans = KMeans(n_clusters=12, random_state=42).fit(dfPCA)\n",
    "label = kmeans.predict(dfPCA)\n",
    "\n",
    "nlabels = np.unique(label)\n",
    "centroids = kmeans.cluster_centers_\n",
    "\n",
    "plt.figure(figsize=(10, 5))\n",
    "for i in nlabels:\n",
    "    plt.scatter(dfPCA[label==i, 0], dfPCA[label==i, 1], label=i)\n",
    "plt.scatter(centroids[:,0], centroids[:,1], s=50, color='k')\n",
    "plt.legend(loc=(1.04,0))\n",
    "plt.show()"
   ]
  },
  {
   "cell_type": "markdown",
   "id": "a8402974",
   "metadata": {},
   "source": [
    "The figure shows the clusters distinctily separated as stripes (this is cause we hadn't standarized the data), with its centroids nearly on the middle. We cannot tell which flights (points/rows) correspond to each cluster since we don't know which creterion has been used to determine which flight correspond to each centroid, but even if they seem equally distributed, when plotting the number of flights by cluster (figure below), we can see that clusters 7, 3, 6 have equal number of observations, followed by 9. The clusters with less observations are the 2, 8, 11."
   ]
  },
  {
   "cell_type": "code",
   "execution_count": 19,
   "id": "a4fe4674",
   "metadata": {},
   "outputs": [
    {
     "data": {
      "image/png": "[encoded data removed]",
      "text/plain": [
       "<Figure size 432x288 with 1 Axes>"
      ]
     },
     "metadata": {
      "needs_background": "light"
     },
     "output_type": "display_data"
    }
   ],
   "source": [
    "pd.Series(label).value_counts().plot.bar()\n",
    "plt.xlabel('Cluster number')\n",
    "plt.ylabel('Number of flights in cluster')\n",
    "plt.show()"
   ]
  },
  {
   "cell_type": "code",
   "execution_count": null,
   "id": "11c03251",
   "metadata": {},
   "outputs": [],
   "source": []
  }
 ],
 "metadata": {
  "kernelspec": {
   "display_name": "Python 3 (ipykernel)",
   "language": "python",
   "name": "python3"
  },
  "language_info": {
   "codemirror_mode": {
    "name": "ipython",
    "version": 3
   },
   "file_extension": ".py",
   "mimetype": "text/x-python",
   "name": "python",
   "nbconvert_exporter": "python",
   "pygments_lexer": "ipython3",
   "version": "3.9.7"
  },
  "latex_envs": {
   "LaTeX_envs_menu_present": true,
   "autoclose": false,
   "autocomplete": true,
   "bibliofile": "biblio.bib",
   "cite_by": "apalike",
   "current_citInitial": 1,
   "eqLabelWithNumbers": true,
   "eqNumInitial": 1,
   "hotkeys": {
    "equation": "Ctrl-E",
    "itemize": "Ctrl-I"
   },
   "labels_anchors": false,
   "latex_user_defs": false,
   "report_style_numbering": false,
   "user_envs_cfg": false
  }
 },
 "nbformat": 4,
 "nbformat_minor": 5
}
