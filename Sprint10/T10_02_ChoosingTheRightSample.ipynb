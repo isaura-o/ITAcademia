{
 "cells": [
  {
   "cell_type": "markdown",
   "id": "49b8c6b3",
   "metadata": {},
   "source": [
    "$\\#\\#\\#\\#\\#\\#\\#$ Libraries $\\#\\#\\#\\#\\#\\#\\#$"
   ]
  },
  {
   "cell_type": "code",
   "execution_count": 1,
   "id": "7e208cfc",
   "metadata": {},
   "outputs": [],
   "source": [
    "import numpy as np\n",
    "import pandas as pd\n",
    "import math\n",
    "import matplotlib.pyplot as plt\n",
    "import seaborn as sns\n",
    "import re\n",
    "from scipy import stats\n",
    "from sklearn import metrics\n",
    "from sklearn import tree\n",
    "from sklearn.preprocessing import StandardScaler\n",
    "from sklearn.preprocessing import RobustScaler\n",
    "from sklearn.preprocessing import LabelEncoder\n",
    "from sklearn.model_selection import train_test_split\n",
    "from sklearn.model_selection import cross_validate\n",
    "from sklearn.neighbors import KNeighborsClassifier\n",
    "from sklearn.tree import DecisionTreeClassifier\n",
    "from sklearn import svm\n",
    "from sklearn.pipeline import make_pipeline\n",
    "\n",
    "\n",
    "\n",
    "import warnings\n",
    "\n",
    "warnings.filterwarnings('ignore') "
   ]
  },
  {
   "cell_type": "markdown",
   "id": "f7ac9fa9",
   "metadata": {},
   "source": [
    "$\\#\\#\\#\\#\\#\\#\\#\\#\\#\\#\\#\\#\\#\\#\\#\\#\\#\\#\\#\\#\\#\\#$"
   ]
  },
  {
   "cell_type": "markdown",
   "id": "da0fac4b",
   "metadata": {},
   "source": [
    "# Data"
   ]
  },
  {
   "cell_type": "code",
   "execution_count": 2,
   "id": "8df52594",
   "metadata": {},
   "outputs": [],
   "source": [
    "df = pd.read_csv('DelayedFlights_Mod.csv')"
   ]
  },
  {
   "cell_type": "code",
   "execution_count": 3,
   "id": "0cff0a83",
   "metadata": {},
   "outputs": [],
   "source": [
    "df.drop('Unnamed: 0', axis=1, inplace=True)"
   ]
  },
  {
   "cell_type": "code",
   "execution_count": 4,
   "id": "4a593741",
   "metadata": {},
   "outputs": [
    {
     "data": {
      "text/plain": [
       "Index(['Month', 'DayofMonth', 'DayOfWeek', 'DepTime', 'CRSDepTime', 'ArrTime',\n",
       "       'CRSArrTime', 'UniqueCarrier', 'FlightNum', 'TailNum',\n",
       "       'ActualElapsedTime', 'CRSElapsedTime', 'AirTime', 'ArrDelay',\n",
       "       'DepDelay', 'Origin', 'Dest', 'Distance', 'TaxiIn', 'TaxiOut',\n",
       "       'CarrierDelay', 'WeatherDelay', 'NASDelay', 'SecurityDelay',\n",
       "       'LateAircraftDelay', 'VelocityAir', 'DelayedArr', 'TotalDelayed',\n",
       "       'TaxiTime'],\n",
       "      dtype='object')"
      ]
     },
     "execution_count": 4,
     "metadata": {},
     "output_type": "execute_result"
    }
   ],
   "source": [
    "df.columns"
   ]
  },
  {
   "cell_type": "code",
   "execution_count": 5,
   "id": "9185f1f4",
   "metadata": {},
   "outputs": [],
   "source": [
    "df2 = df[['ActualElapsedTime', 'CRSElapsedTime', 'AirTime', 'ArrDelay', 'DepDelay', 'Distance', \n",
    "          'TaxiIn', 'TaxiOut', 'CarrierDelay', 'WeatherDelay', 'NASDelay', 'LateAircraftDelay', 'VelocityAir', \n",
    "          'DelayedArr', 'TotalDelayed']]"
   ]
  },
  {
   "cell_type": "code",
   "execution_count": 6,
   "id": "820c3080",
   "metadata": {},
   "outputs": [
    {
     "data": {
      "text/html": [
       "<div>\n",
       "<style scoped>\n",
       "    .dataframe tbody tr th:only-of-type {\n",
       "        vertical-align: middle;\n",
       "    }\n",
       "\n",
       "    .dataframe tbody tr th {\n",
       "        vertical-align: top;\n",
       "    }\n",
       "\n",
       "    .dataframe thead th {\n",
       "        text-align: right;\n",
       "    }\n",
       "</style>\n",
       "<table border=\"1\" class=\"dataframe\">\n",
       "  <thead>\n",
       "    <tr style=\"text-align: right;\">\n",
       "      <th></th>\n",
       "      <th>ActualElapsedTime</th>\n",
       "      <th>CRSElapsedTime</th>\n",
       "      <th>AirTime</th>\n",
       "      <th>ArrDelay</th>\n",
       "      <th>DepDelay</th>\n",
       "      <th>Distance</th>\n",
       "      <th>TaxiIn</th>\n",
       "      <th>TaxiOut</th>\n",
       "      <th>CarrierDelay</th>\n",
       "      <th>WeatherDelay</th>\n",
       "      <th>NASDelay</th>\n",
       "      <th>LateAircraftDelay</th>\n",
       "      <th>VelocityAir</th>\n",
       "      <th>DelayedArr</th>\n",
       "      <th>TotalDelayed</th>\n",
       "    </tr>\n",
       "  </thead>\n",
       "  <tbody>\n",
       "    <tr>\n",
       "      <th>0</th>\n",
       "      <td>128.0</td>\n",
       "      <td>150.0</td>\n",
       "      <td>116.0</td>\n",
       "      <td>-14.0</td>\n",
       "      <td>8.0</td>\n",
       "      <td>810</td>\n",
       "      <td>4.0</td>\n",
       "      <td>8.0</td>\n",
       "      <td>0.0</td>\n",
       "      <td>0.0</td>\n",
       "      <td>0.0</td>\n",
       "      <td>0.0</td>\n",
       "      <td>379.687500</td>\n",
       "      <td>0</td>\n",
       "      <td>0.0</td>\n",
       "    </tr>\n",
       "    <tr>\n",
       "      <th>1</th>\n",
       "      <td>128.0</td>\n",
       "      <td>145.0</td>\n",
       "      <td>113.0</td>\n",
       "      <td>2.0</td>\n",
       "      <td>19.0</td>\n",
       "      <td>810</td>\n",
       "      <td>5.0</td>\n",
       "      <td>10.0</td>\n",
       "      <td>0.0</td>\n",
       "      <td>0.0</td>\n",
       "      <td>0.0</td>\n",
       "      <td>0.0</td>\n",
       "      <td>379.687500</td>\n",
       "      <td>1</td>\n",
       "      <td>0.0</td>\n",
       "    </tr>\n",
       "    <tr>\n",
       "      <th>2</th>\n",
       "      <td>96.0</td>\n",
       "      <td>90.0</td>\n",
       "      <td>76.0</td>\n",
       "      <td>14.0</td>\n",
       "      <td>8.0</td>\n",
       "      <td>515</td>\n",
       "      <td>3.0</td>\n",
       "      <td>17.0</td>\n",
       "      <td>0.0</td>\n",
       "      <td>0.0</td>\n",
       "      <td>0.0</td>\n",
       "      <td>0.0</td>\n",
       "      <td>321.875000</td>\n",
       "      <td>1</td>\n",
       "      <td>0.0</td>\n",
       "    </tr>\n",
       "    <tr>\n",
       "      <th>3</th>\n",
       "      <td>90.0</td>\n",
       "      <td>90.0</td>\n",
       "      <td>77.0</td>\n",
       "      <td>34.0</td>\n",
       "      <td>34.0</td>\n",
       "      <td>515</td>\n",
       "      <td>3.0</td>\n",
       "      <td>10.0</td>\n",
       "      <td>2.0</td>\n",
       "      <td>0.0</td>\n",
       "      <td>0.0</td>\n",
       "      <td>32.0</td>\n",
       "      <td>343.333333</td>\n",
       "      <td>1</td>\n",
       "      <td>34.0</td>\n",
       "    </tr>\n",
       "    <tr>\n",
       "      <th>4</th>\n",
       "      <td>101.0</td>\n",
       "      <td>115.0</td>\n",
       "      <td>87.0</td>\n",
       "      <td>11.0</td>\n",
       "      <td>25.0</td>\n",
       "      <td>688</td>\n",
       "      <td>4.0</td>\n",
       "      <td>10.0</td>\n",
       "      <td>0.0</td>\n",
       "      <td>0.0</td>\n",
       "      <td>0.0</td>\n",
       "      <td>0.0</td>\n",
       "      <td>408.712871</td>\n",
       "      <td>1</td>\n",
       "      <td>0.0</td>\n",
       "    </tr>\n",
       "  </tbody>\n",
       "</table>\n",
       "</div>"
      ],
      "text/plain": [
       "   ActualElapsedTime  CRSElapsedTime  AirTime  ArrDelay  DepDelay  Distance  \\\n",
       "0              128.0           150.0    116.0     -14.0       8.0       810   \n",
       "1              128.0           145.0    113.0       2.0      19.0       810   \n",
       "2               96.0            90.0     76.0      14.0       8.0       515   \n",
       "3               90.0            90.0     77.0      34.0      34.0       515   \n",
       "4              101.0           115.0     87.0      11.0      25.0       688   \n",
       "\n",
       "   TaxiIn  TaxiOut  CarrierDelay  WeatherDelay  NASDelay  LateAircraftDelay  \\\n",
       "0     4.0      8.0           0.0           0.0       0.0                0.0   \n",
       "1     5.0     10.0           0.0           0.0       0.0                0.0   \n",
       "2     3.0     17.0           0.0           0.0       0.0                0.0   \n",
       "3     3.0     10.0           2.0           0.0       0.0               32.0   \n",
       "4     4.0     10.0           0.0           0.0       0.0                0.0   \n",
       "\n",
       "   VelocityAir  DelayedArr  TotalDelayed  \n",
       "0   379.687500           0           0.0  \n",
       "1   379.687500           1           0.0  \n",
       "2   321.875000           1           0.0  \n",
       "3   343.333333           1          34.0  \n",
       "4   408.712871           1           0.0  "
      ]
     },
     "execution_count": 6,
     "metadata": {},
     "output_type": "execute_result"
    }
   ],
   "source": [
    "df2.head()"
   ]
  },
  {
   "cell_type": "code",
   "execution_count": 7,
   "id": "aabc3e07",
   "metadata": {},
   "outputs": [
    {
     "data": {
      "text/plain": [
       "1    0.907738\n",
       "0    0.092262\n",
       "Name: DelayedArr, dtype: float64"
      ]
     },
     "execution_count": 7,
     "metadata": {},
     "output_type": "execute_result"
    }
   ],
   "source": [
    "# count the values on column DelayedArr:\n",
    "df2.DelayedArr.value_counts() / len(df2)"
   ]
  },
  {
   "cell_type": "markdown",
   "id": "3e8a7000",
   "metadata": {},
   "source": [
    "We see that our dataset has a $90.77\\%$ of late aircrafts, and a $9.23\\%$ of arrivals on time/earlier.\n",
    "\n",
    "We want this percentages being reflected to our sample. To do so, we will use sample for each group:"
   ]
  },
  {
   "cell_type": "code",
   "execution_count": 8,
   "id": "653c88e3",
   "metadata": {},
   "outputs": [],
   "source": [
    "dfpr = df2.sample(frac=0.5, random_state=42)"
   ]
  },
  {
   "cell_type": "code",
   "execution_count": 9,
   "id": "0828a81d",
   "metadata": {},
   "outputs": [
    {
     "data": {
      "text/plain": [
       "1    0.908062\n",
       "0    0.091938\n",
       "Name: DelayedArr, dtype: float64"
      ]
     },
     "execution_count": 9,
     "metadata": {},
     "output_type": "execute_result"
    }
   ],
   "source": [
    "dfpr.DelayedArr.value_counts()/len(dfpr)"
   ]
  },
  {
   "cell_type": "markdown",
   "id": "6e7614dd",
   "metadata": {},
   "source": [
    "We can see that the values change to the 3 value: 90.81 and 9.19, a difference of 0.04 for both, we can use this function to split the dataset into one similar as our."
   ]
  },
  {
   "cell_type": "code",
   "execution_count": 10,
   "id": "4d84b005",
   "metadata": {},
   "outputs": [
    {
     "data": {
      "text/plain": [
       "(964184, 15)"
      ]
     },
     "execution_count": 10,
     "metadata": {},
     "output_type": "execute_result"
    }
   ],
   "source": [
    "dfpr.shape"
   ]
  },
  {
   "cell_type": "code",
   "execution_count": 11,
   "id": "e9085c36",
   "metadata": {},
   "outputs": [
    {
     "data": {
      "image/png": "[encoded data removed]",
      "text/plain": [
       "<Figure size 432x288 with 1 Axes>"
      ]
     },
     "metadata": {
      "needs_background": "light"
     },
     "output_type": "display_data"
    }
   ],
   "source": [
    "# https://machinelearningmastery.com/statistical-power-and-power-analysis-in-python/\n",
    "from statsmodels.stats.power import TTestIndPower\n",
    "# parameters for power analysis\n",
    "effect_sizes = np.array([0.2, 0.5, 0.8])\n",
    "sample_sizes = np.array(range(5, 100))\n",
    "# calculate power curves from multiple power analyses\n",
    "analysis = TTestIndPower()\n",
    "analysis.plot_power(dep_var='nobs', nobs=sample_sizes, effect_size=effect_sizes)\n",
    "plt.show()"
   ]
  },
  {
   "cell_type": "markdown",
   "id": "2051060a",
   "metadata": {},
   "source": [
    "We can see that if we are interested in a large effect that a point of diminishing returns in terms of statistical power occurs at around 40-to-50 observations. (Around the 40-50% of the total dataset)."
   ]
  },
  {
   "cell_type": "markdown",
   "id": "5839e371",
   "metadata": {},
   "source": [
    "============= Random things ============="
   ]
  },
  {
   "cell_type": "code",
   "execution_count": 12,
   "id": "094f3798",
   "metadata": {},
   "outputs": [
    {
     "data": {
      "text/plain": [
       "8.646031471554556"
      ]
     },
     "execution_count": 12,
     "metadata": {},
     "output_type": "execute_result"
    }
   ],
   "source": [
    "100 * (50000 / (50000+3164+3175+521961))"
   ]
  },
  {
   "cell_type": "code",
   "execution_count": 13,
   "id": "ab291ee1",
   "metadata": {},
   "outputs": [
    {
     "data": {
      "text/plain": [
       "0.5471208715199724"
      ]
     },
     "execution_count": 13,
     "metadata": {},
     "output_type": "execute_result"
    }
   ],
   "source": [
    "100 * (3164 / (50000+3164+3175+521961))"
   ]
  },
  {
   "cell_type": "code",
   "execution_count": 14,
   "id": "add6b91a",
   "metadata": {},
   "outputs": [
    {
     "data": {
      "text/plain": [
       "0.5490229984437143"
      ]
     },
     "execution_count": 14,
     "metadata": {},
     "output_type": "execute_result"
    }
   ],
   "source": [
    "100 * (3175 / (50000+3164+3175+521961))"
   ]
  },
  {
   "cell_type": "code",
   "execution_count": 15,
   "id": "b219f429",
   "metadata": {},
   "outputs": [
    {
     "data": {
      "text/plain": [
       "90.25782465848175"
      ]
     },
     "execution_count": 15,
     "metadata": {},
     "output_type": "execute_result"
    }
   ],
   "source": [
    "100 * (521961 / (50000+3164+3175+521961))"
   ]
  },
  {
   "cell_type": "code",
   "execution_count": 16,
   "id": "6b1cb412",
   "metadata": {},
   "outputs": [
    {
     "data": {
      "text/plain": [
       "7.82007602275497"
      ]
     },
     "execution_count": 16,
     "metadata": {},
     "output_type": "execute_result"
    }
   ],
   "source": [
    "100 * (45240 / (45240+8135+5362+519774))"
   ]
  },
  {
   "cell_type": "code",
   "execution_count": 17,
   "id": "e42581d6",
   "metadata": {},
   "outputs": [
    {
     "data": {
      "text/plain": [
       "1.40619625210238"
      ]
     },
     "execution_count": 17,
     "metadata": {},
     "output_type": "execute_result"
    }
   ],
   "source": [
    "100 * (8135 / (45240+8135+5362+519774))"
   ]
  },
  {
   "cell_type": "code",
   "execution_count": 18,
   "id": "33211f42",
   "metadata": {},
   "outputs": [
    {
     "data": {
      "text/plain": [
       "0.9268622377102597"
      ]
     },
     "execution_count": 18,
     "metadata": {},
     "output_type": "execute_result"
    }
   ],
   "source": [
    "100 * (5362 / (45240+8135+5362+519774))"
   ]
  },
  {
   "cell_type": "code",
   "execution_count": 19,
   "id": "1b47f5b1",
   "metadata": {},
   "outputs": [
    {
     "data": {
      "text/plain": [
       "89.8468654874324"
      ]
     },
     "execution_count": 19,
     "metadata": {},
     "output_type": "execute_result"
    }
   ],
   "source": [
    "100 * (519774 / (45240+8135+5362+519774))"
   ]
  },
  {
   "cell_type": "code",
   "execution_count": 38,
   "id": "3baac531",
   "metadata": {},
   "outputs": [
    {
     "data": {
      "text/plain": [
       "9.22627227485735"
      ]
     },
     "execution_count": 38,
     "metadata": {},
     "output_type": "execute_result"
    }
   ],
   "source": [
    "100 * (53375 / (53375 + 525136))"
   ]
  },
  {
   "cell_type": "code",
   "execution_count": 37,
   "id": "468e9c4a",
   "metadata": {},
   "outputs": [
    {
     "data": {
      "text/plain": [
       "90.77372772514265"
      ]
     },
     "execution_count": 37,
     "metadata": {},
     "output_type": "execute_result"
    }
   ],
   "source": [
    "100 * (525136 / (53375 + 525136))"
   ]
  },
  {
   "cell_type": "markdown",
   "id": "1609632e",
   "metadata": {},
   "source": [
    "============= Time that takes to run knn with algorithm brute ============="
   ]
  },
  {
   "cell_type": "code",
   "execution_count": 20,
   "id": "9e78a255",
   "metadata": {},
   "outputs": [
    {
     "data": {
      "text/plain": [
       "(35000, 13)"
      ]
     },
     "execution_count": 20,
     "metadata": {},
     "output_type": "execute_result"
    }
   ],
   "source": [
    "# take only 500:\n",
    "dfp = df2.sample(50000)\n",
    "# to do this part, we first will take a subsample of the dataset df2p:\n",
    "Xp = np.array(dfp.drop(['ArrDelay','DelayedArr'], axis=1))\n",
    "yp = np.array(dfp['DelayedArr']).reshape(-1,1)\n",
    "\n",
    "Xp_train, Xp_test, yp_train, yp_test = train_test_split(Xp, yp.ravel(), test_size=0.3, random_state=42, \n",
    "                                                    shuffle=True, stratify=yp)\n",
    "Xp_train.shape"
   ]
  },
  {
   "cell_type": "code",
   "execution_count": 23,
   "id": "cf84ea7d",
   "metadata": {},
   "outputs": [
    {
     "name": "stdout",
     "output_type": "stream",
     "text": [
      "350\n",
      "700\n",
      "3500\n",
      "7000\n",
      "21000\n",
      "35000\n",
      "[0.3868408203125, 0.6079320907592773, 1.4200677871704102, 3.475005865097046, 28.65158462524414, 81.64045524597168]\n"
     ]
    },
    {
     "data": {
      "image/png": "[encoded data removed]",
      "text/plain": [
       "<Figure size 432x288 with 1 Axes>"
      ]
     },
     "metadata": {
      "needs_background": "light"
     },
     "output_type": "display_data"
    }
   ],
   "source": [
    "import time\n",
    "n = [500, 1000, 5000, 10000, 30000, 50000]\n",
    "\n",
    "timetot = []\n",
    "for j in n:\n",
    "    dfp = df2.sample(j)\n",
    "    # to do this part, we first will take a subsample of the dataset df2p:\n",
    "    Xp = np.array(dfp.drop(['ArrDelay','DelayedArr'], axis=1))\n",
    "    yp = np.array(dfp['DelayedArr']).reshape(-1,1)\n",
    "\n",
    "    Xp_train, Xp_test, yp_train, yp_test = train_test_split(Xp, yp.ravel(), test_size=0.3, random_state=42, \n",
    "                                                    shuffle=True, stratify=yp)\n",
    "    print(Xp_train.shape[0])\n",
    "\n",
    "    algo = {'brute'}#{'auto', 'ball_tree', 'kd_tree', 'brute'}\n",
    "\n",
    "    MAEtrain_knn = []\n",
    "    MAEpre_knn = []\n",
    "\n",
    "    Strain_knn = []\n",
    "    Stest_knn = []\n",
    "\n",
    "    time0 = time.time()\n",
    "    for i in algo:\n",
    "        knn = KNeighborsClassifier(n_neighbors=5, algorithm=i,  n_jobs=-1)\n",
    "        knn.fit(Xp_train, yp_train)\n",
    "        \n",
    "        yknn = knn.predict(Xp_train)\n",
    "        MAEtrain_knn.append(metrics.mean_absolute_error(yp_train, yknn))\n",
    "        Strain_knn.append(knn.score(Xp_train, yp_train))\n",
    "        \n",
    "        ypknn = knn.predict(Xp_test)\n",
    "        MAEpre_knn.append(metrics.mean_absolute_error(yp_test, ypknn))\n",
    "        Stest_knn.append(knn.score(Xp_test, yp_test))\n",
    "    \n",
    "        #print(i, MAEtrain_knn, MAEpre_knn)\n",
    "\n",
    "    now = time.time()\n",
    "    timetot.append(now - time0)\n",
    "    \n",
    "#print('MAE train: ', MAEtrain_knn)\n",
    "#print('Score train: ', Strain_knn) \n",
    "#print('MAE test: ', MAEpre_knn)\n",
    "#print('Score test: ', Stest_knn)\n",
    "print(timetot)\n",
    "\n",
    "plt.plot(n, timetot)\n",
    "plt.xlabel('number of points')\n",
    "plt.ylabel('time (seconds)')\n",
    "plt.show()"
   ]
  },
  {
   "cell_type": "code",
   "execution_count": 33,
   "id": "f50913e1",
   "metadata": {},
   "outputs": [
    {
     "data": {
      "image/png": "[encoded data removed]",
      "text/plain": [
       "<Figure size 432x288 with 1 Axes>"
      ]
     },
     "metadata": {
      "needs_background": "light"
     },
     "output_type": "display_data"
    }
   ],
   "source": [
    "plt.plot(n, timetot)\n",
    "plt.xscale('log')\n",
    "plt.title('Semi-logarithmic plot')\n",
    "plt.xlabel('number of points')\n",
    "plt.ylabel('time (seconds)')\n",
    "plt.show()"
   ]
  },
  {
   "cell_type": "markdown",
   "id": "0dcef5cd",
   "metadata": {},
   "source": [
    "The graph show linear behaviour for low values, below 10000, and above it shows exponencial behaviour. But first, we will see how it will go if it were linear (lower values of n show linear behaviour). Then we predict time for exponencial fitting."
   ]
  },
  {
   "cell_type": "code",
   "execution_count": 25,
   "id": "7e67ea1b",
   "metadata": {},
   "outputs": [
    {
     "data": {
      "text/plain": [
       "array([ 1.57816680e-03, -6.01853493e+00])"
      ]
     },
     "execution_count": 25,
     "metadata": {},
     "output_type": "execute_result"
    }
   ],
   "source": [
    "model = np.polyfit(n, timetot, 1)\n",
    "model"
   ]
  },
  {
   "cell_type": "code",
   "execution_count": 35,
   "id": "4341f4d4",
   "metadata": {},
   "outputs": [
    {
     "data": {
      "image/png": "[encoded data removed]",
      "text/plain": [
       "<Figure size 432x288 with 1 Axes>"
      ]
     },
     "metadata": {
      "needs_background": "light"
     },
     "output_type": "display_data"
    }
   ],
   "source": [
    "x_fitted = np.linspace(np.min(n), np.max(n),10)\n",
    "y_fitted = model[0]*x_fitted + model[1]\n",
    "line1 = plt.plot(x_fitted, y_fitted)\n",
    "line2 = plt.plot(n, timetot)\n",
    "plt.legend(['fit', 'data'])\n",
    "plt.title('Fit linear')\n",
    "plt.xlabel('number of points')\n",
    "plt.ylabel('time (seconds)')\n",
    "plt.show()"
   ]
  },
  {
   "cell_type": "code",
   "execution_count": 27,
   "id": "a341fb97",
   "metadata": {},
   "outputs": [
    {
     "data": {
      "text/plain": [
       "846.1000024017908"
      ]
     },
     "execution_count": 27,
     "metadata": {},
     "output_type": "execute_result"
    }
   ],
   "source": [
    "pred = np.poly1d(model)\n",
    "num = 539942\n",
    "pred(num)"
   ]
  },
  {
   "cell_type": "code",
   "execution_count": 28,
   "id": "cd645674",
   "metadata": {},
   "outputs": [],
   "source": [
    "p = np.polyfit(n, np.log(timetot),1)"
   ]
  },
  {
   "cell_type": "code",
   "execution_count": 29,
   "id": "0f8edb7b",
   "metadata": {},
   "outputs": [
    {
     "data": {
      "text/plain": [
       "array([ 1.04775243e-04, -3.67401762e-01])"
      ]
     },
     "execution_count": 29,
     "metadata": {},
     "output_type": "execute_result"
    }
   ],
   "source": [
    "p"
   ]
  },
  {
   "cell_type": "code",
   "execution_count": 36,
   "id": "c60f00fc",
   "metadata": {},
   "outputs": [
    {
     "data": {
      "image/png": "[encoded data removed]",
      "text/plain": [
       "<Figure size 432x288 with 1 Axes>"
      ]
     },
     "metadata": {
      "needs_background": "light"
     },
     "output_type": "display_data"
    }
   ],
   "source": [
    "x_fitted = np.linspace(np.min(n), np.max(n), 10)\n",
    "y_fitted = np.exp(p[1]) * np.exp(p[0]*x_fitted)\n",
    "line1 = plt.plot(x_fitted, y_fitted)\n",
    "line2 = plt.plot(n, timetot)\n",
    "plt.legend(['fit', 'data'])\n",
    "plt.title('Semi-logarithmic fit')\n",
    "plt.xlabel('number of points')\n",
    "plt.ylabel('time (seconds)')\n",
    "plt.show()"
   ]
  },
  {
   "cell_type": "code",
   "execution_count": 31,
   "id": "4f553fde",
   "metadata": {},
   "outputs": [
    {
     "data": {
      "text/plain": [
       "56.2051523866927"
      ]
     },
     "execution_count": 31,
     "metadata": {},
     "output_type": "execute_result"
    }
   ],
   "source": [
    "predict = np.poly1d(p)\n",
    "num = 539942\n",
    "predict(num)"
   ]
  },
  {
   "cell_type": "code",
   "execution_count": 32,
   "id": "aebf4e67",
   "metadata": {},
   "outputs": [
    {
     "data": {
      "text/plain": [
       "2.567955751193492e+24"
      ]
     },
     "execution_count": 32,
     "metadata": {},
     "output_type": "execute_result"
    }
   ],
   "source": [
    "np.exp(predict(num))"
   ]
  },
  {
   "cell_type": "markdown",
   "id": "16cd3320",
   "metadata": {},
   "source": []
  },
  {
   "cell_type": "code",
   "execution_count": 12,
   "id": "cadcb6c4",
   "metadata": {},
   "outputs": [
    {
     "name": "stdout",
     "output_type": "stream",
     "text": [
      "350\n",
      "[LibSVM]*..\n",
      "Warning: using -h 0 may be faster\n",
      "*\n",
      "optimization finished, #iter = 711\n",
      "obj = -61.571670, rho = 0.814312\n",
      "nSV = 74, nBSV = 53\n",
      "Total nSV = 74\n",
      "700\n",
      "[LibSVM]*\n",
      "optimization finished, #iter = 586\n",
      "obj = -137.751663, rho = 0.985900\n",
      "nSV = 152, nBSV = 131\n",
      "Total nSV = 152\n",
      "3500\n",
      "[LibSVM]*.\n",
      "Warning: using -h 0 may be faster\n",
      "*\n",
      "optimization finished, #iter = 1050\n",
      "obj = -629.025857, rho = 1.000262\n",
      "nSV = 645, nBSV = 619\n",
      "Total nSV = 645\n",
      "7000\n",
      "[LibSVM].\n",
      "Warning: using -h 0 may be faster\n",
      "*\n",
      "optimization finished, #iter = 1719\n",
      "obj = -1306.474806, rho = 0.982346\n",
      "nSV = 1333, nBSV = 1310\n",
      "Total nSV = 1333\n",
      "21000\n",
      "[LibSVM]...\n",
      "Warning: using -h 0 may be faster\n",
      "*\n",
      "optimization finished, #iter = 3408\n",
      "obj = -3831.082580, rho = 0.904496\n",
      "nSV = 3970, nBSV = 3939\n",
      "Total nSV = 3970\n",
      "35000\n",
      "[LibSVM]....\n",
      "Warning: using -h 0 may be faster\n",
      "*.\n",
      "Warning: using -h 0 may be faster\n",
      "*\n",
      "optimization finished, #iter = 5463\n",
      "obj = -6099.385737, rho = 0.943308\n",
      "nSV = 6444, nBSV = 6419\n",
      "Total nSV = 6444\n",
      "70000\n",
      "[LibSVM]........\n",
      "Warning: using -h 0 may be faster\n",
      "*.\n",
      "Warning: using -h 0 may be faster\n",
      "*\n",
      "optimization finished, #iter = 9676\n",
      "obj = -11750.422189, rho = 0.795587\n",
      "nSV = 13060, nBSV = 13033\n",
      "Total nSV = 13060\n",
      "350000\n",
      "[LibSVM].................................\n",
      "Warning: using -h 0 may be faster\n",
      "*..\n",
      "Warning: using -h 0 may be faster\n",
      "*.\n",
      "Warning: using -h 0 may be faster\n",
      "*\n",
      "optimization finished, #iter = 35910\n",
      "obj = -43035.890249, rho = 2.087562\n",
      "nSV = 53509, nBSV = 53475\n",
      "Total nSV = 53509\n"
     ]
    }
   ],
   "source": [
    "import time\n",
    "n = [500, 1000, 5000, 10000, 30000, 50000, 100000, 500000]\n",
    "\n",
    "timetot = []\n",
    "for j in n:\n",
    "    dfp = df2.sample(j)\n",
    "    # to do this part, we first will take a subsample of the dataset df2p:\n",
    "    Xp = np.array(dfp.drop(['ArrDelay','DelayedArr'], axis=1))\n",
    "    yp = np.array(dfp['DelayedArr']).reshape(-1,1)\n",
    "\n",
    "    Xp_train, Xp_test, yp_train, yp_test = train_test_split(Xp, yp.ravel(), test_size=0.3, random_state=42, \n",
    "                                                    shuffle=True, stratify=yp)\n",
    "    print(Xp_train.shape[0])\n",
    "\n",
    "    algo = {'rbf'}\n",
    "\n",
    "    MAEtrain_svc = []\n",
    "    MAEpre_svc = []\n",
    "\n",
    "    Strain_svc = []\n",
    "    Stest_svc = []\n",
    "\n",
    "    time0 = time.time()\n",
    "    for i in algo:\n",
    "        mSVC = svm.SVC(kernel=i,random_state=42, verbose=True)\n",
    "        mSVC.fit(Xp_train, yp_train)\n",
    "        \n",
    "        ysvc = mSVC.predict(Xp_train)\n",
    "        MAEtrain_svc.append(metrics.mean_absolute_error(yp_train, ysvc))\n",
    "        Strain_svc.append(mSVC.score(Xp_train, yp_train))\n",
    "        \n",
    "        ypsvc = mSVC.predict(Xp_test)\n",
    "        MAEpre_svc.append(metrics.mean_absolute_error(yp_test, ypsvc))\n",
    "        Stest_svc.append(mSVC.score(Xp_test, yp_test))\n",
    "    \n",
    "        #print(i, MAEtrain_knn, MAEpre_knn)\n",
    "\n",
    "    now = time.time()\n",
    "    timetot.append(now - time0)\n",
    "\n"
   ]
  },
  {
   "cell_type": "code",
   "execution_count": 13,
   "id": "1fe47427",
   "metadata": {},
   "outputs": [
    {
     "name": "stdout",
     "output_type": "stream",
     "text": [
      "[0.008987665176391602, 0.02699112892150879, 0.4932985305786133, 2.065704345703125, 18.428059577941895, 49.921814918518066, 213.07927775382996, 5155.6162123680115]\n"
     ]
    },
    {
     "data": {
      "image/png": "[encoded data removed]",
      "text/plain": [
       "<Figure size 432x288 with 1 Axes>"
      ]
     },
     "metadata": {
      "needs_background": "light"
     },
     "output_type": "display_data"
    }
   ],
   "source": [
    "print(timetot)\n",
    "plt.plot(n, timetot)\n",
    "plt.xlabel('number of points')\n",
    "plt.ylabel('time (seconds)')\n",
    "plt.title('SVC - rbf')\n",
    "plt.show()"
   ]
  },
  {
   "cell_type": "markdown",
   "id": "e91fafa4",
   "metadata": {},
   "source": [
    "The time seems to grow linearly for datasets below 100000 entries, while exponencial for datasets over it."
   ]
  },
  {
   "cell_type": "code",
   "execution_count": 15,
   "id": "fc01e922",
   "metadata": {},
   "outputs": [
    {
     "data": {
      "text/plain": [
       "19998.085919248166"
      ]
     },
     "execution_count": 15,
     "metadata": {},
     "output_type": "execute_result"
    }
   ],
   "source": [
    "model = np.polyfit(n, timetot, 1)\n",
    "predict = np.poly1d(model)\n",
    "num = df2.shape[0]\n",
    "predict(num)"
   ]
  },
  {
   "cell_type": "code",
   "execution_count": 16,
   "id": "2934013e",
   "metadata": {},
   "outputs": [
    {
     "data": {
      "image/png": "[encoded data removed]",
      "text/plain": [
       "<Figure size 432x288 with 1 Axes>"
      ]
     },
     "metadata": {
      "needs_background": "light"
     },
     "output_type": "display_data"
    }
   ],
   "source": [
    "x_fitted = np.linspace(np.min(n), np.max(n),10)\n",
    "y_fitted = model[0]*x_fitted + model[1]\n",
    "line1 = plt.plot(x_fitted, y_fitted)\n",
    "line2 = plt.plot(n, timetot)\n",
    "plt.legend(['fit', 'data'])\n",
    "plt.title('Fit linear')\n",
    "plt.xlabel('number of points')\n",
    "plt.ylabel('time (seconds)')\n",
    "plt.show()"
   ]
  },
  {
   "cell_type": "code",
   "execution_count": 17,
   "id": "a3de1563",
   "metadata": {},
   "outputs": [
    {
     "data": {
      "text/plain": [
       "778.1086486547018"
      ]
     },
     "execution_count": 17,
     "metadata": {},
     "output_type": "execute_result"
    }
   ],
   "source": [
    "predict(67492+28926)"
   ]
  },
  {
   "cell_type": "markdown",
   "id": "667fc403",
   "metadata": {},
   "source": []
  },
  {
   "cell_type": "markdown",
   "id": "eac59fa0",
   "metadata": {},
   "source": []
  },
  {
   "cell_type": "markdown",
   "id": "cc4bf086",
   "metadata": {},
   "source": [
    "====== More random things ======= "
   ]
  },
  {
   "cell_type": "code",
   "execution_count": 18,
   "id": "d70abd8f",
   "metadata": {},
   "outputs": [
    {
     "data": {
      "text/plain": [
       "8.174779736253935"
      ]
     },
     "execution_count": 18,
     "metadata": {},
     "output_type": "execute_result"
    }
   ],
   "source": [
    "100* ( 47292/ (47292+5958+13662+511599))"
   ]
  },
  {
   "cell_type": "code",
   "execution_count": 19,
   "id": "b2e1013e",
   "metadata": {},
   "outputs": [
    {
     "data": {
      "text/plain": [
       "1.0298853435803295"
      ]
     },
     "execution_count": 19,
     "metadata": {},
     "output_type": "execute_result"
    }
   ],
   "source": [
    "100* ( 5958/ (47292+5958+13662+511599))"
   ]
  },
  {
   "cell_type": "code",
   "execution_count": 20,
   "id": "d976d69a",
   "metadata": {},
   "outputs": [
    {
     "data": {
      "text/plain": [
       "2.361579987243112"
      ]
     },
     "execution_count": 20,
     "metadata": {},
     "output_type": "execute_result"
    }
   ],
   "source": [
    "100* ( 13662/ (47292+5958+13662+511599))"
   ]
  },
  {
   "cell_type": "code",
   "execution_count": 21,
   "id": "d1ac257e",
   "metadata": {},
   "outputs": [
    {
     "data": {
      "text/plain": [
       "88.43375493292262"
      ]
     },
     "execution_count": 21,
     "metadata": {},
     "output_type": "execute_result"
    }
   ],
   "source": [
    "100* ( 511599/ (47292+5958+13662+511599))"
   ]
  },
  {
   "cell_type": "code",
   "execution_count": 25,
   "id": "d0ed2ff3",
   "metadata": {},
   "outputs": [
    {
     "data": {
      "text/plain": [
       "4.960999625278666"
      ]
     },
     "execution_count": 25,
     "metadata": {},
     "output_type": "execute_result"
    }
   ],
   "source": [
    "100* ( 28729/ (28729+24521+25847+500000))"
   ]
  },
  {
   "cell_type": "code",
   "execution_count": 26,
   "id": "742706c4",
   "metadata": {},
   "outputs": [
    {
     "data": {
      "text/plain": [
       "4.234351067265069"
      ]
     },
     "execution_count": 26,
     "metadata": {},
     "output_type": "execute_result"
    }
   ],
   "source": [
    "100* ( 24521/ (28729+24521+25847+500000))"
   ]
  },
  {
   "cell_type": "code",
   "execution_count": 27,
   "id": "238e7fc0",
   "metadata": {},
   "outputs": [
    {
     "data": {
      "text/plain": [
       "4.463328250707567"
      ]
     },
     "execution_count": 27,
     "metadata": {},
     "output_type": "execute_result"
    }
   ],
   "source": [
    "100* ( 25847/ (28729+24521+25847+500000))"
   ]
  },
  {
   "cell_type": "code",
   "execution_count": 28,
   "id": "1a060312",
   "metadata": {},
   "outputs": [
    {
     "data": {
      "text/plain": [
       "86.3413210567487"
      ]
     },
     "execution_count": 28,
     "metadata": {},
     "output_type": "execute_result"
    }
   ],
   "source": [
    "100* ( 500000/ (28729+24521+25847+500000))"
   ]
  },
  {
   "cell_type": "code",
   "execution_count": 29,
   "id": "62d4411d",
   "metadata": {},
   "outputs": [
    {
     "data": {
      "text/plain": [
       "4.455230756199969"
      ]
     },
     "execution_count": 29,
     "metadata": {},
     "output_type": "execute_result"
    }
   ],
   "source": [
    "100* ( 25774/ (25774+27476+19454+505807))"
   ]
  },
  {
   "cell_type": "code",
   "execution_count": 30,
   "id": "ed5c1af6",
   "metadata": {},
   "outputs": [
    {
     "data": {
      "text/plain": [
       "4.749434323634295"
      ]
     },
     "execution_count": 30,
     "metadata": {},
     "output_type": "execute_result"
    }
   ],
   "source": [
    "100* ( 27476/ (25774+27476+19454+505807))"
   ]
  },
  {
   "cell_type": "code",
   "execution_count": 31,
   "id": "165cc288",
   "metadata": {},
   "outputs": [
    {
     "data": {
      "text/plain": [
       "3.362770975832784"
      ]
     },
     "execution_count": 31,
     "metadata": {},
     "output_type": "execute_result"
    }
   ],
   "source": [
    "100* ( 19454/ (25774+27476+19454+505807))"
   ]
  },
  {
   "cell_type": "code",
   "execution_count": 32,
   "id": "90d9ea67",
   "metadata": {},
   "outputs": [
    {
     "data": {
      "text/plain": [
       "87.43256394433295"
      ]
     },
     "execution_count": 32,
     "metadata": {},
     "output_type": "execute_result"
    }
   ],
   "source": [
    "100* ( 505807/ (25774+27476+19454+505807))"
   ]
  },
  {
   "cell_type": "code",
   "execution_count": 33,
   "id": "b85448fa",
   "metadata": {},
   "outputs": [
    {
     "data": {
      "text/plain": [
       "4.2699274516819905"
      ]
     },
     "execution_count": 33,
     "metadata": {},
     "output_type": "execute_result"
    }
   ],
   "source": [
    "100* ( 24702/ (24702+28548+11753+513508))"
   ]
  },
  {
   "cell_type": "code",
   "execution_count": 34,
   "id": "9d64d078",
   "metadata": {},
   "outputs": [
    {
     "data": {
      "text/plain": [
       "4.9347376281522735"
      ]
     },
     "execution_count": 34,
     "metadata": {},
     "output_type": "execute_result"
    }
   ],
   "source": [
    "100* ( 28548/ (24702+28548+11753+513508))"
   ]
  },
  {
   "cell_type": "code",
   "execution_count": 35,
   "id": "103972ea",
   "metadata": {},
   "outputs": [
    {
     "data": {
      "text/plain": [
       "2.031594904850556"
      ]
     },
     "execution_count": 35,
     "metadata": {},
     "output_type": "execute_result"
    }
   ],
   "source": [
    "100* ( 11753/ (24702+28548+11753+513508))"
   ]
  },
  {
   "cell_type": "code",
   "execution_count": 36,
   "id": "af99faa0",
   "metadata": {},
   "outputs": [
    {
     "data": {
      "text/plain": [
       "88.76374001531518"
      ]
     },
     "execution_count": 36,
     "metadata": {},
     "output_type": "execute_result"
    }
   ],
   "source": [
    "100* ( 513508/ (24702+28548+11753+513508))"
   ]
  },
  {
   "cell_type": "code",
   "execution_count": null,
   "id": "db457e07",
   "metadata": {},
   "outputs": [],
   "source": []
  }
 ],
 "metadata": {
  "kernelspec": {
   "display_name": "Python 3 (ipykernel)",
   "language": "python",
   "name": "python3"
  },
  "language_info": {
   "codemirror_mode": {
    "name": "ipython",
    "version": 3
   },
   "file_extension": ".py",
   "mimetype": "text/x-python",
   "name": "python",
   "nbconvert_exporter": "python",
   "pygments_lexer": "ipython3",
   "version": "3.9.7"
  },
  "latex_envs": {
   "LaTeX_envs_menu_present": true,
   "autoclose": false,
   "autocomplete": true,
   "bibliofile": "biblio.bib",
   "cite_by": "apalike",
   "current_citInitial": 1,
   "eqLabelWithNumbers": true,
   "eqNumInitial": 1,
   "hotkeys": {
    "equation": "Ctrl-E",
    "itemize": "Ctrl-I"
   },
   "labels_anchors": false,
   "latex_user_defs": false,
   "report_style_numbering": false,
   "user_envs_cfg": false
  }
 },
 "nbformat": 4,
 "nbformat_minor": 5
}
