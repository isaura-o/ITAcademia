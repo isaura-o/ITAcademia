{
 "cells": [
  {
   "cell_type": "markdown",
   "id": "afa327ac",
   "metadata": {},
   "source": [
    "$\\#\\#\\#\\#\\#\\#\\#$ Libraries $\\#\\#\\#\\#\\#\\#\\#$"
   ]
  },
  {
   "cell_type": "code",
   "execution_count": 1,
   "id": "5f916479",
   "metadata": {},
   "outputs": [],
   "source": [
    "import numpy as np\n",
    "import pandas as pd\n",
    "import math\n",
    "import matplotlib.pyplot as plt\n",
    "import seaborn as sns\n",
    "import re\n",
    "from scipy import stats\n",
    "from sklearn import metrics\n",
    "from sklearn.preprocessing import StandardScaler\n",
    "from sklearn.preprocessing import RobustScaler\n",
    "from sklearn.preprocessing import LabelEncoder\n",
    "from sklearn.model_selection import train_test_split\n",
    "from sklearn.model_selection import cross_validate\n",
    "from sklearn.linear_model import LinearRegression\n",
    "from sklearn.tree import DecisionTreeRegressor\n",
    "from sklearn.ensemble import RandomForestRegressor\n",
    "from sklearn.pipeline import make_pipeline\n",
    "\n",
    "\n",
    "\n",
    "import warnings\n",
    "\n",
    "warnings.filterwarnings('ignore') "
   ]
  },
  {
   "cell_type": "markdown",
   "id": "89c6f4eb",
   "metadata": {},
   "source": [
    "$\\#\\#\\#\\#\\#\\#\\#\\#\\#\\#\\#\\#\\#\\#\\#\\#\\#\\#\\#\\#\\#\\#$"
   ]
  },
  {
   "cell_type": "markdown",
   "id": "5064bcb6",
   "metadata": {},
   "source": [
    "# Data"
   ]
  },
  {
   "cell_type": "markdown",
   "id": "5f519578",
   "metadata": {},
   "source": [
    "We load the cleaned dataset from Sprint 2, task 5."
   ]
  },
  {
   "cell_type": "code",
   "execution_count": 80,
   "id": "f162a53f",
   "metadata": {},
   "outputs": [],
   "source": [
    "df = pd.read_csv('DelayedFlights_Mod.csv')"
   ]
  },
  {
   "cell_type": "code",
   "execution_count": 81,
   "id": "f694d574",
   "metadata": {},
   "outputs": [],
   "source": [
    "df.drop('Unnamed: 0', axis=1, inplace=True)"
   ]
  },
  {
   "cell_type": "code",
   "execution_count": 82,
   "id": "7661646d",
   "metadata": {},
   "outputs": [
    {
     "data": {
      "text/html": [
       "<div>\n",
       "<style scoped>\n",
       "    .dataframe tbody tr th:only-of-type {\n",
       "        vertical-align: middle;\n",
       "    }\n",
       "\n",
       "    .dataframe tbody tr th {\n",
       "        vertical-align: top;\n",
       "    }\n",
       "\n",
       "    .dataframe thead th {\n",
       "        text-align: right;\n",
       "    }\n",
       "</style>\n",
       "<table border=\"1\" class=\"dataframe\">\n",
       "  <thead>\n",
       "    <tr style=\"text-align: right;\">\n",
       "      <th></th>\n",
       "      <th>Month</th>\n",
       "      <th>DayofMonth</th>\n",
       "      <th>DayOfWeek</th>\n",
       "      <th>DepTime</th>\n",
       "      <th>CRSDepTime</th>\n",
       "      <th>ArrTime</th>\n",
       "      <th>CRSArrTime</th>\n",
       "      <th>UniqueCarrier</th>\n",
       "      <th>FlightNum</th>\n",
       "      <th>TailNum</th>\n",
       "      <th>...</th>\n",
       "      <th>TaxiOut</th>\n",
       "      <th>CarrierDelay</th>\n",
       "      <th>WeatherDelay</th>\n",
       "      <th>NASDelay</th>\n",
       "      <th>SecurityDelay</th>\n",
       "      <th>LateAircraftDelay</th>\n",
       "      <th>VelocityAir</th>\n",
       "      <th>DelayedArr</th>\n",
       "      <th>TotalDelayed</th>\n",
       "      <th>TaxiTime</th>\n",
       "    </tr>\n",
       "  </thead>\n",
       "  <tbody>\n",
       "    <tr>\n",
       "      <th>0</th>\n",
       "      <td>1</td>\n",
       "      <td>3</td>\n",
       "      <td>4</td>\n",
       "      <td>2003.0</td>\n",
       "      <td>1955</td>\n",
       "      <td>2211.0</td>\n",
       "      <td>2225</td>\n",
       "      <td>WN</td>\n",
       "      <td>335</td>\n",
       "      <td>N712SW</td>\n",
       "      <td>...</td>\n",
       "      <td>8.0</td>\n",
       "      <td>0.0</td>\n",
       "      <td>0.0</td>\n",
       "      <td>0.0</td>\n",
       "      <td>0.0</td>\n",
       "      <td>0.0</td>\n",
       "      <td>379.687500</td>\n",
       "      <td>0</td>\n",
       "      <td>0.0</td>\n",
       "      <td>12.0</td>\n",
       "    </tr>\n",
       "    <tr>\n",
       "      <th>1</th>\n",
       "      <td>1</td>\n",
       "      <td>3</td>\n",
       "      <td>4</td>\n",
       "      <td>754.0</td>\n",
       "      <td>735</td>\n",
       "      <td>1002.0</td>\n",
       "      <td>1000</td>\n",
       "      <td>WN</td>\n",
       "      <td>3231</td>\n",
       "      <td>N772SW</td>\n",
       "      <td>...</td>\n",
       "      <td>10.0</td>\n",
       "      <td>0.0</td>\n",
       "      <td>0.0</td>\n",
       "      <td>0.0</td>\n",
       "      <td>0.0</td>\n",
       "      <td>0.0</td>\n",
       "      <td>379.687500</td>\n",
       "      <td>1</td>\n",
       "      <td>0.0</td>\n",
       "      <td>15.0</td>\n",
       "    </tr>\n",
       "    <tr>\n",
       "      <th>2</th>\n",
       "      <td>1</td>\n",
       "      <td>3</td>\n",
       "      <td>4</td>\n",
       "      <td>628.0</td>\n",
       "      <td>620</td>\n",
       "      <td>804.0</td>\n",
       "      <td>750</td>\n",
       "      <td>WN</td>\n",
       "      <td>448</td>\n",
       "      <td>N428WN</td>\n",
       "      <td>...</td>\n",
       "      <td>17.0</td>\n",
       "      <td>0.0</td>\n",
       "      <td>0.0</td>\n",
       "      <td>0.0</td>\n",
       "      <td>0.0</td>\n",
       "      <td>0.0</td>\n",
       "      <td>321.875000</td>\n",
       "      <td>1</td>\n",
       "      <td>0.0</td>\n",
       "      <td>20.0</td>\n",
       "    </tr>\n",
       "    <tr>\n",
       "      <th>3</th>\n",
       "      <td>1</td>\n",
       "      <td>3</td>\n",
       "      <td>4</td>\n",
       "      <td>1829.0</td>\n",
       "      <td>1755</td>\n",
       "      <td>1959.0</td>\n",
       "      <td>1925</td>\n",
       "      <td>WN</td>\n",
       "      <td>3920</td>\n",
       "      <td>N464WN</td>\n",
       "      <td>...</td>\n",
       "      <td>10.0</td>\n",
       "      <td>2.0</td>\n",
       "      <td>0.0</td>\n",
       "      <td>0.0</td>\n",
       "      <td>0.0</td>\n",
       "      <td>32.0</td>\n",
       "      <td>343.333333</td>\n",
       "      <td>1</td>\n",
       "      <td>34.0</td>\n",
       "      <td>13.0</td>\n",
       "    </tr>\n",
       "    <tr>\n",
       "      <th>4</th>\n",
       "      <td>1</td>\n",
       "      <td>3</td>\n",
       "      <td>4</td>\n",
       "      <td>1940.0</td>\n",
       "      <td>1915</td>\n",
       "      <td>2121.0</td>\n",
       "      <td>2110</td>\n",
       "      <td>WN</td>\n",
       "      <td>378</td>\n",
       "      <td>N726SW</td>\n",
       "      <td>...</td>\n",
       "      <td>10.0</td>\n",
       "      <td>0.0</td>\n",
       "      <td>0.0</td>\n",
       "      <td>0.0</td>\n",
       "      <td>0.0</td>\n",
       "      <td>0.0</td>\n",
       "      <td>408.712871</td>\n",
       "      <td>1</td>\n",
       "      <td>0.0</td>\n",
       "      <td>14.0</td>\n",
       "    </tr>\n",
       "  </tbody>\n",
       "</table>\n",
       "<p>5 rows × 29 columns</p>\n",
       "</div>"
      ],
      "text/plain": [
       "   Month  DayofMonth  DayOfWeek  DepTime  CRSDepTime  ArrTime  CRSArrTime  \\\n",
       "0      1           3          4   2003.0        1955   2211.0        2225   \n",
       "1      1           3          4    754.0         735   1002.0        1000   \n",
       "2      1           3          4    628.0         620    804.0         750   \n",
       "3      1           3          4   1829.0        1755   1959.0        1925   \n",
       "4      1           3          4   1940.0        1915   2121.0        2110   \n",
       "\n",
       "  UniqueCarrier  FlightNum TailNum  ...  TaxiOut  CarrierDelay  WeatherDelay  \\\n",
       "0            WN        335  N712SW  ...      8.0           0.0           0.0   \n",
       "1            WN       3231  N772SW  ...     10.0           0.0           0.0   \n",
       "2            WN        448  N428WN  ...     17.0           0.0           0.0   \n",
       "3            WN       3920  N464WN  ...     10.0           2.0           0.0   \n",
       "4            WN        378  N726SW  ...     10.0           0.0           0.0   \n",
       "\n",
       "   NASDelay  SecurityDelay LateAircraftDelay VelocityAir  DelayedArr  \\\n",
       "0       0.0            0.0               0.0  379.687500           0   \n",
       "1       0.0            0.0               0.0  379.687500           1   \n",
       "2       0.0            0.0               0.0  321.875000           1   \n",
       "3       0.0            0.0              32.0  343.333333           1   \n",
       "4       0.0            0.0               0.0  408.712871           1   \n",
       "\n",
       "   TotalDelayed  TaxiTime  \n",
       "0           0.0      12.0  \n",
       "1           0.0      15.0  \n",
       "2           0.0      20.0  \n",
       "3          34.0      13.0  \n",
       "4           0.0      14.0  \n",
       "\n",
       "[5 rows x 29 columns]"
      ]
     },
     "execution_count": 82,
     "metadata": {},
     "output_type": "execute_result"
    }
   ],
   "source": [
    "df.head()"
   ]
  },
  {
   "cell_type": "code",
   "execution_count": 83,
   "id": "6ae33151",
   "metadata": {},
   "outputs": [
    {
     "data": {
      "text/plain": [
       "Index(['Month', 'DayofMonth', 'DayOfWeek', 'DepTime', 'CRSDepTime', 'ArrTime',\n",
       "       'CRSArrTime', 'UniqueCarrier', 'FlightNum', 'TailNum',\n",
       "       'ActualElapsedTime', 'CRSElapsedTime', 'AirTime', 'ArrDelay',\n",
       "       'DepDelay', 'Origin', 'Dest', 'Distance', 'TaxiIn', 'TaxiOut',\n",
       "       'CarrierDelay', 'WeatherDelay', 'NASDelay', 'SecurityDelay',\n",
       "       'LateAircraftDelay', 'VelocityAir', 'DelayedArr', 'TotalDelayed',\n",
       "       'TaxiTime'],\n",
       "      dtype='object')"
      ]
     },
     "execution_count": 83,
     "metadata": {},
     "output_type": "execute_result"
    }
   ],
   "source": [
    "df.columns"
   ]
  },
  {
   "cell_type": "markdown",
   "id": "bf485b42",
   "metadata": {},
   "source": [
    "Since this exercise belongs to the set from sprint 9, I will not repeating the description of the data, see sprint 9 task 1, for further details [1].\n",
    "\n",
    "[1] https://github.com/isaura-o/ITAcademia/blob/main/Sprint9/S09T01_Practicant_Train_Test.ipynb"
   ]
  },
  {
   "cell_type": "code",
   "execution_count": 6,
   "id": "c84d8e2c",
   "metadata": {},
   "outputs": [
    {
     "name": "stdout",
     "output_type": "stream",
     "text": [
      "<class 'pandas.core.frame.DataFrame'>\n",
      "RangeIndex: 1928368 entries, 0 to 1928367\n",
      "Data columns (total 29 columns):\n",
      " #   Column             Dtype  \n",
      "---  ------             -----  \n",
      " 0   Month              int64  \n",
      " 1   DayofMonth         int64  \n",
      " 2   DayOfWeek          int64  \n",
      " 3   DepTime            float64\n",
      " 4   CRSDepTime         int64  \n",
      " 5   ArrTime            float64\n",
      " 6   CRSArrTime         int64  \n",
      " 7   UniqueCarrier      object \n",
      " 8   FlightNum          int64  \n",
      " 9   TailNum            object \n",
      " 10  ActualElapsedTime  float64\n",
      " 11  CRSElapsedTime     float64\n",
      " 12  AirTime            float64\n",
      " 13  ArrDelay           float64\n",
      " 14  DepDelay           float64\n",
      " 15  Origin             object \n",
      " 16  Dest               object \n",
      " 17  Distance           int64  \n",
      " 18  TaxiIn             float64\n",
      " 19  TaxiOut            float64\n",
      " 20  CarrierDelay       float64\n",
      " 21  WeatherDelay       float64\n",
      " 22  NASDelay           float64\n",
      " 23  SecurityDelay      float64\n",
      " 24  LateAircraftDelay  float64\n",
      " 25  VelocityAir        float64\n",
      " 26  DelayedArr         int64  \n",
      " 27  TotalDelayed       float64\n",
      " 28  TaxiTime           float64\n",
      "dtypes: float64(17), int64(8), object(4)\n",
      "memory usage: 426.7+ MB\n"
     ]
    }
   ],
   "source": [
    "df.info()"
   ]
  },
  {
   "cell_type": "markdown",
   "id": "40e2d7d5",
   "metadata": {},
   "source": [
    "We need to notice that this dataset has been cleaned apropietly and the columns 25 to 28 are done due the specifications of sprint 2 exercise 5."
   ]
  },
  {
   "cell_type": "markdown",
   "id": "be379f67",
   "metadata": {},
   "source": [
    "# Nivell 1"
   ]
  },
  {
   "cell_type": "markdown",
   "id": "4ee3026f",
   "metadata": {},
   "source": [
    "## Exercici 1: Crea almenys tres models de regressió diferents per intentar predir el millor possible l’endarreriment dels vols (ArrDelay) de DelayedFlights.csv."
   ]
  },
  {
   "cell_type": "markdown",
   "id": "6abd61ff",
   "metadata": {},
   "source": [
    "To create a model to predict the possibility of delay on flights, first we need to determine which features on the data set are the ones meaningful for the model. To do so, we will purge and modify adequately the features.\n",
    "\n",
    "\n",
    "From sprint 9 task 1, exercise 3, where we represented the network of the numerical features we have realized that *ArrDelay* belongs to the largest network, connected to air time, different types of delay and taxi. Now, to have a **coarse** insight we will make another time the network, through the correlations model, inserting all variables that are numerical (being categorical or otherwise). "
   ]
  },
  {
   "cell_type": "code",
   "execution_count": 6,
   "id": "00c83978",
   "metadata": {},
   "outputs": [
    {
     "data": {
      "image/png": "[encoded data removed]",
      "text/plain": [
       "<Figure size 432x288 with 1 Axes>"
      ]
     },
     "metadata": {},
     "output_type": "display_data"
    }
   ],
   "source": [
    "import networkx as nx\n",
    "dfnum = df[['Month', 'DayofMonth', 'DayOfWeek', 'DepTime', 'CRSDepTime', 'ArrTime','CRSArrTime',  'FlightNum', \n",
    "            'ActualElapsedTime', 'CRSElapsedTime', 'AirTime', 'ArrDelay', 'DepDelay', 'Distance', \n",
    "            'TaxiIn', 'TaxiOut', 'CarrierDelay', 'WeatherDelay', 'NASDelay', 'SecurityDelay', 'LateAircraftDelay', \n",
    "            'VelocityAir', 'DelayedArr', 'TotalDelayed', 'TaxiTime']]\n",
    "\n",
    "# 1. get adjacency matrix\n",
    "corrdf = dfnum.corr()\n",
    "corrdfas = abs(corrdf)\n",
    "\n",
    "# 2. Use a threshold to only keep the strongest links:\n",
    "thres = corrdfas.std()\n",
    "net = corrdf[(corrdf >= thres) & (corrdf != 1) ] # we don't want self links.\n",
    "net[np.isnan(net)] = 0\n",
    "net2 = np.array(net)\n",
    "\n",
    "# Relabel nodes:\n",
    "#mapping = dict(zip(G, dfnum.columns.to_list())) # if we want to insert the column name.\n",
    "\n",
    "# 3. Map the network\n",
    "G = nx.from_numpy_matrix(net2)\n",
    "\n",
    "pos = nx.spring_layout(G)\n",
    "nodes = nx.draw_networkx_labels(G, pos)\n",
    "\n",
    "nx.draw(G, pos)\n",
    "plt.show()"
   ]
  },
  {
   "cell_type": "code",
   "execution_count": 8,
   "id": "acd83100",
   "metadata": {},
   "outputs": [
    {
     "data": {
      "text/plain": [
       "{0: 'Month',\n",
       " 1: 'DayofMonth',\n",
       " 2: 'DayOfWeek',\n",
       " 3: 'DepTime',\n",
       " 4: 'CRSDepTime',\n",
       " 5: 'ArrTime',\n",
       " 6: 'CRSArrTime',\n",
       " 7: 'FlightNum',\n",
       " 8: 'ActualElapsedTime',\n",
       " 9: 'CRSElapsedTime',\n",
       " 10: 'AirTime',\n",
       " 11: 'ArrDelay',\n",
       " 12: 'DepDelay',\n",
       " 13: 'Distance',\n",
       " 14: 'TaxiIn',\n",
       " 15: 'TaxiOut',\n",
       " 16: 'CarrierDelay',\n",
       " 17: 'WeatherDelay',\n",
       " 18: 'NASDelay',\n",
       " 19: 'SecurityDelay',\n",
       " 20: 'LateAircraftDelay',\n",
       " 21: 'VelocityAir',\n",
       " 22: 'DelayedArr',\n",
       " 23: 'TotalDelayed',\n",
       " 24: 'TaxiTime'}"
      ]
     },
     "execution_count": 8,
     "metadata": {},
     "output_type": "execute_result"
    }
   ],
   "source": [
    "dict(zip(G, dfnum.columns.to_list()))"
   ]
  },
  {
   "cell_type": "markdown",
   "id": "2aff6baf",
   "metadata": {},
   "source": [
    "ArrDelay is this case it is the node 11 (list above), as we saw it belongs to the largest network. We see that this node belongs to the largest network, that it is composed by the nodes 8, 9, 10, 12, 13, 14, 15, 16, 17, 18, 20, 21, 22, 23, 24.\n",
    "\n",
    "It looks like the categorical variables as Month, DayofMonth, DayOfWeek, with the way they are formated, and, FlightNum are not dependent on the ArrDelay. \n",
    "\n",
    "We will analyse a bit further the dates, since the threshold we have imposed to the cross-correlation might have overstimated a bit these fields since we know that sometimes in July/August in airports there are delays and in the northen countries (or in this case on the north of US) snow blizzards and other extrem event cause many of the delays. To do so, we will plot the histograms Month, day, day of week vs DelayedArr column, instead of ArrDelay, that gives us the information if a plane has arrived late or on time.\n",
    "\n",
    "We will discard Dep/ArrTime and their CRS counterparts, and also SecurityDelay, which is not very correlated with ArrDelay and also we will not lose its information since TotalDelayed is the sum of all the specific delays, this one included.\n",
    "\n",
    "As last, we will extract from the list the value TaxiTime, since it is just the sum of the variables TaxiIn and TaxiOut, since both are inclded this column is repetive."
   ]
  },
  {
   "cell_type": "code",
   "execution_count": 12,
   "id": "cec9c16a",
   "metadata": {},
   "outputs": [
    {
     "data": {
      "image/png": "[encoded data removed]",
      "text/plain": [
       "<Figure size 1584x576 with 6 Axes>"
      ]
     },
     "metadata": {
      "needs_background": "light"
     },
     "output_type": "display_data"
    }
   ],
   "source": [
    "fig, axs = plt.subplots(2,3, figsize=(22,8))\n",
    "sns.barplot(data=df, x='Month', y='ArrDelay', ax=axs[0,0])\n",
    "sns.barplot(data=df, x='DayofMonth', y='ArrDelay', ax=axs[0,1])\n",
    "sns.barplot(data=df, x='DayOfWeek', y='ArrDelay', ax=axs[0,2])\n",
    "sns.barplot(data=df, x='Month', y='DelayedArr', ax=axs[1,0])\n",
    "sns.barplot(data=df, x='DayofMonth', y='DelayedArr', ax=axs[1,1])\n",
    "sns.barplot(data=df, x='DayOfWeek', y='DelayedArr', ax=axs[1,2])\n",
    "plt.show()"
   ]
  },
  {
   "cell_type": "markdown",
   "id": "5b6bb0bb",
   "metadata": {},
   "source": [
    "The six graphs show the total delay by month, day of month and day of week, the first row shows the count of minutes of delays from the ArrDelay column (remember this column its values are in minutes, positive for delays, negative for arrived before time, and zero for in time). The second row shows the normalized sum of the delays, since we have been using the column DelayedArr that is binary.\n",
    "\n",
    "Taking the second row, we can see that the probability of a plane having a delay is around 80%, in every month, day or day of the week. While, the total minutes of delay is what is interesting, while from day to day (DayofMonth and DayOfWeek) it does not vary much, it is always around 40 minutes, some extreme case as the day 31 it is around 50 minutes, in the month the minutes of delay vary quantetively in the non-vacational months, although they are around 50 minutes, specially in October that falls around 30 minutes.\n",
    "\n",
    "In this case, we will accept the results of our network and discard the dates from the dataset since they do not aport a significative amount of information in the delaying."
   ]
  },
  {
   "cell_type": "markdown",
   "id": "95040d43",
   "metadata": {},
   "source": [
    "The resultant dataset:"
   ]
  },
  {
   "cell_type": "code",
   "execution_count": 7,
   "id": "fe256213",
   "metadata": {},
   "outputs": [],
   "source": [
    "df2 = df[['ActualElapsedTime', 'CRSElapsedTime', 'AirTime', 'ArrDelay', 'DepDelay', 'Distance', \n",
    "            'TaxiIn', 'TaxiOut', 'CarrierDelay', 'WeatherDelay', 'NASDelay', 'LateAircraftDelay', 'VelocityAir', \n",
    "          'DelayedArr', 'TotalDelayed']]"
   ]
  },
  {
   "cell_type": "code",
   "execution_count": 10,
   "id": "7222d704",
   "metadata": {
    "scrolled": true
   },
   "outputs": [
    {
     "data": {
      "text/plain": [
       "(1928368, 15)"
      ]
     },
     "execution_count": 10,
     "metadata": {},
     "output_type": "execute_result"
    }
   ],
   "source": [
    "df2.shape"
   ]
  },
  {
   "cell_type": "markdown",
   "id": "1cda9552",
   "metadata": {},
   "source": [
    "> Note: Taking out TotalDelayed feature does not change quantetively the result of the predictions. When I have run it without this column, and then run it again with the column SecurityDelay, the results for the squared correlation coefficients (score test) for all three predictors were the same.\n",
    "\n",
    "> Also, I have run the dataset without the columns DelayedArr, TotalDelayed and **Decision Tree** has determined that the scores of the features are: DepDelay as the most important one (score:0.9), next NAS (0.063), TaxiOur (0.013),  then Carrier and Late Aircraft (0.007), ActualElapsedTime/CRS and Weather (0.003), and finally VelocityAir (0.001). The coefficient of determination obtained for test is: 0.996 and the score for train is: 1.\n",
    "\n"
   ]
  },
  {
   "cell_type": "markdown",
   "id": "ba2dcae9",
   "metadata": {},
   "source": [
    "Now let's use some models to predict the Arrival delays. To do so, first we will need to define our X and our y. The y is the column ArrDelay, since it the one which we wish to train the algorithm for predictions. the X will be all the other columns on df2."
   ]
  },
  {
   "cell_type": "code",
   "execution_count": 8,
   "id": "f6185b2d",
   "metadata": {},
   "outputs": [],
   "source": [
    "# Define our x and y.\n",
    "X = np.array(df2.drop('ArrDelay', axis=1))\n",
    "y = np.array(df2['ArrDelay']).reshape(-1,1)"
   ]
  },
  {
   "cell_type": "markdown",
   "id": "639c5842",
   "metadata": {},
   "source": [
    "Split the dataset into train and test[1]:\n",
    "\n",
    "[1] We will not standarize and normalize the data before, since we want to compute actual minutes."
   ]
  },
  {
   "cell_type": "code",
   "execution_count": 9,
   "id": "055680c3",
   "metadata": {},
   "outputs": [],
   "source": [
    "X_train, X_test, y_train, y_test = train_test_split(X, y.ravel(), test_size=0.3,random_state=42, shuffle=True)"
   ]
  },
  {
   "cell_type": "markdown",
   "id": "53b5d368",
   "metadata": {},
   "source": [
    "**Linear Regression**"
   ]
  },
  {
   "cell_type": "code",
   "execution_count": 17,
   "id": "60f70bff",
   "metadata": {},
   "outputs": [
    {
     "data": {
      "text/plain": [
       "LinearRegression()"
      ]
     },
     "execution_count": 17,
     "metadata": {},
     "output_type": "execute_result"
    }
   ],
   "source": [
    "# Linear Regression\n",
    "mLR = LinearRegression()\n",
    "mLR.fit(X_train, y_train)"
   ]
  },
  {
   "cell_type": "code",
   "execution_count": 18,
   "id": "f0c26d50",
   "metadata": {},
   "outputs": [
    {
     "name": "stdout",
     "output_type": "stream",
     "text": [
      "Coefficient of determination train: 0.9999999979397343\n",
      "Coefficient of determination test: 0.9999999983780556\n"
     ]
    }
   ],
   "source": [
    "print('Coefficient of determination train: {}'.format(mLR.score(X_train, y_train)))\n",
    "print('Coefficient of determination test: {}'.format(mLR.score(X_test, y_test)))"
   ]
  },
  {
   "cell_type": "code",
   "execution_count": 19,
   "id": "d903914c",
   "metadata": {},
   "outputs": [
    {
     "name": "stdout",
     "output_type": "stream",
     "text": [
      "Coefficients:\n"
     ]
    },
    {
     "data": {
      "text/plain": [
       "array([-2.46136497e+04, -9.99999149e-01,  2.46146497e+04,  9.99998957e-01,\n",
       "       -6.34642080e-09,  2.46146497e+04,  2.46146497e+04,  3.13908228e-08,\n",
       "        9.41876424e-08,  5.51622899e-08,  2.30275870e-07,  3.27081026e-08,\n",
       "        1.13764155e-05,  9.02749243e-07])"
      ]
     },
     "execution_count": 19,
     "metadata": {},
     "output_type": "execute_result"
    }
   ],
   "source": [
    "print('Coefficients:')\n",
    "mLR.coef_"
   ]
  },
  {
   "cell_type": "code",
   "execution_count": 20,
   "id": "51e25fa4",
   "metadata": {},
   "outputs": [
    {
     "name": "stdout",
     "output_type": "stream",
     "text": [
      "Interception with y-axis:\n"
     ]
    },
    {
     "data": {
      "text/plain": [
       "-1.722063107933991e-05"
      ]
     },
     "execution_count": 20,
     "metadata": {},
     "output_type": "execute_result"
    }
   ],
   "source": [
    "print('Interception with y-axis:')\n",
    "mLR.intercept_"
   ]
  },
  {
   "cell_type": "code",
   "execution_count": 21,
   "id": "709a8906",
   "metadata": {},
   "outputs": [],
   "source": [
    "# prediction:\n",
    "ypredLR = mLR.predict(X_test)"
   ]
  },
  {
   "cell_type": "code",
   "execution_count": 22,
   "id": "31f52978",
   "metadata": {},
   "outputs": [
    {
     "data": {
      "text/html": [
       "<div>\n",
       "<style scoped>\n",
       "    .dataframe tbody tr th:only-of-type {\n",
       "        vertical-align: middle;\n",
       "    }\n",
       "\n",
       "    .dataframe tbody tr th {\n",
       "        vertical-align: top;\n",
       "    }\n",
       "\n",
       "    .dataframe thead th {\n",
       "        text-align: right;\n",
       "    }\n",
       "</style>\n",
       "<table border=\"1\" class=\"dataframe\">\n",
       "  <thead>\n",
       "    <tr style=\"text-align: right;\">\n",
       "      <th></th>\n",
       "      <th>Real</th>\n",
       "      <th>Predicted</th>\n",
       "    </tr>\n",
       "  </thead>\n",
       "  <tbody>\n",
       "    <tr>\n",
       "      <th>0</th>\n",
       "      <td>15.0</td>\n",
       "      <td>15.000007</td>\n",
       "    </tr>\n",
       "    <tr>\n",
       "      <th>1</th>\n",
       "      <td>9.0</td>\n",
       "      <td>8.999994</td>\n",
       "    </tr>\n",
       "    <tr>\n",
       "      <th>2</th>\n",
       "      <td>14.0</td>\n",
       "      <td>13.999994</td>\n",
       "    </tr>\n",
       "    <tr>\n",
       "      <th>3</th>\n",
       "      <td>81.0</td>\n",
       "      <td>81.000013</td>\n",
       "    </tr>\n",
       "    <tr>\n",
       "      <th>4</th>\n",
       "      <td>19.0</td>\n",
       "      <td>19.000007</td>\n",
       "    </tr>\n",
       "    <tr>\n",
       "      <th>...</th>\n",
       "      <td>...</td>\n",
       "      <td>...</td>\n",
       "    </tr>\n",
       "    <tr>\n",
       "      <th>578506</th>\n",
       "      <td>96.0</td>\n",
       "      <td>96.000010</td>\n",
       "    </tr>\n",
       "    <tr>\n",
       "      <th>578507</th>\n",
       "      <td>118.0</td>\n",
       "      <td>117.999992</td>\n",
       "    </tr>\n",
       "    <tr>\n",
       "      <th>578508</th>\n",
       "      <td>7.0</td>\n",
       "      <td>6.999998</td>\n",
       "    </tr>\n",
       "    <tr>\n",
       "      <th>578509</th>\n",
       "      <td>-4.0</td>\n",
       "      <td>-4.000001</td>\n",
       "    </tr>\n",
       "    <tr>\n",
       "      <th>578510</th>\n",
       "      <td>33.0</td>\n",
       "      <td>33.000009</td>\n",
       "    </tr>\n",
       "  </tbody>\n",
       "</table>\n",
       "<p>578511 rows × 2 columns</p>\n",
       "</div>"
      ],
      "text/plain": [
       "         Real   Predicted\n",
       "0        15.0   15.000007\n",
       "1         9.0    8.999994\n",
       "2        14.0   13.999994\n",
       "3        81.0   81.000013\n",
       "4        19.0   19.000007\n",
       "...       ...         ...\n",
       "578506   96.0   96.000010\n",
       "578507  118.0  117.999992\n",
       "578508    7.0    6.999998\n",
       "578509   -4.0   -4.000001\n",
       "578510   33.0   33.000009\n",
       "\n",
       "[578511 rows x 2 columns]"
      ]
     },
     "execution_count": 22,
     "metadata": {},
     "output_type": "execute_result"
    }
   ],
   "source": [
    "df_LR = pd.DataFrame({'Real': y_test, 'Predicted': ypredLR})\n",
    "df_LR"
   ]
  },
  {
   "cell_type": "code",
   "execution_count": 20,
   "id": "c26c80ec",
   "metadata": {},
   "outputs": [
    {
     "data": {
      "image/png": "[encoded data removed]",
      "text/plain": [
       "<Figure size 432x288 with 1 Axes>"
      ]
     },
     "metadata": {
      "needs_background": "light"
     },
     "output_type": "display_data"
    }
   ],
   "source": [
    "# graph\n",
    "sns.regplot(data=df_LR, x='Real',y='Predicted')\n",
    "plt.xlabel('Values y_test')\n",
    "plt.ylabel('Values ypredLR')\n",
    "plt.show()"
   ]
  },
  {
   "cell_type": "markdown",
   "id": "c52c31cc",
   "metadata": {},
   "source": [
    "Graph comparing the values predicted vs the values on y_test. We can see that the predicted values are similar to the real ones as shows the determination coefficient given is the $0.99$, the first number different to 9 is up to the 9th decimal for test and 10th decimal for train."
   ]
  },
  {
   "cell_type": "markdown",
   "id": "d659b279",
   "metadata": {},
   "source": [
    "**Decision Tree Regression**"
   ]
  },
  {
   "cell_type": "code",
   "execution_count": 23,
   "id": "444f788b",
   "metadata": {},
   "outputs": [
    {
     "data": {
      "text/plain": [
       "DecisionTreeRegressor(random_state=42)"
      ]
     },
     "execution_count": 23,
     "metadata": {},
     "output_type": "execute_result"
    }
   ],
   "source": [
    "# Decision Tree regressor\n",
    "mDT = DecisionTreeRegressor(random_state = 42)\n",
    "mDT.fit(X_train, y_train)"
   ]
  },
  {
   "cell_type": "code",
   "execution_count": 24,
   "id": "a6836fd0",
   "metadata": {},
   "outputs": [
    {
     "name": "stdout",
     "output_type": "stream",
     "text": [
      "number of leaves:\n"
     ]
    },
    {
     "data": {
      "text/plain": [
       "166398"
      ]
     },
     "execution_count": 24,
     "metadata": {},
     "output_type": "execute_result"
    }
   ],
   "source": [
    "print('number of leaves:')\n",
    "mDT.get_n_leaves()"
   ]
  },
  {
   "cell_type": "code",
   "execution_count": 25,
   "id": "19e93b51",
   "metadata": {},
   "outputs": [
    {
     "name": "stdout",
     "output_type": "stream",
     "text": [
      "Score train: 1.0\n",
      "Score test: 0.9994801576826828\n"
     ]
    }
   ],
   "source": [
    "print('Score train: {}'.format(mDT.score(X_train, y_train)))\n",
    "print('Score test: {}'.format(mDT.score(X_test, y_test)))"
   ]
  },
  {
   "cell_type": "code",
   "execution_count": 37,
   "id": "4064d907",
   "metadata": {},
   "outputs": [
    {
     "data": {
      "text/plain": [
       "array([0.001, 0.001, 0.   , 0.   , 0.   , 0.   , 0.   , 0.   , 0.   ,\n",
       "       0.   , 0.   , 0.   , 0.004, 0.993])"
      ]
     },
     "execution_count": 37,
     "metadata": {},
     "output_type": "execute_result"
    }
   ],
   "source": [
    "np.round(mDT.feature_importances_, 3)"
   ]
  },
  {
   "cell_type": "markdown",
   "id": "d4ca68f4",
   "metadata": {},
   "source": [
    "The decision tree has determined that the most relevant features ($\\geq 0.01$) are: ActualElapsedTime, CRSElapsedTime, DelayedArr and TotalDelay. The last one weight more than the others since contains the information of the delays: carrier, weather, nas, security and lateairplane. DelayedArr is also important since it is a binary column which marks if the plane is late or not."
   ]
  },
  {
   "cell_type": "code",
   "execution_count": 26,
   "id": "08ebbcde",
   "metadata": {},
   "outputs": [],
   "source": [
    "ypredDT = mDT.predict(X_test)"
   ]
  },
  {
   "cell_type": "code",
   "execution_count": 27,
   "id": "cef6e92b",
   "metadata": {},
   "outputs": [
    {
     "data": {
      "text/html": [
       "<div>\n",
       "<style scoped>\n",
       "    .dataframe tbody tr th:only-of-type {\n",
       "        vertical-align: middle;\n",
       "    }\n",
       "\n",
       "    .dataframe tbody tr th {\n",
       "        vertical-align: top;\n",
       "    }\n",
       "\n",
       "    .dataframe thead th {\n",
       "        text-align: right;\n",
       "    }\n",
       "</style>\n",
       "<table border=\"1\" class=\"dataframe\">\n",
       "  <thead>\n",
       "    <tr style=\"text-align: right;\">\n",
       "      <th></th>\n",
       "      <th>Real</th>\n",
       "      <th>Predicted</th>\n",
       "    </tr>\n",
       "  </thead>\n",
       "  <tbody>\n",
       "    <tr>\n",
       "      <th>0</th>\n",
       "      <td>15.0</td>\n",
       "      <td>15.0</td>\n",
       "    </tr>\n",
       "    <tr>\n",
       "      <th>1</th>\n",
       "      <td>9.0</td>\n",
       "      <td>9.0</td>\n",
       "    </tr>\n",
       "    <tr>\n",
       "      <th>2</th>\n",
       "      <td>14.0</td>\n",
       "      <td>12.0</td>\n",
       "    </tr>\n",
       "    <tr>\n",
       "      <th>3</th>\n",
       "      <td>81.0</td>\n",
       "      <td>81.0</td>\n",
       "    </tr>\n",
       "    <tr>\n",
       "      <th>4</th>\n",
       "      <td>19.0</td>\n",
       "      <td>19.0</td>\n",
       "    </tr>\n",
       "    <tr>\n",
       "      <th>...</th>\n",
       "      <td>...</td>\n",
       "      <td>...</td>\n",
       "    </tr>\n",
       "    <tr>\n",
       "      <th>578506</th>\n",
       "      <td>96.0</td>\n",
       "      <td>96.0</td>\n",
       "    </tr>\n",
       "    <tr>\n",
       "      <th>578507</th>\n",
       "      <td>118.0</td>\n",
       "      <td>118.0</td>\n",
       "    </tr>\n",
       "    <tr>\n",
       "      <th>578508</th>\n",
       "      <td>7.0</td>\n",
       "      <td>7.0</td>\n",
       "    </tr>\n",
       "    <tr>\n",
       "      <th>578509</th>\n",
       "      <td>-4.0</td>\n",
       "      <td>-4.0</td>\n",
       "    </tr>\n",
       "    <tr>\n",
       "      <th>578510</th>\n",
       "      <td>33.0</td>\n",
       "      <td>33.0</td>\n",
       "    </tr>\n",
       "  </tbody>\n",
       "</table>\n",
       "<p>578511 rows × 2 columns</p>\n",
       "</div>"
      ],
      "text/plain": [
       "         Real  Predicted\n",
       "0        15.0       15.0\n",
       "1         9.0        9.0\n",
       "2        14.0       12.0\n",
       "3        81.0       81.0\n",
       "4        19.0       19.0\n",
       "...       ...        ...\n",
       "578506   96.0       96.0\n",
       "578507  118.0      118.0\n",
       "578508    7.0        7.0\n",
       "578509   -4.0       -4.0\n",
       "578510   33.0       33.0\n",
       "\n",
       "[578511 rows x 2 columns]"
      ]
     },
     "execution_count": 27,
     "metadata": {},
     "output_type": "execute_result"
    }
   ],
   "source": [
    "df_DT = pd.DataFrame({'Real': y_test, 'Predicted': ypredDT})\n",
    "df_DT"
   ]
  },
  {
   "cell_type": "code",
   "execution_count": 26,
   "id": "fd5cf42f",
   "metadata": {},
   "outputs": [
    {
     "data": {
      "image/png": "[encoded data removed]",
      "text/plain": [
       "<Figure size 432x288 with 1 Axes>"
      ]
     },
     "metadata": {
      "needs_background": "light"
     },
     "output_type": "display_data"
    }
   ],
   "source": [
    "# graph\n",
    "sns.regplot(data=df_DT, x='Real',y='Predicted')\n",
    "plt.xlabel('Values y_test')\n",
    "plt.ylabel('Values ypredDT')\n",
    "plt.show()"
   ]
  },
  {
   "cell_type": "markdown",
   "id": "e259ba8f",
   "metadata": {},
   "source": [
    "Graph comparing the values predicted vs the values in y_test. We can see that the fit is mostly perfect, but some value, the largest ones are the ones with more variation, seems that this model is good for small values but fails to predict correctly for larger ones. \n",
    "\n",
    "We can notice, that the larger values correspond to larger delay times, which maybe correspond to extreme weather events, in the dataset may not be enough data to predict them correctly as the others has been predicted.\n",
    "\n",
    "The determination coefficient for test was $0.9994$ which is considered an acceptable prediction."
   ]
  },
  {
   "cell_type": "markdown",
   "id": "2fc80fd1",
   "metadata": {},
   "source": [
    "**Random Forest Regression**"
   ]
  },
  {
   "cell_type": "code",
   "execution_count": 28,
   "id": "8e0e8e49",
   "metadata": {},
   "outputs": [
    {
     "data": {
      "text/plain": [
       "RandomForestRegressor(n_jobs=-1, random_state=42)"
      ]
     },
     "execution_count": 28,
     "metadata": {},
     "output_type": "execute_result"
    }
   ],
   "source": [
    "# Random Forest regression\n",
    "mRF = RandomForestRegressor(n_estimators= 100, random_state=42, n_jobs=-1)\n",
    "mRF.fit(X_train, y_train)"
   ]
  },
  {
   "cell_type": "code",
   "execution_count": 29,
   "id": "12840325",
   "metadata": {},
   "outputs": [
    {
     "name": "stdout",
     "output_type": "stream",
     "text": [
      "Score train: 0.9999815661230922\n",
      "Score test: 0.9993178259741085\n"
     ]
    }
   ],
   "source": [
    "print('Score train: {}'.format(mRF.score(X_train, y_train)))\n",
    "print('Score test: {}'.format(mRF.score(X_test, y_test)))"
   ]
  },
  {
   "cell_type": "code",
   "execution_count": 30,
   "id": "75ae7e81",
   "metadata": {},
   "outputs": [],
   "source": [
    "ypredRF = mRF.predict(X_test)"
   ]
  },
  {
   "cell_type": "code",
   "execution_count": 31,
   "id": "da9115e2",
   "metadata": {},
   "outputs": [
    {
     "data": {
      "text/html": [
       "<div>\n",
       "<style scoped>\n",
       "    .dataframe tbody tr th:only-of-type {\n",
       "        vertical-align: middle;\n",
       "    }\n",
       "\n",
       "    .dataframe tbody tr th {\n",
       "        vertical-align: top;\n",
       "    }\n",
       "\n",
       "    .dataframe thead th {\n",
       "        text-align: right;\n",
       "    }\n",
       "</style>\n",
       "<table border=\"1\" class=\"dataframe\">\n",
       "  <thead>\n",
       "    <tr style=\"text-align: right;\">\n",
       "      <th></th>\n",
       "      <th>Real</th>\n",
       "      <th>Predicted</th>\n",
       "    </tr>\n",
       "  </thead>\n",
       "  <tbody>\n",
       "    <tr>\n",
       "      <th>0</th>\n",
       "      <td>15.0</td>\n",
       "      <td>15.00</td>\n",
       "    </tr>\n",
       "    <tr>\n",
       "      <th>1</th>\n",
       "      <td>9.0</td>\n",
       "      <td>9.34</td>\n",
       "    </tr>\n",
       "    <tr>\n",
       "      <th>2</th>\n",
       "      <td>14.0</td>\n",
       "      <td>11.27</td>\n",
       "    </tr>\n",
       "    <tr>\n",
       "      <th>3</th>\n",
       "      <td>81.0</td>\n",
       "      <td>81.00</td>\n",
       "    </tr>\n",
       "    <tr>\n",
       "      <th>4</th>\n",
       "      <td>19.0</td>\n",
       "      <td>19.00</td>\n",
       "    </tr>\n",
       "    <tr>\n",
       "      <th>...</th>\n",
       "      <td>...</td>\n",
       "      <td>...</td>\n",
       "    </tr>\n",
       "    <tr>\n",
       "      <th>578506</th>\n",
       "      <td>96.0</td>\n",
       "      <td>96.00</td>\n",
       "    </tr>\n",
       "    <tr>\n",
       "      <th>578507</th>\n",
       "      <td>118.0</td>\n",
       "      <td>118.00</td>\n",
       "    </tr>\n",
       "    <tr>\n",
       "      <th>578508</th>\n",
       "      <td>7.0</td>\n",
       "      <td>7.19</td>\n",
       "    </tr>\n",
       "    <tr>\n",
       "      <th>578509</th>\n",
       "      <td>-4.0</td>\n",
       "      <td>-3.99</td>\n",
       "    </tr>\n",
       "    <tr>\n",
       "      <th>578510</th>\n",
       "      <td>33.0</td>\n",
       "      <td>33.00</td>\n",
       "    </tr>\n",
       "  </tbody>\n",
       "</table>\n",
       "<p>578511 rows × 2 columns</p>\n",
       "</div>"
      ],
      "text/plain": [
       "         Real  Predicted\n",
       "0        15.0      15.00\n",
       "1         9.0       9.34\n",
       "2        14.0      11.27\n",
       "3        81.0      81.00\n",
       "4        19.0      19.00\n",
       "...       ...        ...\n",
       "578506   96.0      96.00\n",
       "578507  118.0     118.00\n",
       "578508    7.0       7.19\n",
       "578509   -4.0      -3.99\n",
       "578510   33.0      33.00\n",
       "\n",
       "[578511 rows x 2 columns]"
      ]
     },
     "execution_count": 31,
     "metadata": {},
     "output_type": "execute_result"
    }
   ],
   "source": [
    "df_RF = pd.DataFrame({'Real': y_test, 'Predicted': ypredRF})\n",
    "df_RF"
   ]
  },
  {
   "cell_type": "code",
   "execution_count": 31,
   "id": "9757e7b6",
   "metadata": {},
   "outputs": [
    {
     "data": {
      "image/png": "[encoded data removed]",
      "text/plain": [
       "<Figure size 432x288 with 1 Axes>"
      ]
     },
     "metadata": {
      "needs_background": "light"
     },
     "output_type": "display_data"
    }
   ],
   "source": [
    "sns.regplot(data=df_RF, x='Real',y='Predicted')\n",
    "plt.xlabel('Values y_test')\n",
    "plt.ylabel('Values ypredRF')\n",
    "plt.show()"
   ]
  },
  {
   "cell_type": "markdown",
   "id": "79095fd3",
   "metadata": {},
   "source": [
    "For this regressor, graphically, we find that similar results to the Decision Tree, that for larger values this predictor cannot predict that well the values, and the determination coefficient in the test is $0.9993$, which is a high overall score, thus the prediction is accepted. If we look at the table above the graph we can see that some of the values, small values, that differ from the real ones its difference up to the first/second decimal."
   ]
  },
  {
   "cell_type": "markdown",
   "id": "cd1ddd23",
   "metadata": {},
   "source": [
    "## Exercici 2: Compara’ls en base al MSE i al R2 ."
   ]
  },
  {
   "cell_type": "markdown",
   "id": "a4ed2d66",
   "metadata": {},
   "source": [
    "This exercise asks us to compute the mean squared error and the correlation coefficient (squared) (which on sklearn they call it determination coefficient, but it is the correlation coeficient) to determine how well behaved are our models."
   ]
  },
  {
   "cell_type": "markdown",
   "id": "024e7f20",
   "metadata": {},
   "source": [
    "MSE is the mean squared value of the error.\n",
    "\n",
    "$$MSE = \\frac{1}{N}\\sum_{i=1}^{N} (y_i - \\hat{y}_i)^2$$\n",
    "\n",
    "where N is number of samples, $y_i$ are the real values and $\\hat{y}_i$ are the predicted values."
   ]
  },
  {
   "cell_type": "code",
   "execution_count": 32,
   "id": "60491b2b",
   "metadata": {},
   "outputs": [
    {
     "name": "stdout",
     "output_type": "stream",
     "text": [
      "Mean Square Error for LinearRegression: 5.185737867974626e-06\n",
      "Mean Square Error for DecisionTree: 1.6620582841121432\n",
      "Mean Square Error for RandomForest: 2.181070977042788\n"
     ]
    }
   ],
   "source": [
    "# MSE Comparation:\n",
    "print('Mean Square Error for LinearRegression: {}'.format(metrics.mean_squared_error(y_test, ypredLR)))\n",
    "print('Mean Square Error for DecisionTree: {}'.format(metrics.mean_squared_error(y_test, ypredDT)))\n",
    "print('Mean Square Error for RandomForest: {}'.format(metrics.mean_squared_error(y_test, ypredRF)))"
   ]
  },
  {
   "cell_type": "markdown",
   "id": "2833ffa9",
   "metadata": {},
   "source": [
    "We also run, even the exercise is not asking it for, the Mean Absolute Error. This will tell us how bad the model is doing in predictions, since it is the expected value of the absolute error (difference between y_val_real and y_calculated in absolute values).\n",
    "\n",
    "$$MAE = \\frac{1}{N}\\sum_{i=1}^{N} |y_i - \\hat{y}_i |$$\n"
   ]
  },
  {
   "cell_type": "code",
   "execution_count": 100,
   "id": "17aa4f3b",
   "metadata": {},
   "outputs": [
    {
     "name": "stdout",
     "output_type": "stream",
     "text": [
      "Mean Absolute Error for LinearRegression: 1.1366079239846395e-05\n",
      "Mean Absolute Error for DecisionTree: 0.23679930027259638\n",
      "Mean Absolute Error for RandomForest: 0.15324967027420391\n"
     ]
    }
   ],
   "source": [
    "# MAE Comparation:\n",
    "print('Mean Absolute Error for LinearRegression: {}'.format(metrics.mean_absolute_error(y_test, ypredLR)))\n",
    "print('Mean Absolute Error for DecisionTree: {}'.format(metrics.mean_absolute_error(y_test, ypredDT)))\n",
    "print('Mean Absolute Error for RandomForest: {}'.format(metrics.mean_absolute_error(y_test, ypredRF)))"
   ]
  },
  {
   "cell_type": "markdown",
   "id": "c2d5e805",
   "metadata": {},
   "source": [
    "$R^2$ it is, also, an **external cross validation method**. External cross validation is obtained from running an avaluation function like accuracy or $R^2$ score functions with the values obtained from the splitting of the data set only in train/test, train the model with training set and predict the values for the test set.\n",
    "\n",
    "Now we will compute this score for each one of the methods used in exercise 1. We will use the function r2_score (which instead compares the score between the y test and predicted), since we are only interested with on how well have behave the model in predicting the data compared with test data:"
   ]
  },
  {
   "cell_type": "code",
   "execution_count": 38,
   "id": "17ba7b4c",
   "metadata": {},
   "outputs": [
    {
     "name": "stdout",
     "output_type": "stream",
     "text": [
      "R^2 for LinearRegression: 0.9999999983780556\n",
      "R^2 for DecisionTree: 0.9994801576826828\n",
      "R^2 for RandomForest: 0.9993178259741085\n"
     ]
    }
   ],
   "source": [
    "# R^2:\n",
    "print('R^2 for LinearRegression: {}'.format(metrics.r2_score(y_test, ypredLR)))\n",
    "print('R^2 for DecisionTree: {}'.format(metrics.r2_score(y_test, ypredDT)))\n",
    "print('R^2 for RandomForest: {}'.format(metrics.r2_score(y_test, ypredRF)))"
   ]
  },
  {
   "cell_type": "markdown",
   "id": "6280436e",
   "metadata": {},
   "source": [
    "Since our predictors had been well behaved (see graphs on exercise 1) on their predictions we obtain very low values for the MSE and nearly 1 values for the $R^2$ score."
   ]
  },
  {
   "cell_type": "markdown",
   "id": "18e416b2",
   "metadata": {},
   "source": [
    "To determine how good has our data has been predicted, we cannot run the confusion matrix, since it serves for validation of data binary or categorical. Another tool to examine if our model is being overfitted is by using the cross-validate function, we will use this one in exercise 4, since it is used for internal avaluations as it is asked to do."
   ]
  },
  {
   "cell_type": "markdown",
   "id": "3e1e7cf4",
   "metadata": {},
   "source": [
    "## Exercici 3: Entrena’ls utilitzant els diferents paràmetres que admeten."
   ]
  },
  {
   "cell_type": "markdown",
   "id": "d9a26c01",
   "metadata": {},
   "source": [
    "This exercise is to repeat the exercise 1, but instead change the default parameters on the regressors that we have used."
   ]
  },
  {
   "cell_type": "markdown",
   "id": "3fe1e181",
   "metadata": {},
   "source": [
    "**Linear Regression**"
   ]
  },
  {
   "cell_type": "markdown",
   "id": "75a31dbd",
   "metadata": {},
   "source": [
    "For this model we can change only two parameters: fit_intercept and normalization.\n",
    "\n",
    "Fit_intercept in false asumes that the data is centered, in True (default) it centers the data."
   ]
  },
  {
   "cell_type": "code",
   "execution_count": 12,
   "id": "c2099947",
   "metadata": {},
   "outputs": [
    {
     "name": "stdout",
     "output_type": "stream",
     "text": [
      "MAE train:  [1.2556177322160607e-05, 1.2556177322160607e-05, 1.2865729792308234e-05, 1.2863313689844415e-05]\n",
      "Score train:  [0.9999999979397332, 0.9999999979397332, 0.9999999979397343, 0.9999999979397343]\n",
      "MAE test:  [1.105786358645447e-05, 1.105786358645447e-05, 1.1366079239846395e-05, 1.1363662749728472e-05]\n",
      "Score test:  [0.9999999983780544, 0.9999999983780544, 0.9999999983780556, 0.9999999983780556]\n"
     ]
    }
   ],
   "source": [
    "# we will also use the parallel option :)\n",
    "inter = [False, True]\n",
    "normi = [False, True]\n",
    "\n",
    "MAEtrain_lr = []\n",
    "MAEpre_lr = []\n",
    "\n",
    "Strain_lr = []\n",
    "Stest_lr = []\n",
    "\n",
    "for i in inter:\n",
    "    for j in normi:\n",
    "        lr = LinearRegression(fit_intercept=i, normalize=j, n_jobs=-1)\n",
    "        lr.fit(X_train, y_train)\n",
    "        \n",
    "        ylr = lr.predict(X_train)\n",
    "        MAEtrain_lr.append(metrics.mean_absolute_error(y_train, ylr))\n",
    "        Strain_lr.append(lr.score(X_train, y_train))\n",
    "        \n",
    "        yplr = lr.predict(X_test)\n",
    "        MAEpre_lr.append(metrics.mean_absolute_error(y_test, yplr))\n",
    "        Stest_lr.append(lr.score(X_test, y_test))\n",
    "\n",
    "print('MAE train: ', MAEtrain_lr)\n",
    "print('Score train: ', Strain_lr) \n",
    "print('MAE test: ', MAEpre_lr)\n",
    "print('Score test: ', Stest_lr)\n"
   ]
  },
  {
   "cell_type": "code",
   "execution_count": 72,
   "id": "f4bbe772",
   "metadata": {},
   "outputs": [
    {
     "data": {
      "text/html": [
       "<div>\n",
       "<style scoped>\n",
       "    .dataframe tbody tr th:only-of-type {\n",
       "        vertical-align: middle;\n",
       "    }\n",
       "\n",
       "    .dataframe tbody tr th {\n",
       "        vertical-align: top;\n",
       "    }\n",
       "\n",
       "    .dataframe thead th {\n",
       "        text-align: right;\n",
       "    }\n",
       "</style>\n",
       "<table border=\"1\" class=\"dataframe\">\n",
       "  <thead>\n",
       "    <tr style=\"text-align: right;\">\n",
       "      <th></th>\n",
       "      <th>Train MAE</th>\n",
       "      <th>Test MAE</th>\n",
       "      <th>Train Score</th>\n",
       "      <th>Test Score</th>\n",
       "    </tr>\n",
       "  </thead>\n",
       "  <tbody>\n",
       "    <tr>\n",
       "      <th>False/False</th>\n",
       "      <td>0.000013</td>\n",
       "      <td>0.000011</td>\n",
       "      <td>1.0</td>\n",
       "      <td>1.0</td>\n",
       "    </tr>\n",
       "    <tr>\n",
       "      <th>False/True</th>\n",
       "      <td>0.000013</td>\n",
       "      <td>0.000011</td>\n",
       "      <td>1.0</td>\n",
       "      <td>1.0</td>\n",
       "    </tr>\n",
       "    <tr>\n",
       "      <th>True/False</th>\n",
       "      <td>0.000013</td>\n",
       "      <td>0.000011</td>\n",
       "      <td>1.0</td>\n",
       "      <td>1.0</td>\n",
       "    </tr>\n",
       "    <tr>\n",
       "      <th>True/True</th>\n",
       "      <td>0.000013</td>\n",
       "      <td>0.000011</td>\n",
       "      <td>1.0</td>\n",
       "      <td>1.0</td>\n",
       "    </tr>\n",
       "  </tbody>\n",
       "</table>\n",
       "</div>"
      ],
      "text/plain": [
       "             Train MAE  Test MAE  Train Score  Test Score\n",
       "False/False   0.000013  0.000011          1.0         1.0\n",
       "False/True    0.000013  0.000011          1.0         1.0\n",
       "True/False    0.000013  0.000011          1.0         1.0\n",
       "True/True     0.000013  0.000011          1.0         1.0"
      ]
     },
     "execution_count": 72,
     "metadata": {},
     "output_type": "execute_result"
    }
   ],
   "source": [
    "dfp_lr = pd.DataFrame({'Train MAE': MAEtrain_lr, 'Test MAE': MAEpre_lr, 'Train Score': Strain_lr, 'Test Score' : \n",
    "                       Stest_lr}, index=['False/False', 'False/True', 'True/False', 'True/True'])\n",
    "dfp_lr"
   ]
  },
  {
   "cell_type": "markdown",
   "id": "99679c22",
   "metadata": {},
   "source": [
    "**Decision Tree Regressor**"
   ]
  },
  {
   "cell_type": "markdown",
   "id": "ea5f9e7a",
   "metadata": {},
   "source": [
    "Since we have some parameters that can be inserted by hand, like max_depth, min_samples_split, min_samples_leaf, and max_features. We will use loops to run some values and see how the squared correlation behave.\n",
    "\n",
    "We leave the criterion as MSE (default), instead of MAE, and we cannot use Poisson criterion since we have some negative values on the y."
   ]
  },
  {
   "cell_type": "code",
   "execution_count": 25,
   "id": "7d5cee80",
   "metadata": {},
   "outputs": [],
   "source": [
    "# changing: max_depth:\n",
    "\n",
    "depth = list(range(1,25+1))\n",
    "\n",
    "MAEtrain_dt = []\n",
    "MAEpre_dt = []\n",
    "\n",
    "for i in depth:\n",
    "        dt = DecisionTreeRegressor(random_state=42, max_depth=i)\n",
    "        dt.fit(X_train, y_train)\n",
    "        \n",
    "        ydt = dt.predict(X_train)\n",
    "        MAEtrain_dt.append(metrics.mean_absolute_error(y_train, ydt))\n",
    "        \n",
    "        ypdt = dt.predict(X_test)\n",
    "        MAEpre_dt.append(metrics.mean_absolute_error(y_test, ypdt))\n"
   ]
  },
  {
   "cell_type": "code",
   "execution_count": 26,
   "id": "0f0f2410",
   "metadata": {},
   "outputs": [
    {
     "data": {
      "image/png": "[encoded data removed]",
      "text/plain": [
       "<Figure size 432x288 with 1 Axes>"
      ]
     },
     "metadata": {
      "needs_background": "light"
     },
     "output_type": "display_data"
    }
   ],
   "source": [
    "# plot the MAE vs the max_depth, for test and for train:\n",
    "line1 = plt.plot(depth, MAEtrain_dt)\n",
    "line2 = plt.plot(depth, MAEpre_dt)\n",
    "plt.xlabel('Depth')\n",
    "plt.ylabel('MAE value')\n",
    "plt.legend(['Train', 'Test'])\n",
    "plt.show()"
   ]
  },
  {
   "cell_type": "markdown",
   "id": "b319fd74",
   "metadata": {},
   "source": [
    "As the depth increases the MAE value decrases, so we use as high depth values to reduce the error, since the plateau begins around depth 10 we can take one value larger than this one as our depth. "
   ]
  },
  {
   "cell_type": "code",
   "execution_count": 18,
   "id": "73e147d9",
   "metadata": {},
   "outputs": [],
   "source": [
    "# changing: min_samples_split: The allowed range is (0, 1].\n",
    "\n",
    "splot = np.linspace(0.1, 1, 10, endpoint=True)\n",
    "\n",
    "MAEtrain_dt = []\n",
    "MAEpre_dt = []\n",
    "\n",
    "for i in splot:\n",
    "    dt = DecisionTreeRegressor(random_state = 42, min_samples_split=i)\n",
    "    dt.fit(X_train, y_train)\n",
    "        \n",
    "    ydt = dt.predict(X_train)\n",
    "    MAEtrain_dt.append(metrics.mean_absolute_error(y_train, ydt))\n",
    "        \n",
    "    ypdt = dt.predict(X_test)\n",
    "    MAEpre_dt.append(metrics.mean_absolute_error(y_test, ypdt))"
   ]
  },
  {
   "cell_type": "code",
   "execution_count": 19,
   "id": "96665194",
   "metadata": {},
   "outputs": [
    {
     "data": {
      "image/png": "[encoded data removed]",
      "text/plain": [
       "<Figure size 432x288 with 1 Axes>"
      ]
     },
     "metadata": {
      "needs_background": "light"
     },
     "output_type": "display_data"
    }
   ],
   "source": [
    "# plot the MAE vs the number of samples split, for test and for train:\n",
    "line1 = plt.plot(splot, MAEtrain_dt)\n",
    "line2 = plt.plot(splot, MAEpre_dt)\n",
    "plt.xlabel('# of samples split')\n",
    "plt.ylabel('MAE value')\n",
    "plt.legend(['Train', 'Test'])\n",
    "plt.show()"
   ]
  },
  {
   "cell_type": "markdown",
   "id": "36a8fd20",
   "metadata": {},
   "source": [
    "As the number of samples split increases the error also increases, we will leave this parameter to default."
   ]
  },
  {
   "cell_type": "code",
   "execution_count": 20,
   "id": "0cb3d351",
   "metadata": {},
   "outputs": [],
   "source": [
    "# changing: min_samples_leaf: The compilator says the range is (0, 0.5].\n",
    "\n",
    "leaves = np.linspace(0.01,0.5,20, endpoint=True)\n",
    "\n",
    "MAEtrain_dt = []\n",
    "MAEpre_dt = []\n",
    "\n",
    "for i in leaves:\n",
    "    dt = DecisionTreeRegressor(random_state = 42, min_samples_leaf=i)\n",
    "    dt.fit(X_train, y_train)\n",
    "        \n",
    "    ydt = dt.predict(X_train)\n",
    "    MAEtrain_dt.append(metrics.mean_absolute_error(y_train, ydt))\n",
    "        \n",
    "    ypdt = dt.predict(X_test)\n",
    "    MAEpre_dt.append(metrics.mean_absolute_error(y_test, ypdt))"
   ]
  },
  {
   "cell_type": "code",
   "execution_count": 21,
   "id": "01944880",
   "metadata": {},
   "outputs": [
    {
     "data": {
      "image/png": "[encoded data removed]",
      "text/plain": [
       "<Figure size 432x288 with 1 Axes>"
      ]
     },
     "metadata": {
      "needs_background": "light"
     },
     "output_type": "display_data"
    }
   ],
   "source": [
    "# plot the MAE vs the number of samples leaf, for test and for train:\n",
    "line1 = plt.plot(leaves, MAEtrain_dt)\n",
    "line2 = plt.plot(leaves, MAEpre_dt)\n",
    "plt.xlabel('# of samples leaf')\n",
    "plt.ylabel('MAE value')\n",
    "plt.legend(['Train', 'Test'])\n",
    "plt.show()"
   ]
  },
  {
   "cell_type": "markdown",
   "id": "f2b7dd02",
   "metadata": {},
   "source": [
    "The same as the last, the error increases as the number of samples on the leaf increase. We will keep this parameter at default."
   ]
  },
  {
   "cell_type": "code",
   "execution_count": 22,
   "id": "9d95104f",
   "metadata": {},
   "outputs": [],
   "source": [
    "# changing: max_features: we need at least 2 features to began a regression.\n",
    "\n",
    "feats = list(range(2,X.shape[1]+1))\n",
    "\n",
    "MAEtrain_dt = []\n",
    "MAEpre_dt = []\n",
    "\n",
    "for i in feats:\n",
    "    dt = DecisionTreeRegressor(random_state = 42, max_features=i)\n",
    "    dt.fit(X_train, y_train)\n",
    "        \n",
    "    ydt = dt.predict(X_train)\n",
    "    MAEtrain_dt.append(metrics.mean_absolute_error(y_train, ydt))\n",
    "        \n",
    "    ypdt = dt.predict(X_test)\n",
    "    MAEpre_dt.append(metrics.mean_absolute_error(y_test, ypdt))"
   ]
  },
  {
   "cell_type": "code",
   "execution_count": 99,
   "id": "5815542d",
   "metadata": {},
   "outputs": [
    {
     "data": {
      "image/png": "[encoded data removed]",
      "text/plain": [
       "<Figure size 432x288 with 1 Axes>"
      ]
     },
     "metadata": {
      "needs_background": "light"
     },
     "output_type": "display_data"
    }
   ],
   "source": [
    "# plot the MAE vs the number of features, for test and for train:\n",
    "line1 = plt.plot(feats, MAEtrain_dt)\n",
    "line2 = plt.plot(feats, MAEpre_dt)\n",
    "plt.xlabel('# Features')\n",
    "plt.ylabel('MAE value')\n",
    "plt.legend(['Train', 'Test'])\n",
    "plt.show()"
   ]
  },
  {
   "cell_type": "markdown",
   "id": "b4490450",
   "metadata": {},
   "source": [
    "Increasing the number of features decreases the Mean Absolute Error, thus the y predicted is more finer as more features are added. To obtain maximum efficency in this parameter we will set the number of features to default, that option takes all the features on the dataset."
   ]
  },
  {
   "cell_type": "markdown",
   "id": "acf8b184",
   "metadata": {},
   "source": [
    "*Summary*: We will leave on default all the variables but max_depth that will be set up at 10."
   ]
  },
  {
   "cell_type": "markdown",
   "id": "eb55a289",
   "metadata": {},
   "source": [
    "**Random Forest Regressor**"
   ]
  },
  {
   "cell_type": "markdown",
   "id": "4a761511",
   "metadata": {},
   "source": [
    "To do the study for estimating the MAE of the parameters, in this case, since RandomForestRegressor is very time consuming for datasets big as this one, we will split the training set into training and test."
   ]
  },
  {
   "cell_type": "code",
   "execution_count": 14,
   "id": "1649f301",
   "metadata": {},
   "outputs": [],
   "source": [
    "X_train2, X_test2, y_train2, y_test2 = train_test_split(X_train, y_train, \n",
    "                                                        test_size=0.3,random_state=42, shuffle=True)"
   ]
  },
  {
   "cell_type": "code",
   "execution_count": 15,
   "id": "361a2c0c",
   "metadata": {},
   "outputs": [
    {
     "data": {
      "text/plain": [
       "(944899, 14)"
      ]
     },
     "execution_count": 15,
     "metadata": {},
     "output_type": "execute_result"
    }
   ],
   "source": [
    "X_train2.shape"
   ]
  },
  {
   "cell_type": "code",
   "execution_count": 16,
   "id": "6617bd42",
   "metadata": {},
   "outputs": [
    {
     "data": {
      "text/plain": [
       "(404958, 14)"
      ]
     },
     "execution_count": 16,
     "metadata": {},
     "output_type": "execute_result"
    }
   ],
   "source": [
    "X_test2.shape"
   ]
  },
  {
   "cell_type": "markdown",
   "id": "b690d03e",
   "metadata": {},
   "source": [
    "We will tune the same parameters as before, but now also we add the n_estimators parameter."
   ]
  },
  {
   "cell_type": "code",
   "execution_count": null,
   "id": "447d15b8",
   "metadata": {},
   "outputs": [],
   "source": [
    "# changing n_estimators (for this dataset less than 1000!)\n",
    "\n",
    "ests = list(range(100,700,100))#[100,200,300]\n",
    "\n",
    "MAEtrain_rf = []\n",
    "MAEpre_rf = []\n",
    "\n",
    "for i in ests:\n",
    "    rf = RandomForestRegressor(n_estimators=i, random_state = 42, n_jobs=-1)\n",
    "    rf.fit(X_train2, y_train2)\n",
    "        \n",
    "    yrf = rf.predict(X_train2)\n",
    "    MAEtrain_rf.append(metrics.mean_absolute_error(y_train2, yrf))\n",
    "        \n",
    "    yprf = rf.predict(X_test2)\n",
    "    MAEpre_rf.append(metrics.mean_absolute_error(y_test2, yprf))\n",
    "    #print(i)"
   ]
  },
  {
   "cell_type": "code",
   "execution_count": 20,
   "id": "9fb79cd7",
   "metadata": {},
   "outputs": [
    {
     "data": {
      "image/png": "[encoded data removed]",
      "text/plain": [
       "<Figure size 432x288 with 1 Axes>"
      ]
     },
     "metadata": {
      "needs_background": "light"
     },
     "output_type": "display_data"
    }
   ],
   "source": [
    "# plot the MAE vs the number of estimators, for test and for train:\n",
    "line1 = plt.plot(ests, MAEtrain_rf)\n",
    "line2 = plt.plot(ests, MAEpre_rf)\n",
    "plt.xlabel('# estimators')\n",
    "plt.ylabel('MAE value')\n",
    "plt.legend(['Train', 'Test'])\n",
    "plt.show()"
   ]
  },
  {
   "cell_type": "markdown",
   "id": "66fa2838",
   "metadata": {},
   "source": [
    "There is not variation in the error of 100 estimators compared to 600 estimators, the graph shows a plateau. We will use 100 estimators."
   ]
  },
  {
   "cell_type": "code",
   "execution_count": 18,
   "id": "8e34ed1f",
   "metadata": {},
   "outputs": [],
   "source": [
    "# changing max_depth\n",
    "\n",
    "depth = np.linspace(1,20, 10)\n",
    "\n",
    "MAEtrain_rf = []\n",
    "MAEpre_rf = []\n",
    "\n",
    "for i in depth:\n",
    "    rf = RandomForestRegressor(n_estimators=100, max_depth=i, random_state = 42, n_jobs=-1)\n",
    "    rf.fit(X_train2, y_train2)\n",
    "        \n",
    "    yrf = rf.predict(X_train2)\n",
    "    MAEtrain_rf.append(metrics.mean_absolute_error(y_train2, yrf))\n",
    "        \n",
    "    yprf = rf.predict(X_test2)\n",
    "    MAEpre_rf.append(metrics.mean_absolute_error(y_test2, yprf))"
   ]
  },
  {
   "cell_type": "code",
   "execution_count": 19,
   "id": "9ad8dcb7",
   "metadata": {},
   "outputs": [
    {
     "data": {
      "image/png": "[encoded data removed]",
      "text/plain": [
       "<Figure size 432x288 with 1 Axes>"
      ]
     },
     "metadata": {
      "needs_background": "light"
     },
     "output_type": "display_data"
    }
   ],
   "source": [
    "# plot the MAE vs the number of estimators, for test and for train:\n",
    "line1 = plt.plot(depth, MAEtrain_rf)\n",
    "line2 = plt.plot(depth, MAEpre_rf)\n",
    "plt.xlabel('Depth')\n",
    "plt.ylabel('MAE value')\n",
    "plt.legend(['Train', 'Test'])\n",
    "plt.show()"
   ]
  },
  {
   "cell_type": "markdown",
   "id": "b0b3350a",
   "metadata": {},
   "source": [
    "Increasing the depth the error decreases, so big values give less error than small ones. We will use depth=20."
   ]
  },
  {
   "cell_type": "code",
   "execution_count": 22,
   "id": "43dcdc1c",
   "metadata": {},
   "outputs": [],
   "source": [
    "# changing: min_samples_split: The allowed range is (0, 1].\n",
    "\n",
    "splot = np.linspace(0.1, 1, 10, endpoint=True)\n",
    "\n",
    "MAEtrain_rf = []\n",
    "MAEpre_rf = []\n",
    "\n",
    "for i in splot:\n",
    "    rf = RandomForestRegressor(n_estimators=100, min_samples_split=i, random_state = 42, n_jobs=-1)\n",
    "    rf.fit(X_train2, y_train2)\n",
    "        \n",
    "    yrf = rf.predict(X_train2)\n",
    "    MAEtrain_rf.append(metrics.mean_absolute_error(y_train2, yrf))\n",
    "        \n",
    "    yprf = rf.predict(X_test2)\n",
    "    MAEpre_rf.append(metrics.mean_absolute_error(y_test2, yprf))"
   ]
  },
  {
   "cell_type": "code",
   "execution_count": 23,
   "id": "19f1aaeb",
   "metadata": {},
   "outputs": [
    {
     "data": {
      "image/png": "[encoded data removed]",
      "text/plain": [
       "<Figure size 432x288 with 1 Axes>"
      ]
     },
     "metadata": {
      "needs_background": "light"
     },
     "output_type": "display_data"
    }
   ],
   "source": [
    "# plot the MAE vs the number of samples split, for test and for train:\n",
    "line1 = plt.plot(splot, MAEtrain_rf)\n",
    "line2 = plt.plot(splot, MAEpre_rf)\n",
    "plt.xlabel('# of samples split')\n",
    "plt.ylabel('MAE value')\n",
    "plt.legend(['Train', 'Test'])\n",
    "plt.show()"
   ]
  },
  {
   "cell_type": "markdown",
   "id": "cf397400",
   "metadata": {},
   "source": [
    "Error increases as we increase the minimum of samples to split, thus we will be using the default value given for the function."
   ]
  },
  {
   "cell_type": "code",
   "execution_count": 31,
   "id": "a078b7f1",
   "metadata": {},
   "outputs": [],
   "source": [
    "# changing: min_samples_leaf: The compilator says the range is (0, 0.5].\n",
    "\n",
    "leaves = np.linspace(0.01,0.5,10, endpoint=True)\n",
    "\n",
    "MAEtrain_rf = []\n",
    "MAEpre_rf = []\n",
    "\n",
    "for i in leaves:\n",
    "    rf = RandomForestRegressor(n_estimators=100, min_samples_leaf=i, random_state = 42, n_jobs=-1)\n",
    "    rf.fit(X_train2, y_train2)\n",
    "        \n",
    "    yrf = rf.predict(X_train2)\n",
    "    MAEtrain_rf.append(metrics.mean_absolute_error(y_train2, yrf))\n",
    "        \n",
    "    yprf = rf.predict(X_test2)\n",
    "    MAEpre_rf.append(metrics.mean_absolute_error(y_test2, yprf))"
   ]
  },
  {
   "cell_type": "code",
   "execution_count": 32,
   "id": "75188700",
   "metadata": {},
   "outputs": [
    {
     "data": {
      "image/png": "[encoded data removed]",
      "text/plain": [
       "<Figure size 432x288 with 1 Axes>"
      ]
     },
     "metadata": {
      "needs_background": "light"
     },
     "output_type": "display_data"
    }
   ],
   "source": [
    "# plot the MAE vs the number of samples on leaf, for test and for train:\n",
    "line1 = plt.plot(leaves, MAEtrain_rf)\n",
    "line2 = plt.plot(leaves, MAEpre_rf)\n",
    "plt.xlabel('# of samples leaf')\n",
    "plt.ylabel('MAE value')\n",
    "plt.legend(['Train', 'Test'])\n",
    "plt.show()"
   ]
  },
  {
   "cell_type": "markdown",
   "id": "16040fb1",
   "metadata": {},
   "source": [
    "Increasing the minimum of samples in each leaf, increases the error, then we will be using the default value for this parameter."
   ]
  },
  {
   "cell_type": "code",
   "execution_count": 28,
   "id": "24ff0f41",
   "metadata": {},
   "outputs": [],
   "source": [
    "# changing: max_features: we need at least 2 features to began a regression.\n",
    "\n",
    "feats = list(range(2,X.shape[1]+1))\n",
    "\n",
    "MAEtrain_rf = []\n",
    "MAEpre_rf = []\n",
    "\n",
    "for i in feats:\n",
    "    rf = RandomForestRegressor(n_estimators=100, max_features=i, random_state = 42, n_jobs=-1)\n",
    "    rf.fit(X_train2, y_train2)\n",
    "        \n",
    "    yrf = rf.predict(X_train2)\n",
    "    MAEtrain_rf.append(metrics.mean_absolute_error(y_train2, yrf))\n",
    "        \n",
    "    yprf = rf.predict(X_test2)\n",
    "    MAEpre_rf.append(metrics.mean_absolute_error(y_test2, yprf))"
   ]
  },
  {
   "cell_type": "code",
   "execution_count": 29,
   "id": "c78fbb31",
   "metadata": {},
   "outputs": [
    {
     "data": {
      "image/png": "[encoded data removed]",
      "text/plain": [
       "<Figure size 432x288 with 1 Axes>"
      ]
     },
     "metadata": {
      "needs_background": "light"
     },
     "output_type": "display_data"
    }
   ],
   "source": [
    "# plot the MAE vs max of features for test and for train:\n",
    "line1 = plt.plot(feats, MAEtrain_rf)\n",
    "line2 = plt.plot(feats, MAEpre_rf)\n",
    "plt.xlabel('# of features')\n",
    "plt.ylabel('MAE value')\n",
    "plt.legend(['Train', 'Test'])\n",
    "plt.show()"
   ]
  },
  {
   "cell_type": "markdown",
   "id": "fab31ae3",
   "metadata": {},
   "source": [
    "In the graph we can see that when we increase the number of features the mean absolute error decresases, thus we will use all features avaible."
   ]
  },
  {
   "cell_type": "markdown",
   "id": "3fd868c8",
   "metadata": {},
   "source": [
    "*Summary*: For RandomForestRegressor the best parameters are: n_estimators = 100, max_depth = 20, and, all features. \n",
    "For the other parameters will be using the default values. Also, we will be using the potion parallel computing, to use all 8 CPU kernels on my computer."
   ]
  },
  {
   "cell_type": "markdown",
   "id": "e51e9f0a",
   "metadata": {},
   "source": [
    "## Exercici 4: Compara el seu rendiment utilitzant l’aproximació traint/test o utilitzant totes les dades (validació interna)"
   ]
  },
  {
   "cell_type": "markdown",
   "id": "206edcee",
   "metadata": {},
   "source": [
    "We compile the external and internal validations by using the parameters computed on the last exercise."
   ]
  },
  {
   "cell_type": "markdown",
   "id": "d7610fcc",
   "metadata": {},
   "source": [
    "**External cross validation**. As we have pointed in exercise 2, external crossvalidation is done after we have split the dataset in train/test, we have trained our model with train data, and produced the prediction set. Then the accuracy or score ($R^2$) functions will give us how well behaved is model, its score (1 for well behaved, -1 if it is arbitrarly worse ($R^2$ case) or 0 if the model disregards the input values)."
   ]
  },
  {
   "cell_type": "code",
   "execution_count": 35,
   "id": "53fb322b",
   "metadata": {},
   "outputs": [
    {
     "name": "stdout",
     "output_type": "stream",
     "text": [
      "train score: 0.9999999979397343\n",
      "test score: 0.9999999983780556\n"
     ]
    }
   ],
   "source": [
    "# Linear Regression\n",
    "cmLR = LinearRegression(normalize=True, n_jobs=-1) #fit_intercept is already on True\n",
    "cmLR.fit(X_train, y_train)\n",
    "\n",
    "print('train score:', cmLR.score(X_train, y_train))\n",
    "print('test score:', cmLR.score(X_test, y_test))"
   ]
  },
  {
   "cell_type": "markdown",
   "id": "5d6b150d",
   "metadata": {},
   "source": [
    "The scores are the same we had obtained without using the normalization. For this system, the prediction will be same as without using the normalization."
   ]
  },
  {
   "cell_type": "code",
   "execution_count": 36,
   "id": "b8c74280",
   "metadata": {},
   "outputs": [
    {
     "name": "stdout",
     "output_type": "stream",
     "text": [
      "train score: 0.9993475535562285\n",
      "test score: 0.998936130259752\n"
     ]
    }
   ],
   "source": [
    "# Decision Tree Regressor\n",
    "cmDT = DecisionTreeRegressor(random_state=42, max_depth=20)\n",
    "cmDT.fit(X_train,y_train)\n",
    "\n",
    "print('train score:', cmDT.score(X_train, y_train))\n",
    "print('test score:', cmDT.score(X_test, y_test))"
   ]
  },
  {
   "cell_type": "markdown",
   "id": "9413fe99",
   "metadata": {},
   "source": [
    "The model with max depth of 20 predicts worse than when it was default. The score before was: train -> 1, test -> 0.9995. By setting the parameter max_depth to 20, the score has decrease slightly, even though the model is well behaved on its predictions."
   ]
  },
  {
   "cell_type": "code",
   "execution_count": 40,
   "id": "a66b9df5",
   "metadata": {},
   "outputs": [
    {
     "name": "stdout",
     "output_type": "stream",
     "text": [
      "train score: 0.9995228593395411\n",
      "test score: 0.9988914225156289\n"
     ]
    }
   ],
   "source": [
    "cmRF = RandomForestRegressor(n_estimators=100, random_state=42, max_depth=20, n_jobs=-1)\n",
    "cmRF.fit(X_train, y_train)\n",
    "\n",
    "print('train score:', cmRF.score(X_train, y_train))\n",
    "print('test score:', cmRF.score(X_test, y_test))"
   ]
  },
  {
   "cell_type": "markdown",
   "id": "4947ccf2",
   "metadata": {},
   "source": [
    "In this case, the model with depth = 20, has less coefficient of determination, $R^2$ score. Before: train was: $0.99998$ and now it is $0.9995$; for test: $0.9998$ and now it is $0.999$. Even though the difference in the score the model behaves and the predicted y will give similar results to the ones found without setting a value on max_depth."
   ]
  },
  {
   "cell_type": "markdown",
   "id": "4963415e",
   "metadata": {},
   "source": [
    "**Internal cross validation** We will split the dataset (full) in five folds and avalute them respect the models used. To do so, we will use the function cross_validate from model_selection library."
   ]
  },
  {
   "cell_type": "code",
   "execution_count": 29,
   "id": "ac1afe29",
   "metadata": {},
   "outputs": [
    {
     "name": "stdout",
     "output_type": "stream",
     "text": [
      "keys LR:['fit_time', 'score_time', 'test_score']\n",
      "test scores LR: [0.99999999 1.         1.         1.         1.        ]\n"
     ]
    }
   ],
   "source": [
    "# cross-validation LR with cv=5 (five-fold standard)\n",
    "cmLR = make_pipeline(StandardScaler(), LinearRegression()) # not accept normalization from the model, needs pipline\n",
    "cvLR = cross_validate(cmLR, X, y, n_jobs=-1)\n",
    "print('keys LR:{}'.format(sorted(cvLR.keys())))\n",
    "print('test scores LR: {}'.format(cvLR['test_score']))"
   ]
  },
  {
   "cell_type": "code",
   "execution_count": 30,
   "id": "8b5fda21",
   "metadata": {},
   "outputs": [
    {
     "name": "stdout",
     "output_type": "stream",
     "text": [
      "keys DT:['fit_time', 'score_time', 'test_score']\n",
      "test scores DT: [0.99913691 0.99896893 0.99923703 0.99923063 0.99921107]\n"
     ]
    }
   ],
   "source": [
    "# cross-validation DT with cv=5 (five-fold standard)\n",
    "cvDT = cross_validate(cmDT, X, y, n_jobs=-1)\n",
    "print('keys DT:{}'.format(sorted(cvDT.keys())))\n",
    "print('test scores DT: {}'.format(cvDT['test_score']))"
   ]
  },
  {
   "cell_type": "code",
   "execution_count": 15,
   "id": "a4484707",
   "metadata": {},
   "outputs": [
    {
     "name": "stdout",
     "output_type": "stream",
     "text": [
      "keys:['fit_time', 'score_time', 'test_score']\n",
      "test scores: [0.99930372 0.99924819 0.99937561 0.99945155 0.99945939]\n"
     ]
    }
   ],
   "source": [
    "# cross-validation RF with cv=5 (five-fold standard)\n",
    "cvRF = cross_validate(cmRF, X, y.ravel(), n_jobs=-1)\n",
    "print('keys:{}'.format(sorted(cvRF.keys())))\n",
    "print('test scores: {}'.format(cvRF['test_score']))"
   ]
  },
  {
   "cell_type": "code",
   "execution_count": 32,
   "id": "3597690c",
   "metadata": {},
   "outputs": [
    {
     "name": "stdout",
     "output_type": "stream",
     "text": [
      "difference between the values for LR: [9.80251635e-09 1.11022302e-16 2.99760217e-15 9.99200722e-16]\n",
      "difference between the values for DT: [1.67972873e-04 2.68092554e-04 6.40055342e-06 1.95563708e-05]\n",
      "difference between the values for RF: [5.55335614e-05 1.27419302e-04 7.59421917e-05 7.84016112e-06]\n"
     ]
    }
   ],
   "source": [
    "print('difference between the values for LR:', abs(np.diff(cvLR['test_score'])))\n",
    "print('difference between the values for DT:', abs(np.diff(cvDT['test_score'])))\n",
    "print('difference between the values for RF:', abs(np.diff(cvRF['test_score'])))"
   ]
  },
  {
   "cell_type": "code",
   "execution_count": 43,
   "id": "c9d588b5",
   "metadata": {},
   "outputs": [
    {
     "name": "stdout",
     "output_type": "stream",
     "text": [
      "difference between the values for LR full and test: [8.18059509e-09 1.62192126e-09 1.62192137e-09 1.62192437e-09\n",
      " 1.62192337e-09]\n",
      "difference between the values for DT full and test: [2.00777488e-04 3.28046147e-05 3.00897169e-04 2.94496615e-04\n",
      " 2.74940244e-04]\n",
      "difference between the values for RF full and test: [0.0004123  0.00035677 0.00048419 0.00056013 0.00056797]\n"
     ]
    }
   ],
   "source": [
    "print('difference between the values for LR full and test:', abs(cvLR['test_score'] - cmLR1.score(X_test, y_test)))\n",
    "print('difference between the values for DT full and test:', abs(cvDT['test_score'] - cmDT1.score(X_test,y_test)))\n",
    "print('difference between the values for RF full and test:', abs(cvRF['test_score'] - cmRF1.score(X_test,y_test)))"
   ]
  },
  {
   "cell_type": "markdown",
   "id": "f9451cf2",
   "metadata": {},
   "source": [
    "> Note: if you are following the code the values cmLR1/DT1/RF1 has been compiled by changing the values to this ones on the external cross validation, and then executed. Afterwards, we decided to leave the values as should have been without doing the analysis. \n",
    "\n",
    "> Note2: The differences between values are done with the function diff that works by doing the difference of the value: $[(i+1) - i]$. This is why we only get 4 values, for doing all against all we need to do a loop, but in this case since the test scores are very similar we do not need to go into more detail.\n",
    "\n",
    "The internal cross validation in the three cases gives for the 5 folds similar scores to each, we can see that its differences, the bigger ones are of $10^{-4}$, also, we notice that these scores are also similars to the scores obtained for the external cross-validation. The scores that perform that are more different are the ones computed via RandomForest (difference of $10^{-4}$) while the more accurate ones are the ones computed by the linear regression."
   ]
  },
  {
   "cell_type": "markdown",
   "id": "d873ad74",
   "metadata": {},
   "source": [
    "# Nivell 2"
   ]
  },
  {
   "cell_type": "markdown",
   "id": "46e8c689",
   "metadata": {},
   "source": [
    "## Exercici 5: Realitza algun procés d’enginyeria de variables per millorar-ne la predicció"
   ]
  },
  {
   "cell_type": "markdown",
   "id": "3f82fa48",
   "metadata": {},
   "source": [
    "The first transformation in our dataset will be doing a polar transformation on the dates, in order to have the dates in cyclic manner. The polar transformation is:\n",
    "\n",
    "$$ \\mbox{date_cos} = cos\\left( 2\\pi \\frac{x_i}{N} \\right)$$\n",
    "$$ \\mbox{date_sin} = sin\\left( 2\\pi \\frac{x_i}{N} \\right)$$\n",
    "\n",
    "where $x_i$ are each single values of the feature we want to make cyclic: months, days, day of the week; and N is the total numbers of months, days and days of the week (N = 12, 31, 7 respectively).\n",
    "\n",
    "The second transformation we will apply to make the date cyclic will be done by using 10 base multiplication and sum on the dates, also, we can add the DepTime/CRSDepTime/ArrTime/CRSArrTime columns to make it more complete, as it follows:\n",
    "\n",
    "1. In our dataset the times are in format HHMM (see DepTime column as example), so this is the base.\n",
    "2. Multiply by $10^4$ the DayofMonth, since time has 4 integers.\n",
    "3. Multiply Month by $10^6$, since days can have two integers (DD).\n",
    "4. Multiply Year by $10^8$, since months also have two integers (MM).\n",
    "\n",
    "The last one is optional, but if we want to transform the data with the built-in function like timedate/timestamp of pandas to split the data afterwards it is useful to know the year if we want information as the dayOfWeek (Mon-Sun), as it is on our dataset. After this transformation we can also drop the column dayOfWeek, since it is implicit on the \"time-epoch\" we have created."
   ]
  },
  {
   "cell_type": "code",
   "execution_count": 84,
   "id": "c4376f31",
   "metadata": {},
   "outputs": [
    {
     "data": {
      "text/html": [
       "<div>\n",
       "<style scoped>\n",
       "    .dataframe tbody tr th:only-of-type {\n",
       "        vertical-align: middle;\n",
       "    }\n",
       "\n",
       "    .dataframe tbody tr th {\n",
       "        vertical-align: top;\n",
       "    }\n",
       "\n",
       "    .dataframe thead th {\n",
       "        text-align: right;\n",
       "    }\n",
       "</style>\n",
       "<table border=\"1\" class=\"dataframe\">\n",
       "  <thead>\n",
       "    <tr style=\"text-align: right;\">\n",
       "      <th></th>\n",
       "      <th>Month</th>\n",
       "      <th>DayofMonth</th>\n",
       "      <th>DayOfWeek</th>\n",
       "      <th>DepTime</th>\n",
       "      <th>CRSDepTime</th>\n",
       "      <th>ArrTime</th>\n",
       "      <th>CRSArrTime</th>\n",
       "      <th>UniqueCarrier</th>\n",
       "      <th>FlightNum</th>\n",
       "      <th>TailNum</th>\n",
       "      <th>...</th>\n",
       "      <th>VelocityAir</th>\n",
       "      <th>DelayedArr</th>\n",
       "      <th>TotalDelayed</th>\n",
       "      <th>TaxiTime</th>\n",
       "      <th>Mcos</th>\n",
       "      <th>Msin</th>\n",
       "      <th>Dcos</th>\n",
       "      <th>Dsin</th>\n",
       "      <th>Wcos</th>\n",
       "      <th>Wsin</th>\n",
       "    </tr>\n",
       "  </thead>\n",
       "  <tbody>\n",
       "    <tr>\n",
       "      <th>0</th>\n",
       "      <td>1</td>\n",
       "      <td>3</td>\n",
       "      <td>4</td>\n",
       "      <td>2003.0</td>\n",
       "      <td>1955</td>\n",
       "      <td>2211.0</td>\n",
       "      <td>2225</td>\n",
       "      <td>WN</td>\n",
       "      <td>335</td>\n",
       "      <td>N712SW</td>\n",
       "      <td>...</td>\n",
       "      <td>379.687500</td>\n",
       "      <td>0</td>\n",
       "      <td>0.0</td>\n",
       "      <td>12.0</td>\n",
       "      <td>0.866025</td>\n",
       "      <td>0.5</td>\n",
       "      <td>0.820763</td>\n",
       "      <td>0.571268</td>\n",
       "      <td>-0.900969</td>\n",
       "      <td>-0.433884</td>\n",
       "    </tr>\n",
       "    <tr>\n",
       "      <th>1</th>\n",
       "      <td>1</td>\n",
       "      <td>3</td>\n",
       "      <td>4</td>\n",
       "      <td>754.0</td>\n",
       "      <td>735</td>\n",
       "      <td>1002.0</td>\n",
       "      <td>1000</td>\n",
       "      <td>WN</td>\n",
       "      <td>3231</td>\n",
       "      <td>N772SW</td>\n",
       "      <td>...</td>\n",
       "      <td>379.687500</td>\n",
       "      <td>1</td>\n",
       "      <td>0.0</td>\n",
       "      <td>15.0</td>\n",
       "      <td>0.866025</td>\n",
       "      <td>0.5</td>\n",
       "      <td>0.820763</td>\n",
       "      <td>0.571268</td>\n",
       "      <td>-0.900969</td>\n",
       "      <td>-0.433884</td>\n",
       "    </tr>\n",
       "    <tr>\n",
       "      <th>2</th>\n",
       "      <td>1</td>\n",
       "      <td>3</td>\n",
       "      <td>4</td>\n",
       "      <td>628.0</td>\n",
       "      <td>620</td>\n",
       "      <td>804.0</td>\n",
       "      <td>750</td>\n",
       "      <td>WN</td>\n",
       "      <td>448</td>\n",
       "      <td>N428WN</td>\n",
       "      <td>...</td>\n",
       "      <td>321.875000</td>\n",
       "      <td>1</td>\n",
       "      <td>0.0</td>\n",
       "      <td>20.0</td>\n",
       "      <td>0.866025</td>\n",
       "      <td>0.5</td>\n",
       "      <td>0.820763</td>\n",
       "      <td>0.571268</td>\n",
       "      <td>-0.900969</td>\n",
       "      <td>-0.433884</td>\n",
       "    </tr>\n",
       "    <tr>\n",
       "      <th>3</th>\n",
       "      <td>1</td>\n",
       "      <td>3</td>\n",
       "      <td>4</td>\n",
       "      <td>1829.0</td>\n",
       "      <td>1755</td>\n",
       "      <td>1959.0</td>\n",
       "      <td>1925</td>\n",
       "      <td>WN</td>\n",
       "      <td>3920</td>\n",
       "      <td>N464WN</td>\n",
       "      <td>...</td>\n",
       "      <td>343.333333</td>\n",
       "      <td>1</td>\n",
       "      <td>34.0</td>\n",
       "      <td>13.0</td>\n",
       "      <td>0.866025</td>\n",
       "      <td>0.5</td>\n",
       "      <td>0.820763</td>\n",
       "      <td>0.571268</td>\n",
       "      <td>-0.900969</td>\n",
       "      <td>-0.433884</td>\n",
       "    </tr>\n",
       "    <tr>\n",
       "      <th>4</th>\n",
       "      <td>1</td>\n",
       "      <td>3</td>\n",
       "      <td>4</td>\n",
       "      <td>1940.0</td>\n",
       "      <td>1915</td>\n",
       "      <td>2121.0</td>\n",
       "      <td>2110</td>\n",
       "      <td>WN</td>\n",
       "      <td>378</td>\n",
       "      <td>N726SW</td>\n",
       "      <td>...</td>\n",
       "      <td>408.712871</td>\n",
       "      <td>1</td>\n",
       "      <td>0.0</td>\n",
       "      <td>14.0</td>\n",
       "      <td>0.866025</td>\n",
       "      <td>0.5</td>\n",
       "      <td>0.820763</td>\n",
       "      <td>0.571268</td>\n",
       "      <td>-0.900969</td>\n",
       "      <td>-0.433884</td>\n",
       "    </tr>\n",
       "  </tbody>\n",
       "</table>\n",
       "<p>5 rows × 35 columns</p>\n",
       "</div>"
      ],
      "text/plain": [
       "   Month  DayofMonth  DayOfWeek  DepTime  CRSDepTime  ArrTime  CRSArrTime  \\\n",
       "0      1           3          4   2003.0        1955   2211.0        2225   \n",
       "1      1           3          4    754.0         735   1002.0        1000   \n",
       "2      1           3          4    628.0         620    804.0         750   \n",
       "3      1           3          4   1829.0        1755   1959.0        1925   \n",
       "4      1           3          4   1940.0        1915   2121.0        2110   \n",
       "\n",
       "  UniqueCarrier  FlightNum TailNum  ...  VelocityAir  DelayedArr  \\\n",
       "0            WN        335  N712SW  ...   379.687500           0   \n",
       "1            WN       3231  N772SW  ...   379.687500           1   \n",
       "2            WN        448  N428WN  ...   321.875000           1   \n",
       "3            WN       3920  N464WN  ...   343.333333           1   \n",
       "4            WN        378  N726SW  ...   408.712871           1   \n",
       "\n",
       "   TotalDelayed  TaxiTime      Mcos Msin      Dcos      Dsin      Wcos  \\\n",
       "0           0.0      12.0  0.866025  0.5  0.820763  0.571268 -0.900969   \n",
       "1           0.0      15.0  0.866025  0.5  0.820763  0.571268 -0.900969   \n",
       "2           0.0      20.0  0.866025  0.5  0.820763  0.571268 -0.900969   \n",
       "3          34.0      13.0  0.866025  0.5  0.820763  0.571268 -0.900969   \n",
       "4           0.0      14.0  0.866025  0.5  0.820763  0.571268 -0.900969   \n",
       "\n",
       "       Wsin  \n",
       "0 -0.433884  \n",
       "1 -0.433884  \n",
       "2 -0.433884  \n",
       "3 -0.433884  \n",
       "4 -0.433884  \n",
       "\n",
       "[5 rows x 35 columns]"
      ]
     },
     "execution_count": 84,
     "metadata": {},
     "output_type": "execute_result"
    }
   ],
   "source": [
    "# 1. Transforming the data to polar coordinates \n",
    "# CAUTION! the daysofMonth will be wrong since we take all months with 31 days\n",
    "df['Mcos'] = np.cos(2*np.pi*df.Month / df.Month.nunique())\n",
    "df['Msin'] = np.sin(2*np.pi*df.Month / df.Month.nunique())\n",
    "\n",
    "df['Dcos'] = np.cos(2*np.pi*df.DayofMonth / df.DayofMonth.nunique())\n",
    "df['Dsin'] = np.sin(2*np.pi*df.DayofMonth / df.DayofMonth.nunique())\n",
    "\n",
    "df['Wcos'] = np.cos(2*np.pi*df.DayOfWeek / df.DayOfWeek.nunique())\n",
    "df['Wsin'] = np.sin(2*np.pi*df.DayOfWeek / df.DayOfWeek.nunique())\n",
    "\n",
    "df.head()"
   ]
  },
  {
   "cell_type": "code",
   "execution_count": 85,
   "id": "04258ba3",
   "metadata": {},
   "outputs": [
    {
     "data": {
      "text/html": [
       "<div>\n",
       "<style scoped>\n",
       "    .dataframe tbody tr th:only-of-type {\n",
       "        vertical-align: middle;\n",
       "    }\n",
       "\n",
       "    .dataframe tbody tr th {\n",
       "        vertical-align: top;\n",
       "    }\n",
       "\n",
       "    .dataframe thead th {\n",
       "        text-align: right;\n",
       "    }\n",
       "</style>\n",
       "<table border=\"1\" class=\"dataframe\">\n",
       "  <thead>\n",
       "    <tr style=\"text-align: right;\">\n",
       "      <th></th>\n",
       "      <th>Month</th>\n",
       "      <th>DayofMonth</th>\n",
       "      <th>DayOfWeek</th>\n",
       "      <th>DepTime</th>\n",
       "      <th>CRSDepTime</th>\n",
       "      <th>ArrTime</th>\n",
       "      <th>CRSArrTime</th>\n",
       "      <th>UniqueCarrier</th>\n",
       "      <th>FlightNum</th>\n",
       "      <th>TailNum</th>\n",
       "      <th>...</th>\n",
       "      <th>Msin</th>\n",
       "      <th>Dcos</th>\n",
       "      <th>Dsin</th>\n",
       "      <th>Wcos</th>\n",
       "      <th>Wsin</th>\n",
       "      <th>Year</th>\n",
       "      <th>DateDep</th>\n",
       "      <th>DateCRSDep</th>\n",
       "      <th>DateArr</th>\n",
       "      <th>DateCRSArr</th>\n",
       "    </tr>\n",
       "  </thead>\n",
       "  <tbody>\n",
       "    <tr>\n",
       "      <th>1928363</th>\n",
       "      <td>12</td>\n",
       "      <td>13</td>\n",
       "      <td>6</td>\n",
       "      <td>1250.0</td>\n",
       "      <td>1220</td>\n",
       "      <td>1617.0</td>\n",
       "      <td>1552</td>\n",
       "      <td>DL</td>\n",
       "      <td>1621</td>\n",
       "      <td>N938DL</td>\n",
       "      <td>...</td>\n",
       "      <td>-2.449294e-16</td>\n",
       "      <td>-0.874347</td>\n",
       "      <td>0.485302</td>\n",
       "      <td>0.62349</td>\n",
       "      <td>-0.781831</td>\n",
       "      <td>2008</td>\n",
       "      <td>2.008121e+11</td>\n",
       "      <td>200812131220</td>\n",
       "      <td>2.008121e+11</td>\n",
       "      <td>200812131552</td>\n",
       "    </tr>\n",
       "    <tr>\n",
       "      <th>1928364</th>\n",
       "      <td>12</td>\n",
       "      <td>13</td>\n",
       "      <td>6</td>\n",
       "      <td>657.0</td>\n",
       "      <td>600</td>\n",
       "      <td>904.0</td>\n",
       "      <td>749</td>\n",
       "      <td>DL</td>\n",
       "      <td>1631</td>\n",
       "      <td>N3743H</td>\n",
       "      <td>...</td>\n",
       "      <td>-2.449294e-16</td>\n",
       "      <td>-0.874347</td>\n",
       "      <td>0.485302</td>\n",
       "      <td>0.62349</td>\n",
       "      <td>-0.781831</td>\n",
       "      <td>2008</td>\n",
       "      <td>2.008121e+11</td>\n",
       "      <td>200812130600</td>\n",
       "      <td>2.008121e+11</td>\n",
       "      <td>200812130749</td>\n",
       "    </tr>\n",
       "    <tr>\n",
       "      <th>1928365</th>\n",
       "      <td>12</td>\n",
       "      <td>13</td>\n",
       "      <td>6</td>\n",
       "      <td>1007.0</td>\n",
       "      <td>847</td>\n",
       "      <td>1149.0</td>\n",
       "      <td>1010</td>\n",
       "      <td>DL</td>\n",
       "      <td>1631</td>\n",
       "      <td>N909DA</td>\n",
       "      <td>...</td>\n",
       "      <td>-2.449294e-16</td>\n",
       "      <td>-0.874347</td>\n",
       "      <td>0.485302</td>\n",
       "      <td>0.62349</td>\n",
       "      <td>-0.781831</td>\n",
       "      <td>2008</td>\n",
       "      <td>2.008121e+11</td>\n",
       "      <td>200812130847</td>\n",
       "      <td>2.008121e+11</td>\n",
       "      <td>200812131010</td>\n",
       "    </tr>\n",
       "    <tr>\n",
       "      <th>1928366</th>\n",
       "      <td>12</td>\n",
       "      <td>13</td>\n",
       "      <td>6</td>\n",
       "      <td>1251.0</td>\n",
       "      <td>1240</td>\n",
       "      <td>1446.0</td>\n",
       "      <td>1437</td>\n",
       "      <td>DL</td>\n",
       "      <td>1639</td>\n",
       "      <td>N646DL</td>\n",
       "      <td>...</td>\n",
       "      <td>-2.449294e-16</td>\n",
       "      <td>-0.874347</td>\n",
       "      <td>0.485302</td>\n",
       "      <td>0.62349</td>\n",
       "      <td>-0.781831</td>\n",
       "      <td>2008</td>\n",
       "      <td>2.008121e+11</td>\n",
       "      <td>200812131240</td>\n",
       "      <td>2.008121e+11</td>\n",
       "      <td>200812131437</td>\n",
       "    </tr>\n",
       "    <tr>\n",
       "      <th>1928367</th>\n",
       "      <td>12</td>\n",
       "      <td>13</td>\n",
       "      <td>6</td>\n",
       "      <td>1110.0</td>\n",
       "      <td>1103</td>\n",
       "      <td>1413.0</td>\n",
       "      <td>1418</td>\n",
       "      <td>DL</td>\n",
       "      <td>1641</td>\n",
       "      <td>N908DL</td>\n",
       "      <td>...</td>\n",
       "      <td>-2.449294e-16</td>\n",
       "      <td>-0.874347</td>\n",
       "      <td>0.485302</td>\n",
       "      <td>0.62349</td>\n",
       "      <td>-0.781831</td>\n",
       "      <td>2008</td>\n",
       "      <td>2.008121e+11</td>\n",
       "      <td>200812131103</td>\n",
       "      <td>2.008121e+11</td>\n",
       "      <td>200812131418</td>\n",
       "    </tr>\n",
       "  </tbody>\n",
       "</table>\n",
       "<p>5 rows × 40 columns</p>\n",
       "</div>"
      ],
      "text/plain": [
       "         Month  DayofMonth  DayOfWeek  DepTime  CRSDepTime  ArrTime  \\\n",
       "1928363     12          13          6   1250.0        1220   1617.0   \n",
       "1928364     12          13          6    657.0         600    904.0   \n",
       "1928365     12          13          6   1007.0         847   1149.0   \n",
       "1928366     12          13          6   1251.0        1240   1446.0   \n",
       "1928367     12          13          6   1110.0        1103   1413.0   \n",
       "\n",
       "         CRSArrTime UniqueCarrier  FlightNum TailNum  ...          Msin  \\\n",
       "1928363        1552            DL       1621  N938DL  ... -2.449294e-16   \n",
       "1928364         749            DL       1631  N3743H  ... -2.449294e-16   \n",
       "1928365        1010            DL       1631  N909DA  ... -2.449294e-16   \n",
       "1928366        1437            DL       1639  N646DL  ... -2.449294e-16   \n",
       "1928367        1418            DL       1641  N908DL  ... -2.449294e-16   \n",
       "\n",
       "             Dcos      Dsin     Wcos      Wsin  Year       DateDep  \\\n",
       "1928363 -0.874347  0.485302  0.62349 -0.781831  2008  2.008121e+11   \n",
       "1928364 -0.874347  0.485302  0.62349 -0.781831  2008  2.008121e+11   \n",
       "1928365 -0.874347  0.485302  0.62349 -0.781831  2008  2.008121e+11   \n",
       "1928366 -0.874347  0.485302  0.62349 -0.781831  2008  2.008121e+11   \n",
       "1928367 -0.874347  0.485302  0.62349 -0.781831  2008  2.008121e+11   \n",
       "\n",
       "           DateCRSDep       DateArr    DateCRSArr  \n",
       "1928363  200812131220  2.008121e+11  200812131552  \n",
       "1928364  200812130600  2.008121e+11  200812130749  \n",
       "1928365  200812130847  2.008121e+11  200812131010  \n",
       "1928366  200812131240  2.008121e+11  200812131437  \n",
       "1928367  200812131103  2.008121e+11  200812131418  \n",
       "\n",
       "[5 rows x 40 columns]"
      ]
     },
     "execution_count": 85,
     "metadata": {},
     "output_type": "execute_result"
    }
   ],
   "source": [
    "# 2. Transforming data in cyclic for timestamp/timedate built-in functions.\n",
    "# we make use of the columns DepTime, CRSDepTime, ArrTime, CRSArrTime to know the hours for the date transformation.\n",
    "# we can notice that afterwards we can drop these columns.\n",
    "df['Year'] = 2008 # we add the column of year, previously erased, will be dropped afterwards.\n",
    "df['DateDep'] = df.DepTime + df.DayofMonth*10000 + df.Month*1000000 + df.Year*100000000\n",
    "df['DateCRSDep'] = df.CRSDepTime + df.DayofMonth*10000 + df.Month*1000000 + df.Year*100000000\n",
    "df['DateArr'] = df.ArrTime + df.DayofMonth*10000 + df.Month*1000000 + df.Year*100000000\n",
    "df['DateCRSArr'] = df.CRSArrTime + df.DayofMonth*10000 + df.Month*1000000 + df.Year*100000000\n",
    "\n",
    "df.tail()\n",
    "# we can see that these columns are in format \"time-epoch\" and also they are treatable by timedate functions!\n",
    "# Also, they are integers, that might help to feed into models, if they are required on the analysis."
   ]
  },
  {
   "cell_type": "markdown",
   "id": "def3ab15",
   "metadata": {},
   "source": [
    "We will use the function label encoder, so we can add the categories UniqueCarrier, Origin, Destination, and, TailNum. Sometimes, there are companies more prone to delays, and also some destinations have more delayed planes than others and we want to see if these columns are relevant on our dataset.\n",
    "\n",
    "We use LabelEncoder instead of get_dummies, since it doesn't create a feature for each unique variable, instead it codifies each unique variable with numbers from 0 to the sum of all unique values minus 1 (nunique() -1), i.e., the range (or domain of a variable)."
   ]
  },
  {
   "cell_type": "code",
   "execution_count": 86,
   "id": "13e807bb",
   "metadata": {},
   "outputs": [
    {
     "data": {
      "text/html": [
       "<div>\n",
       "<style scoped>\n",
       "    .dataframe tbody tr th:only-of-type {\n",
       "        vertical-align: middle;\n",
       "    }\n",
       "\n",
       "    .dataframe tbody tr th {\n",
       "        vertical-align: top;\n",
       "    }\n",
       "\n",
       "    .dataframe thead th {\n",
       "        text-align: right;\n",
       "    }\n",
       "</style>\n",
       "<table border=\"1\" class=\"dataframe\">\n",
       "  <thead>\n",
       "    <tr style=\"text-align: right;\">\n",
       "      <th></th>\n",
       "      <th>Month</th>\n",
       "      <th>DayofMonth</th>\n",
       "      <th>DayOfWeek</th>\n",
       "      <th>DepTime</th>\n",
       "      <th>CRSDepTime</th>\n",
       "      <th>ArrTime</th>\n",
       "      <th>CRSArrTime</th>\n",
       "      <th>UniqueCarrier</th>\n",
       "      <th>FlightNum</th>\n",
       "      <th>TailNum</th>\n",
       "      <th>...</th>\n",
       "      <th>Wsin</th>\n",
       "      <th>Year</th>\n",
       "      <th>DateDep</th>\n",
       "      <th>DateCRSDep</th>\n",
       "      <th>DateArr</th>\n",
       "      <th>DateCRSArr</th>\n",
       "      <th>UCarrier_en</th>\n",
       "      <th>Origin_en</th>\n",
       "      <th>Dest_en</th>\n",
       "      <th>TailNum_en</th>\n",
       "    </tr>\n",
       "  </thead>\n",
       "  <tbody>\n",
       "    <tr>\n",
       "      <th>0</th>\n",
       "      <td>1</td>\n",
       "      <td>3</td>\n",
       "      <td>4</td>\n",
       "      <td>2003.0</td>\n",
       "      <td>1955</td>\n",
       "      <td>2211.0</td>\n",
       "      <td>2225</td>\n",
       "      <td>WN</td>\n",
       "      <td>335</td>\n",
       "      <td>N712SW</td>\n",
       "      <td>...</td>\n",
       "      <td>-0.433884</td>\n",
       "      <td>2008</td>\n",
       "      <td>2.008010e+11</td>\n",
       "      <td>200801031955</td>\n",
       "      <td>2.008010e+11</td>\n",
       "      <td>200801032225</td>\n",
       "      <td>17</td>\n",
       "      <td>135</td>\n",
       "      <td>284</td>\n",
       "      <td>3756</td>\n",
       "    </tr>\n",
       "    <tr>\n",
       "      <th>1</th>\n",
       "      <td>1</td>\n",
       "      <td>3</td>\n",
       "      <td>4</td>\n",
       "      <td>754.0</td>\n",
       "      <td>735</td>\n",
       "      <td>1002.0</td>\n",
       "      <td>1000</td>\n",
       "      <td>WN</td>\n",
       "      <td>3231</td>\n",
       "      <td>N772SW</td>\n",
       "      <td>...</td>\n",
       "      <td>-0.433884</td>\n",
       "      <td>2008</td>\n",
       "      <td>2.008010e+11</td>\n",
       "      <td>200801030735</td>\n",
       "      <td>2.008010e+11</td>\n",
       "      <td>200801031000</td>\n",
       "      <td>17</td>\n",
       "      <td>135</td>\n",
       "      <td>284</td>\n",
       "      <td>4116</td>\n",
       "    </tr>\n",
       "    <tr>\n",
       "      <th>2</th>\n",
       "      <td>1</td>\n",
       "      <td>3</td>\n",
       "      <td>4</td>\n",
       "      <td>628.0</td>\n",
       "      <td>620</td>\n",
       "      <td>804.0</td>\n",
       "      <td>750</td>\n",
       "      <td>WN</td>\n",
       "      <td>448</td>\n",
       "      <td>N428WN</td>\n",
       "      <td>...</td>\n",
       "      <td>-0.433884</td>\n",
       "      <td>2008</td>\n",
       "      <td>2.008010e+11</td>\n",
       "      <td>200801030620</td>\n",
       "      <td>2.008010e+11</td>\n",
       "      <td>200801030750</td>\n",
       "      <td>17</td>\n",
       "      <td>140</td>\n",
       "      <td>48</td>\n",
       "      <td>1948</td>\n",
       "    </tr>\n",
       "    <tr>\n",
       "      <th>3</th>\n",
       "      <td>1</td>\n",
       "      <td>3</td>\n",
       "      <td>4</td>\n",
       "      <td>1829.0</td>\n",
       "      <td>1755</td>\n",
       "      <td>1959.0</td>\n",
       "      <td>1925</td>\n",
       "      <td>WN</td>\n",
       "      <td>3920</td>\n",
       "      <td>N464WN</td>\n",
       "      <td>...</td>\n",
       "      <td>-0.433884</td>\n",
       "      <td>2008</td>\n",
       "      <td>2.008010e+11</td>\n",
       "      <td>200801031755</td>\n",
       "      <td>2.008010e+11</td>\n",
       "      <td>200801031925</td>\n",
       "      <td>17</td>\n",
       "      <td>140</td>\n",
       "      <td>48</td>\n",
       "      <td>2129</td>\n",
       "    </tr>\n",
       "    <tr>\n",
       "      <th>4</th>\n",
       "      <td>1</td>\n",
       "      <td>3</td>\n",
       "      <td>4</td>\n",
       "      <td>1940.0</td>\n",
       "      <td>1915</td>\n",
       "      <td>2121.0</td>\n",
       "      <td>2110</td>\n",
       "      <td>WN</td>\n",
       "      <td>378</td>\n",
       "      <td>N726SW</td>\n",
       "      <td>...</td>\n",
       "      <td>-0.433884</td>\n",
       "      <td>2008</td>\n",
       "      <td>2.008010e+11</td>\n",
       "      <td>200801031915</td>\n",
       "      <td>2.008010e+11</td>\n",
       "      <td>200801032110</td>\n",
       "      <td>17</td>\n",
       "      <td>140</td>\n",
       "      <td>149</td>\n",
       "      <td>3839</td>\n",
       "    </tr>\n",
       "  </tbody>\n",
       "</table>\n",
       "<p>5 rows × 44 columns</p>\n",
       "</div>"
      ],
      "text/plain": [
       "   Month  DayofMonth  DayOfWeek  DepTime  CRSDepTime  ArrTime  CRSArrTime  \\\n",
       "0      1           3          4   2003.0        1955   2211.0        2225   \n",
       "1      1           3          4    754.0         735   1002.0        1000   \n",
       "2      1           3          4    628.0         620    804.0         750   \n",
       "3      1           3          4   1829.0        1755   1959.0        1925   \n",
       "4      1           3          4   1940.0        1915   2121.0        2110   \n",
       "\n",
       "  UniqueCarrier  FlightNum TailNum  ...      Wsin  Year       DateDep  \\\n",
       "0            WN        335  N712SW  ... -0.433884  2008  2.008010e+11   \n",
       "1            WN       3231  N772SW  ... -0.433884  2008  2.008010e+11   \n",
       "2            WN        448  N428WN  ... -0.433884  2008  2.008010e+11   \n",
       "3            WN       3920  N464WN  ... -0.433884  2008  2.008010e+11   \n",
       "4            WN        378  N726SW  ... -0.433884  2008  2.008010e+11   \n",
       "\n",
       "     DateCRSDep       DateArr    DateCRSArr UCarrier_en  Origin_en  Dest_en  \\\n",
       "0  200801031955  2.008010e+11  200801032225          17        135      284   \n",
       "1  200801030735  2.008010e+11  200801031000          17        135      284   \n",
       "2  200801030620  2.008010e+11  200801030750          17        140       48   \n",
       "3  200801031755  2.008010e+11  200801031925          17        140       48   \n",
       "4  200801031915  2.008010e+11  200801032110          17        140      149   \n",
       "\n",
       "   TailNum_en  \n",
       "0        3756  \n",
       "1        4116  \n",
       "2        1948  \n",
       "3        2129  \n",
       "4        3839  \n",
       "\n",
       "[5 rows x 44 columns]"
      ]
     },
     "execution_count": 86,
     "metadata": {},
     "output_type": "execute_result"
    }
   ],
   "source": [
    "encode = LabelEncoder()\n",
    "df['UCarrier_en'] = encode.fit_transform(df['UniqueCarrier'])\n",
    "df['Origin_en'] = encode.fit_transform(df['Origin'])\n",
    "df['Dest_en'] = encode.fit_transform(df['Dest'])\n",
    "df['TailNum_en'] = encode.fit_transform(df['TailNum'])\n",
    "df.head()"
   ]
  },
  {
   "cell_type": "markdown",
   "id": "3b81e2c2",
   "metadata": {},
   "source": [
    "Now that we have encoded the categorical/string variable into categorical/numerical variables, we want to see if they have relevant correlations with the numerical variables. To do so we will another time draw the network."
   ]
  },
  {
   "cell_type": "code",
   "execution_count": 87,
   "id": "d0f8262e",
   "metadata": {},
   "outputs": [
    {
     "data": {
      "text/plain": [
       "Index(['Month', 'DayofMonth', 'DayOfWeek', 'DepTime', 'CRSDepTime', 'ArrTime',\n",
       "       'CRSArrTime', 'UniqueCarrier', 'FlightNum', 'TailNum',\n",
       "       'ActualElapsedTime', 'CRSElapsedTime', 'AirTime', 'ArrDelay',\n",
       "       'DepDelay', 'Origin', 'Dest', 'Distance', 'TaxiIn', 'TaxiOut',\n",
       "       'CarrierDelay', 'WeatherDelay', 'NASDelay', 'SecurityDelay',\n",
       "       'LateAircraftDelay', 'VelocityAir', 'DelayedArr', 'TotalDelayed',\n",
       "       'TaxiTime', 'Mcos', 'Msin', 'Dcos', 'Dsin', 'Wcos', 'Wsin', 'Year',\n",
       "       'DateDep', 'DateCRSDep', 'DateArr', 'DateCRSArr', 'UCarrier_en',\n",
       "       'Origin_en', 'Dest_en', 'TailNum_en'],\n",
       "      dtype='object')"
      ]
     },
     "execution_count": 87,
     "metadata": {},
     "output_type": "execute_result"
    }
   ],
   "source": [
    "# we take a look at the columns to extract the columns that are strings (categorical not encoded ones)\n",
    "df.columns"
   ]
  },
  {
   "cell_type": "markdown",
   "id": "ddcc5db7",
   "metadata": {},
   "source": [
    "For the plot of the network we will use both transformations of the date, since the drawing of the network is not computationally expensive. Although, if we were to choose, in this case the best transformation would be DateDep/Arr/CRS since it contains the dates and the times."
   ]
  },
  {
   "cell_type": "code",
   "execution_count": 88,
   "id": "b5fb04bc",
   "metadata": {
    "scrolled": true
   },
   "outputs": [
    {
     "data": {
      "image/png": "[encoded data removed]",
      "text/plain": [
       "<Figure size 432x288 with 1 Axes>"
      ]
     },
     "metadata": {},
     "output_type": "display_data"
    }
   ],
   "source": [
    "# plot the new data in a network, droping the object type features and the old Month/Day/DayWeek/DepTime/ArrTime/CRS\n",
    "dfnum=df[['ActualElapsedTime', 'CRSElapsedTime', 'AirTime', 'ArrDelay', 'DepDelay', 'Distance', \n",
    "          'TaxiIn', 'TaxiOut', 'CarrierDelay', 'WeatherDelay', 'NASDelay', 'SecurityDelay', 'LateAircraftDelay', \n",
    "          'VelocityAir', 'DelayedArr', 'TotalDelayed', 'TaxiTime', 'Msin', 'Mcos', 'Dsin', 'Dcos', 'Wsin', 'Wcos',\n",
    "          'DateDep', 'DateCRSDep', 'DateArr', 'DateCRSArr','UCarrier_en', 'Origin_en', 'Dest_en', 'TailNum_en']]\n",
    "\n",
    "# 1. get adjacency matrix\n",
    "corrdf = dfnum.corr()\n",
    "corrdfas = abs(corrdf)\n",
    "\n",
    "# 2. Use a threshold to only keep the strongest links:\n",
    "thres = corrdfas.std()\n",
    "net = corrdf[(corrdf >= thres) & (corrdf != 1) ] # we don't want self links.\n",
    "net[np.isnan(net)] = 0\n",
    "net2 = np.array(net)\n",
    "\n",
    "# Relabel nodes:\n",
    "#mapping = dict(zip(G, dfnum.columns.to_list())) # if we want to insert the column name.\n",
    "\n",
    "# 3. Map the network\n",
    "G = nx.from_numpy_matrix(net2)\n",
    "\n",
    "pos = nx.spring_layout(G)\n",
    "nodes = nx.draw_networkx_labels(G, pos)\n",
    "\n",
    "nx.draw(G, pos)\n",
    "plt.show()"
   ]
  },
  {
   "cell_type": "code",
   "execution_count": 89,
   "id": "121aeb94",
   "metadata": {},
   "outputs": [
    {
     "data": {
      "text/plain": [
       "{0: 'ActualElapsedTime',\n",
       " 1: 'CRSElapsedTime',\n",
       " 2: 'AirTime',\n",
       " 3: 'ArrDelay',\n",
       " 4: 'DepDelay',\n",
       " 5: 'Distance',\n",
       " 6: 'TaxiIn',\n",
       " 7: 'TaxiOut',\n",
       " 8: 'CarrierDelay',\n",
       " 9: 'WeatherDelay',\n",
       " 10: 'NASDelay',\n",
       " 11: 'SecurityDelay',\n",
       " 12: 'LateAircraftDelay',\n",
       " 13: 'VelocityAir',\n",
       " 14: 'DelayedArr',\n",
       " 15: 'TotalDelayed',\n",
       " 16: 'TaxiTime',\n",
       " 17: 'Msin',\n",
       " 18: 'Mcos',\n",
       " 19: 'Dsin',\n",
       " 20: 'Dcos',\n",
       " 21: 'Wsin',\n",
       " 22: 'Wcos',\n",
       " 23: 'DateDep',\n",
       " 24: 'DateCRSDep',\n",
       " 25: 'DateArr',\n",
       " 26: 'DateCRSArr',\n",
       " 27: 'UCarrier_en',\n",
       " 28: 'Origin_en',\n",
       " 29: 'Dest_en',\n",
       " 30: 'TailNum_en'}"
      ]
     },
     "execution_count": 89,
     "metadata": {},
     "output_type": "execute_result"
    }
   ],
   "source": [
    "dict(zip(G, dfnum.columns.to_list()))"
   ]
  },
  {
   "cell_type": "markdown",
   "id": "b036c0af",
   "metadata": {},
   "source": [
    "The principal network is done by the nodes from 0 to 16 (ActualElapsedTime-TaxiTime), but 11 (SecurityDelay). They are the same ones we have found in exercise 1 to be the principals to the determination of the delays.\n",
    "The second network we see are the one with the nodes 23 to 26 (DateDep-DateCRSArr), as before we saw on exercise 1, the times of these nodes are correlated, and since we have simply applied some multiplications and sums of the dates columns, the correlations are mantained. The nodes that are not linked to any of the others correspond to: \n",
    "1. Dates in polars coordinates (nodes 17 to 20), in this case we have done a polar transformation to each feature independently, they were not correlated to any each other before the transformation, they mantain the independence.\n",
    "2. UniqueCarrier, Origin, Destination, are independents to other variables. The transformation had only remapped the different values from string to numerical, and in the graph we can see that they are not correlated to the variables related to the delays.\n",
    "\n",
    "So, for the next transformation, we will drop these variables and use the same ones of the exercise 1, that are nodes from the largest network, 0 to 16, but 11.\n",
    "\n",
    "We also notice, that nodes 0 to 16 are not categorical."
   ]
  },
  {
   "cell_type": "code",
   "execution_count": 90,
   "id": "9ee70df7",
   "metadata": {},
   "outputs": [],
   "source": [
    "df3 = df[['ActualElapsedTime', 'CRSElapsedTime', 'AirTime', 'ArrDelay', 'DepDelay', 'Distance', \n",
    "          'TaxiIn', 'TaxiOut', 'CarrierDelay', 'WeatherDelay', 'NASDelay', 'SecurityDelay', 'LateAircraftDelay', \n",
    "          'VelocityAir', 'DelayedArr', 'TotalDelayed', 'TaxiTime']]"
   ]
  },
  {
   "cell_type": "code",
   "execution_count": 91,
   "id": "02d0290a",
   "metadata": {},
   "outputs": [],
   "source": [
    "X2 = np.array(df3.drop('ArrDelay', axis=1))\n",
    "y2 = np.array(df3.ArrDelay)"
   ]
  },
  {
   "cell_type": "code",
   "execution_count": 93,
   "id": "17830940",
   "metadata": {},
   "outputs": [],
   "source": [
    "# use a StandardScaler\n",
    "scaler1 = StandardScaler()\n",
    "X_scaled = scaler1.fit_transform(X2) "
   ]
  },
  {
   "cell_type": "code",
   "execution_count": 94,
   "id": "9c44483d",
   "metadata": {},
   "outputs": [],
   "source": [
    "# use robust scaler\n",
    "scaler2 = RobustScaler()\n",
    "X_scaled2 = scaler2.fit_transform(X2)"
   ]
  },
  {
   "cell_type": "code",
   "execution_count": 96,
   "id": "510c72ab",
   "metadata": {},
   "outputs": [],
   "source": [
    "X2a_train, X2a_test, y2a_train, y2a_test = train_test_split(X_scaled, y2.ravel(), \n",
    "                                                        test_size=0.3, random_state=42, shuffle=True)\n",
    "X2b_train, X2b_test, y2b_train, y2b_test = train_test_split(X_scaled2, y2.ravel(), \n",
    "                                                        test_size=0.3, random_state=42, shuffle=True)"
   ]
  },
  {
   "cell_type": "code",
   "execution_count": 101,
   "id": "0c28c639",
   "metadata": {},
   "outputs": [
    {
     "name": "stdout",
     "output_type": "stream",
     "text": [
      "Determination coefficient train Scaled:  0.9999999979397343\n",
      "Determination coefficient test Scaled:  0.9999999983780555\n",
      "Mean Squared Error Scaled:  5.1857381736750264e-06\n",
      "Mean Absolute Error Scaled:  1.1377533427605697e-05\n",
      "\n",
      "\n",
      "Determination coefficient train Robust:  0.9999999979397343\n",
      "Determination coefficient test Robust:  0.9999999983780556\n",
      "Mean Squared Error Robust:  5.185737881703653e-06\n",
      "Mean Absolute Error Robust:  1.1369265182414033e-05\n",
      "\n",
      "\n",
      "DeterminationCoefficient train difference: 0.0\n",
      "DeterminationCoefficient test difference: 1.1102230246251565e-16\n",
      "MeanSquaredError difference: 2.9197137346319334e-13\n",
      "MeanAbsolutError difference: 8.268245191664386e-09\n"
     ]
    }
   ],
   "source": [
    "# to make a quick study of these two transformation and see if one performs better than the other we will make\n",
    "# use LinearRegression to see the difference between X_scaled and X_scaled2\n",
    "\n",
    "# StandardScaled:\n",
    "mLR1 = LinearRegression(n_jobs=-1)\n",
    "mLR1.fit(X2a_train, y2a_train)\n",
    "\n",
    "y2apred = mLR1.predict(X2a_test)\n",
    "print('Determination coefficient train Scaled: ', mLR1.score(X2a_train,y2a_train))\n",
    "print('Determination coefficient test Scaled: ', mLR1.score(X2a_test,y2a_test))\n",
    "print('Mean Squared Error Scaled: ', metrics.mean_squared_error(y2a_test, y2apred))\n",
    "print('Mean Absolute Error Scaled: ', metrics.mean_absolute_error(y2a_test, y2apred))\n",
    "print('\\n')\n",
    "\n",
    "# RobustScaled:\n",
    "mLR2 = LinearRegression(n_jobs=-1)\n",
    "mLR2.fit(X2b_train, y2b_train)\n",
    "\n",
    "y2bpred = mLR2.predict(X2b_test)\n",
    "print('Determination coefficient train Robust: ', mLR2.score(X2b_train,y2b_train))\n",
    "print('Determination coefficient test Robust: ', mLR2.score(X2b_test,y2b_test))\n",
    "print('Mean Squared Error Robust: ', metrics.mean_squared_error(y2b_test, y2bpred))\n",
    "print('Mean Absolute Error Robust: ', metrics.mean_absolute_error(y2b_test, y2bpred))\n",
    "print('\\n')\n",
    "\n",
    "print('DeterminationCoefficient train difference:', abs(mLR1.score(X2a_train,y2a_train) - mLR2.score(X2b_train,y2b_train)))\n",
    "print('DeterminationCoefficient test difference:', abs(mLR1.score(X2a_test,y2a_test)- mLR2.score(X2b_test,y2b_test)))\n",
    "print('MeanSquaredError difference:', abs(metrics.mean_squared_error(y2a_test, y2apred) - metrics.mean_squared_error(y2b_test, y2bpred)))\n",
    "print('MeanAbsolutError difference:', abs( metrics.mean_absolute_error(y2a_test, y2apred) - metrics.mean_absolute_error(y2b_test, y2bpred)))\n"
   ]
  },
  {
   "cell_type": "markdown",
   "id": "e71e1cfc",
   "metadata": {},
   "source": [
    "In this dataset there is no difference by using a standardscaler or a robustscaler in order to standarize the dataset. We can choose to use either if we want to standarize the dataset."
   ]
  },
  {
   "cell_type": "markdown",
   "id": "0e9f78de",
   "metadata": {},
   "source": [
    "# Nivell 3"
   ]
  },
  {
   "cell_type": "markdown",
   "id": "015145b5",
   "metadata": {},
   "source": [
    "## Exercici 6: No utilitzis la variable *DepDelay* a l’hora de fer prediccions"
   ]
  },
  {
   "cell_type": "markdown",
   "id": "b35cb422",
   "metadata": {},
   "source": [
    "In this exercise to make it a bit more challeging for the model to calculate the ArrDelay column. To do so, we will sustract the column DepDelay and mantain all column **but** the DelayedArr (binary column that indicates with 0 or 1 if there has been a delay) will also be sustracted when using the model LinearRegression, since over all three methods this one is the one that it is more well behave when we want to predict the minutes of a plane that has been late.\n",
    "\n",
    "Remember that TotalDelayed is the sum of: CarrierDelay, WeatherDelay, NASDelay, SecurityDelay and LateAircraftDelay.\n",
    "It contains more of the information to have a well behaved prediction, also, the other two columns that contain most of the information into having a well behaved fit are: ActualElapsedTime/CRSElapsedTime.\n"
   ]
  },
  {
   "cell_type": "code",
   "execution_count": 27,
   "id": "9da655e6",
   "metadata": {},
   "outputs": [],
   "source": [
    "df4 = df[['ActualElapsedTime', 'CRSElapsedTime', 'AirTime', 'ArrDelay', 'Distance', \n",
    "          'TaxiIn', 'TaxiOut', 'CarrierDelay', 'WeatherDelay', 'NASDelay', 'LateAircraftDelay', 'VelocityAir', \n",
    "          'TotalDelayed']]"
   ]
  },
  {
   "cell_type": "code",
   "execution_count": 28,
   "id": "8839b330",
   "metadata": {
    "scrolled": true
   },
   "outputs": [
    {
     "data": {
      "text/plain": [
       "(1928368, 13)"
      ]
     },
     "execution_count": 28,
     "metadata": {},
     "output_type": "execute_result"
    }
   ],
   "source": [
    "df4.shape"
   ]
  },
  {
   "cell_type": "code",
   "execution_count": 29,
   "id": "94116d7b",
   "metadata": {},
   "outputs": [],
   "source": [
    "X2 = np.array(df4.drop('ArrDelay', axis=1))\n",
    "y2 = np.array(df4.ArrDelay)"
   ]
  },
  {
   "cell_type": "code",
   "execution_count": 30,
   "id": "abacbe8a",
   "metadata": {},
   "outputs": [],
   "source": [
    "X2_train, X2_test, y2_train, y2_test = train_test_split(X2, y2.ravel(), test_size=0.3,random_state=42, shuffle=True)"
   ]
  },
  {
   "cell_type": "markdown",
   "id": "17da830a",
   "metadata": {},
   "source": [
    "We make use of the default parameters in each one of the models, since they had given us better fitting, and more well behaved predictions, than the ones obtained when we have reavaluated the parameters."
   ]
  },
  {
   "cell_type": "markdown",
   "id": "9688b160",
   "metadata": {},
   "source": [
    "**Linear Regression**"
   ]
  },
  {
   "cell_type": "code",
   "execution_count": 43,
   "id": "5b72c2b7",
   "metadata": {},
   "outputs": [
    {
     "data": {
      "text/plain": [
       "LinearRegression()"
      ]
     },
     "execution_count": 43,
     "metadata": {},
     "output_type": "execute_result"
    }
   ],
   "source": [
    "mLR = LinearRegression(n_jobs=-1)\n",
    "mLR.fit(X2_train, y2_train)"
   ]
  },
  {
   "cell_type": "code",
   "execution_count": 42,
   "id": "5d7be7d8",
   "metadata": {},
   "outputs": [
    {
     "name": "stdout",
     "output_type": "stream",
     "text": [
      "Determination coefficient train:  0.9930680566357558\n",
      "Determination coefficient test:  0.992954781893624\n",
      "Mean Squared Error:  22.52522106609249\n",
      "Mean Absolute Error:  3.207773887048292\n"
     ]
    }
   ],
   "source": [
    "y2predLR = mLR.predict(X2_test)\n",
    "\n",
    "print('Determination coefficient train: ', mLR.score(X2_train,y2_train))\n",
    "print('Determination coefficient test: ', mLR.score(X2_test,y2_test))\n",
    "print('Mean Squared Error: ', metrics.mean_squared_error(y2_test, y2predLR))\n",
    "print('Mean Absolute Error: ', metrics.mean_absolute_error(y2_test, y2predLR))"
   ]
  },
  {
   "cell_type": "code",
   "execution_count": 39,
   "id": "2490f55d",
   "metadata": {},
   "outputs": [
    {
     "data": {
      "image/png": "[encoded data removed]",
      "text/plain": [
       "<Figure size 432x288 with 1 Axes>"
      ]
     },
     "metadata": {
      "needs_background": "light"
     },
     "output_type": "display_data"
    }
   ],
   "source": [
    "# graph\n",
    "df2LR = pd.DataFrame({'Real': y2_test, 'Predicted': y2predLR})\n",
    "sns.regplot(data=df2LR, x='Real', y='Predicted')\n",
    "plt.xlabel('Real data')\n",
    "plt.ylabel('Predicted data')\n",
    "plt.show()"
   ]
  },
  {
   "cell_type": "code",
   "execution_count": 44,
   "id": "26e0f463",
   "metadata": {},
   "outputs": [
    {
     "data": {
      "text/html": [
       "<div>\n",
       "<style scoped>\n",
       "    .dataframe tbody tr th:only-of-type {\n",
       "        vertical-align: middle;\n",
       "    }\n",
       "\n",
       "    .dataframe tbody tr th {\n",
       "        vertical-align: top;\n",
       "    }\n",
       "\n",
       "    .dataframe thead th {\n",
       "        text-align: right;\n",
       "    }\n",
       "</style>\n",
       "<table border=\"1\" class=\"dataframe\">\n",
       "  <thead>\n",
       "    <tr style=\"text-align: right;\">\n",
       "      <th></th>\n",
       "      <th>Real</th>\n",
       "      <th>Predicted</th>\n",
       "    </tr>\n",
       "  </thead>\n",
       "  <tbody>\n",
       "    <tr>\n",
       "      <th>0</th>\n",
       "      <td>15.0</td>\n",
       "      <td>17.331247</td>\n",
       "    </tr>\n",
       "    <tr>\n",
       "      <th>1</th>\n",
       "      <td>9.0</td>\n",
       "      <td>0.008318</td>\n",
       "    </tr>\n",
       "    <tr>\n",
       "      <th>2</th>\n",
       "      <td>14.0</td>\n",
       "      <td>1.784410</td>\n",
       "    </tr>\n",
       "    <tr>\n",
       "      <th>3</th>\n",
       "      <td>81.0</td>\n",
       "      <td>80.460367</td>\n",
       "    </tr>\n",
       "    <tr>\n",
       "      <th>4</th>\n",
       "      <td>19.0</td>\n",
       "      <td>21.905668</td>\n",
       "    </tr>\n",
       "    <tr>\n",
       "      <th>...</th>\n",
       "      <td>...</td>\n",
       "      <td>...</td>\n",
       "    </tr>\n",
       "    <tr>\n",
       "      <th>578506</th>\n",
       "      <td>96.0</td>\n",
       "      <td>96.365438</td>\n",
       "    </tr>\n",
       "    <tr>\n",
       "      <th>578507</th>\n",
       "      <td>118.0</td>\n",
       "      <td>117.567137</td>\n",
       "    </tr>\n",
       "    <tr>\n",
       "      <th>578508</th>\n",
       "      <td>7.0</td>\n",
       "      <td>1.943952</td>\n",
       "    </tr>\n",
       "    <tr>\n",
       "      <th>578509</th>\n",
       "      <td>-4.0</td>\n",
       "      <td>1.605417</td>\n",
       "    </tr>\n",
       "    <tr>\n",
       "      <th>578510</th>\n",
       "      <td>33.0</td>\n",
       "      <td>35.433649</td>\n",
       "    </tr>\n",
       "  </tbody>\n",
       "</table>\n",
       "<p>578511 rows × 2 columns</p>\n",
       "</div>"
      ],
      "text/plain": [
       "         Real   Predicted\n",
       "0        15.0   17.331247\n",
       "1         9.0    0.008318\n",
       "2        14.0    1.784410\n",
       "3        81.0   80.460367\n",
       "4        19.0   21.905668\n",
       "...       ...         ...\n",
       "578506   96.0   96.365438\n",
       "578507  118.0  117.567137\n",
       "578508    7.0    1.943952\n",
       "578509   -4.0    1.605417\n",
       "578510   33.0   35.433649\n",
       "\n",
       "[578511 rows x 2 columns]"
      ]
     },
     "execution_count": 44,
     "metadata": {},
     "output_type": "execute_result"
    }
   ],
   "source": [
    "df2LR"
   ]
  },
  {
   "cell_type": "markdown",
   "id": "b1b7e74f",
   "metadata": {},
   "source": [
    "Without the DepDelay and DelayedArr features we can see that the error (absolute and squared) had increased but the predicted data is overall still well behaved as we can see in the graph above and with the determination coefficient. But on a insight on each one of the predicted values vs real values we can see that not very well predicted, as it is shown in the graph below.\n",
    "\n",
    "In the graph below, we plot one-on-one a subsample of the values predicted and real, and on doing so, we can see that not adding DelayedArr has made that planes that are on time or earlier now have delay, as it is the case of num row: 509850. To get more accurate prediction it is indispensable that the dataset contains the column DelayedArr. "
   ]
  },
  {
   "cell_type": "code",
   "execution_count": 48,
   "id": "1ae5dc50",
   "metadata": {},
   "outputs": [
    {
     "data": {
      "image/png": "[encoded data removed]",
      "text/plain": [
       "<Figure size 1440x504 with 1 Axes>"
      ]
     },
     "metadata": {
      "needs_background": "light"
     },
     "output_type": "display_data"
    }
   ],
   "source": [
    "# we use to do this graph only 35 entries:\n",
    "df2LRp = df2LR.sample(35)\n",
    "df2LRp.plot(kind='bar',figsize=(20,7))\n",
    "plt.xlabel('row num')\n",
    "plt.ylabel('minutes delay')\n",
    "plt.show()"
   ]
  },
  {
   "cell_type": "markdown",
   "id": "12592548",
   "metadata": {},
   "source": [
    "**Decision Tree Regressor**"
   ]
  },
  {
   "cell_type": "markdown",
   "id": "6f409efa",
   "metadata": {},
   "source": [
    "For this model we will add the column DelayedArr to see if we have a better prediction than we had got with LinearRegression."
   ]
  },
  {
   "cell_type": "code",
   "execution_count": 49,
   "id": "f03f0499",
   "metadata": {},
   "outputs": [],
   "source": [
    "df4 = df[['ActualElapsedTime', 'CRSElapsedTime', 'AirTime', 'ArrDelay', 'Distance', \n",
    "          'TaxiIn', 'TaxiOut', 'CarrierDelay', 'WeatherDelay', 'NASDelay', 'LateAircraftDelay', 'VelocityAir', \n",
    "          'DelayedArr', 'TotalDelayed']]"
   ]
  },
  {
   "cell_type": "code",
   "execution_count": 50,
   "id": "5d7543a0",
   "metadata": {},
   "outputs": [],
   "source": [
    "X2 = np.array(df4.drop('ArrDelay', axis=1))\n",
    "y2 = np.array(df4.ArrDelay)"
   ]
  },
  {
   "cell_type": "code",
   "execution_count": 51,
   "id": "9a1c9100",
   "metadata": {},
   "outputs": [],
   "source": [
    "X2_train, X2_test, y2_train, y2_test = train_test_split(X2, y2.ravel(), test_size=0.3,random_state=42, shuffle=True)"
   ]
  },
  {
   "cell_type": "code",
   "execution_count": 52,
   "id": "b3edaa85",
   "metadata": {},
   "outputs": [
    {
     "data": {
      "text/plain": [
       "DecisionTreeRegressor(random_state=42)"
      ]
     },
     "execution_count": 52,
     "metadata": {},
     "output_type": "execute_result"
    }
   ],
   "source": [
    "mDT = DecisionTreeRegressor(random_state = 42)\n",
    "mDT.fit(X2_train, y2_train)"
   ]
  },
  {
   "cell_type": "code",
   "execution_count": 54,
   "id": "bf99cd5b",
   "metadata": {},
   "outputs": [
    {
     "data": {
      "text/plain": [
       "array([0.001, 0.001, 0.   , 0.   , 0.   , 0.   , 0.   , 0.   , 0.   ,\n",
       "       0.   , 0.   , 0.004, 0.993])"
      ]
     },
     "execution_count": 54,
     "metadata": {},
     "output_type": "execute_result"
    }
   ],
   "source": [
    "np.round(mDT.feature_importances_, 3)"
   ]
  },
  {
   "cell_type": "markdown",
   "id": "7d43ffc5",
   "metadata": {},
   "source": [
    "Since we don't have DepDelay anymore the feature that has more weight in the prediction now is the made out column: TotalDelayed, since tells us how many minutes the plane will depart late, thus will arrive late on the destination, followed by the column DelayedArr."
   ]
  },
  {
   "cell_type": "code",
   "execution_count": 55,
   "id": "323dc194",
   "metadata": {},
   "outputs": [
    {
     "name": "stdout",
     "output_type": "stream",
     "text": [
      "Determination coefficient train:  0.9999350283292258\n",
      "Determination coefficient test:  0.995753563755072\n",
      "Mean Squared Error:  13.576856488446236\n",
      "Mean Absolute Error:  1.4295958460642884\n"
     ]
    }
   ],
   "source": [
    "y2predDT = mDT.predict(X2_test)\n",
    "\n",
    "print('Determination coefficient train: ', mDT.score(X2_train,y2_train))\n",
    "print('Determination coefficient test: ', mDT.score(X2_test,y2_test))\n",
    "print('Mean Squared Error: ', metrics.mean_squared_error(y2_test, y2predDT))\n",
    "print('Mean Absolute Error: ', metrics.mean_absolute_error(y2_test, y2predDT))"
   ]
  },
  {
   "cell_type": "code",
   "execution_count": 56,
   "id": "e67e77d0",
   "metadata": {},
   "outputs": [
    {
     "data": {
      "image/png": "[encoded data removed]",
      "text/plain": [
       "<Figure size 432x288 with 1 Axes>"
      ]
     },
     "metadata": {
      "needs_background": "light"
     },
     "output_type": "display_data"
    }
   ],
   "source": [
    "# graph\n",
    "df2DT = pd.DataFrame({'Real': y2_test, 'Predicted': y2predDT})\n",
    "sns.regplot(data=df2DT, x='Real', y='Predicted')\n",
    "plt.xlabel('Real data')\n",
    "plt.ylabel('Predicted data')\n",
    "plt.show()"
   ]
  },
  {
   "cell_type": "markdown",
   "id": "fd72d100",
   "metadata": {},
   "source": [
    "Absolute and Squared error had increased in both cases, also the determination coefficients are lower than before sustracting DepDelay. We also notice, in the graph above, that the delays with more minutes of delay (higher values) are not well predicted. Also, there is a bit of misprediction on values around zero to 500 minutes of delay.\n",
    "\n",
    "Taking a look at the data (table below and graph below), we can see that now since we have added the DelayedArr column (binary 0 for on time/earlier and 1 for late), we are able to predict more accurately which planes are actually late and which are non late. For example, now the plane row number: 466028, is marked as earlier arrival although the actual number of minutes that it is earlier is a little off. In this graph below we can see that are the predictor has problems in correctly predicting values under 50 minutes of delay.\n",
    "\n",
    "Overall the predictions are more well behaved than when we have sustracted the feature DelayedArr, but not than finer as they could have been if we had the feature DepDelay."
   ]
  },
  {
   "cell_type": "code",
   "execution_count": 57,
   "id": "0ecc2bdb",
   "metadata": {},
   "outputs": [
    {
     "data": {
      "text/html": [
       "<div>\n",
       "<style scoped>\n",
       "    .dataframe tbody tr th:only-of-type {\n",
       "        vertical-align: middle;\n",
       "    }\n",
       "\n",
       "    .dataframe tbody tr th {\n",
       "        vertical-align: top;\n",
       "    }\n",
       "\n",
       "    .dataframe thead th {\n",
       "        text-align: right;\n",
       "    }\n",
       "</style>\n",
       "<table border=\"1\" class=\"dataframe\">\n",
       "  <thead>\n",
       "    <tr style=\"text-align: right;\">\n",
       "      <th></th>\n",
       "      <th>Real</th>\n",
       "      <th>Predicted</th>\n",
       "    </tr>\n",
       "  </thead>\n",
       "  <tbody>\n",
       "    <tr>\n",
       "      <th>0</th>\n",
       "      <td>15.0</td>\n",
       "      <td>15.0</td>\n",
       "    </tr>\n",
       "    <tr>\n",
       "      <th>1</th>\n",
       "      <td>9.0</td>\n",
       "      <td>2.0</td>\n",
       "    </tr>\n",
       "    <tr>\n",
       "      <th>2</th>\n",
       "      <td>14.0</td>\n",
       "      <td>8.0</td>\n",
       "    </tr>\n",
       "    <tr>\n",
       "      <th>3</th>\n",
       "      <td>81.0</td>\n",
       "      <td>81.0</td>\n",
       "    </tr>\n",
       "    <tr>\n",
       "      <th>4</th>\n",
       "      <td>19.0</td>\n",
       "      <td>19.0</td>\n",
       "    </tr>\n",
       "    <tr>\n",
       "      <th>...</th>\n",
       "      <td>...</td>\n",
       "      <td>...</td>\n",
       "    </tr>\n",
       "    <tr>\n",
       "      <th>578506</th>\n",
       "      <td>96.0</td>\n",
       "      <td>96.0</td>\n",
       "    </tr>\n",
       "    <tr>\n",
       "      <th>578507</th>\n",
       "      <td>118.0</td>\n",
       "      <td>118.0</td>\n",
       "    </tr>\n",
       "    <tr>\n",
       "      <th>578508</th>\n",
       "      <td>7.0</td>\n",
       "      <td>9.0</td>\n",
       "    </tr>\n",
       "    <tr>\n",
       "      <th>578509</th>\n",
       "      <td>-4.0</td>\n",
       "      <td>-4.0</td>\n",
       "    </tr>\n",
       "    <tr>\n",
       "      <th>578510</th>\n",
       "      <td>33.0</td>\n",
       "      <td>33.0</td>\n",
       "    </tr>\n",
       "  </tbody>\n",
       "</table>\n",
       "<p>578511 rows × 2 columns</p>\n",
       "</div>"
      ],
      "text/plain": [
       "         Real  Predicted\n",
       "0        15.0       15.0\n",
       "1         9.0        2.0\n",
       "2        14.0        8.0\n",
       "3        81.0       81.0\n",
       "4        19.0       19.0\n",
       "...       ...        ...\n",
       "578506   96.0       96.0\n",
       "578507  118.0      118.0\n",
       "578508    7.0        9.0\n",
       "578509   -4.0       -4.0\n",
       "578510   33.0       33.0\n",
       "\n",
       "[578511 rows x 2 columns]"
      ]
     },
     "execution_count": 57,
     "metadata": {},
     "output_type": "execute_result"
    }
   ],
   "source": [
    "df2DT"
   ]
  },
  {
   "cell_type": "code",
   "execution_count": 58,
   "id": "48ab42d3",
   "metadata": {},
   "outputs": [
    {
     "data": {
      "image/png": "[encoded data removed]",
      "text/plain": [
       "<Figure size 1440x504 with 1 Axes>"
      ]
     },
     "metadata": {
      "needs_background": "light"
     },
     "output_type": "display_data"
    }
   ],
   "source": [
    "# we use to do this graph only 35 entries:\n",
    "df2DTp = df2DT.sample(35)\n",
    "df2DTp.plot(kind='bar',figsize=(20,7))\n",
    "plt.xlabel('row num')\n",
    "plt.ylabel('minutes delay')\n",
    "plt.show()"
   ]
  },
  {
   "cell_type": "markdown",
   "id": "f33998b9",
   "metadata": {},
   "source": [
    "**Random Forest Regressor**"
   ]
  },
  {
   "cell_type": "code",
   "execution_count": 59,
   "id": "7c458c4c",
   "metadata": {},
   "outputs": [
    {
     "data": {
      "text/plain": [
       "RandomForestRegressor(n_jobs=-1, random_state=42)"
      ]
     },
     "execution_count": 59,
     "metadata": {},
     "output_type": "execute_result"
    }
   ],
   "source": [
    "mRF = RandomForestRegressor(n_estimators=100, random_state=42, n_jobs=-1)\n",
    "mRF.fit(X2_train, y2_train)"
   ]
  },
  {
   "cell_type": "code",
   "execution_count": 60,
   "id": "f34abd94",
   "metadata": {},
   "outputs": [
    {
     "name": "stdout",
     "output_type": "stream",
     "text": [
      "Determination coefficient train:  0.9997064244992002\n",
      "Determination coefficient test:  0.9976235556974111\n",
      "Mean Squared Error:  7.598051963589911\n",
      "Mean Absolute Error:  1.1149124927121354\n"
     ]
    }
   ],
   "source": [
    "y2predRF = mRF.predict(X2_test)\n",
    "\n",
    "print('Determination coefficient train: ', mRF.score(X2_train,y2_train))\n",
    "print('Determination coefficient test: ', mRF.score(X2_test,y2_test))\n",
    "print('Mean Squared Error: ', metrics.mean_squared_error(y2_test, y2predRF))\n",
    "print('Mean Absolute Error: ', metrics.mean_absolute_error(y2_test, y2predRF))"
   ]
  },
  {
   "cell_type": "code",
   "execution_count": 61,
   "id": "00efe258",
   "metadata": {},
   "outputs": [
    {
     "data": {
      "image/png": "[encoded data removed]",
      "text/plain": [
       "<Figure size 432x288 with 1 Axes>"
      ]
     },
     "metadata": {
      "needs_background": "light"
     },
     "output_type": "display_data"
    }
   ],
   "source": [
    "# graph\n",
    "df2RF = pd.DataFrame({'Real': y2_test, 'Predicted': y2predRF})\n",
    "sns.regplot(data=df2DT, x='Real', y='Predicted')\n",
    "plt.xlabel('Real data')\n",
    "plt.ylabel('Predicted data')\n",
    "plt.show()"
   ]
  },
  {
   "cell_type": "markdown",
   "id": "80e2fee9",
   "metadata": {},
   "source": [
    "Like in both previous cases, the squared and the absolute error had increase, also the determination coeffiecient had slightly decrease, which indicates that the model may have a bit more of error when predicts the minutes of arrival when the plane is delayed.\n",
    "\n",
    "In the graph above we can see that the same artifact when the number of minutes are high and small, from zero to 500 minutes, the model cannot predict very well its values. But for small values below 1500 minutes the predictions and around zero minutes of delay that the model has can predict them finer, thus the model it is well behaved. \n",
    "\n",
    "In the table below and in the graph below, we see that there are accurated predictions for values around 50 minutes of delay and higher, that the DelayedArr has helped to determine which values are actually late and which are on time/earlier, and the discrepances in the predicted values, in this subsample of data only occur in the values below 50 minutes of delay or early arrivals. As we have seen this artifact happening with DecisionTreeRegressor."
   ]
  },
  {
   "cell_type": "code",
   "execution_count": 62,
   "id": "921765dd",
   "metadata": {},
   "outputs": [
    {
     "data": {
      "text/html": [
       "<div>\n",
       "<style scoped>\n",
       "    .dataframe tbody tr th:only-of-type {\n",
       "        vertical-align: middle;\n",
       "    }\n",
       "\n",
       "    .dataframe tbody tr th {\n",
       "        vertical-align: top;\n",
       "    }\n",
       "\n",
       "    .dataframe thead th {\n",
       "        text-align: right;\n",
       "    }\n",
       "</style>\n",
       "<table border=\"1\" class=\"dataframe\">\n",
       "  <thead>\n",
       "    <tr style=\"text-align: right;\">\n",
       "      <th></th>\n",
       "      <th>Real</th>\n",
       "      <th>Predicted</th>\n",
       "    </tr>\n",
       "  </thead>\n",
       "  <tbody>\n",
       "    <tr>\n",
       "      <th>0</th>\n",
       "      <td>15.0</td>\n",
       "      <td>15.00</td>\n",
       "    </tr>\n",
       "    <tr>\n",
       "      <th>1</th>\n",
       "      <td>9.0</td>\n",
       "      <td>6.77</td>\n",
       "    </tr>\n",
       "    <tr>\n",
       "      <th>2</th>\n",
       "      <td>14.0</td>\n",
       "      <td>6.70</td>\n",
       "    </tr>\n",
       "    <tr>\n",
       "      <th>3</th>\n",
       "      <td>81.0</td>\n",
       "      <td>81.00</td>\n",
       "    </tr>\n",
       "    <tr>\n",
       "      <th>4</th>\n",
       "      <td>19.0</td>\n",
       "      <td>19.00</td>\n",
       "    </tr>\n",
       "    <tr>\n",
       "      <th>...</th>\n",
       "      <td>...</td>\n",
       "      <td>...</td>\n",
       "    </tr>\n",
       "    <tr>\n",
       "      <th>578506</th>\n",
       "      <td>96.0</td>\n",
       "      <td>96.00</td>\n",
       "    </tr>\n",
       "    <tr>\n",
       "      <th>578507</th>\n",
       "      <td>118.0</td>\n",
       "      <td>118.00</td>\n",
       "    </tr>\n",
       "    <tr>\n",
       "      <th>578508</th>\n",
       "      <td>7.0</td>\n",
       "      <td>5.36</td>\n",
       "    </tr>\n",
       "    <tr>\n",
       "      <th>578509</th>\n",
       "      <td>-4.0</td>\n",
       "      <td>-3.13</td>\n",
       "    </tr>\n",
       "    <tr>\n",
       "      <th>578510</th>\n",
       "      <td>33.0</td>\n",
       "      <td>33.00</td>\n",
       "    </tr>\n",
       "  </tbody>\n",
       "</table>\n",
       "<p>578511 rows × 2 columns</p>\n",
       "</div>"
      ],
      "text/plain": [
       "         Real  Predicted\n",
       "0        15.0      15.00\n",
       "1         9.0       6.77\n",
       "2        14.0       6.70\n",
       "3        81.0      81.00\n",
       "4        19.0      19.00\n",
       "...       ...        ...\n",
       "578506   96.0      96.00\n",
       "578507  118.0     118.00\n",
       "578508    7.0       5.36\n",
       "578509   -4.0      -3.13\n",
       "578510   33.0      33.00\n",
       "\n",
       "[578511 rows x 2 columns]"
      ]
     },
     "execution_count": 62,
     "metadata": {},
     "output_type": "execute_result"
    }
   ],
   "source": [
    "df2RF"
   ]
  },
  {
   "cell_type": "code",
   "execution_count": 63,
   "id": "4bdf8550",
   "metadata": {},
   "outputs": [
    {
     "data": {
      "image/png": "[encoded data removed]",
      "text/plain": [
       "<Figure size 1440x504 with 1 Axes>"
      ]
     },
     "metadata": {
      "needs_background": "light"
     },
     "output_type": "display_data"
    }
   ],
   "source": [
    "# we use to do this graph only 35 entries:\n",
    "df2RFp = df2RF.sample(35)\n",
    "df2RFp.plot(kind='bar',figsize=(20,7))\n",
    "plt.xlabel('row num')\n",
    "plt.ylabel('minutes delay')\n",
    "plt.show()"
   ]
  }
 ],
 "metadata": {
  "kernelspec": {
   "display_name": "Python 3 (ipykernel)",
   "language": "python",
   "name": "python3"
  },
  "language_info": {
   "codemirror_mode": {
    "name": "ipython",
    "version": 3
   },
   "file_extension": ".py",
   "mimetype": "text/x-python",
   "name": "python",
   "nbconvert_exporter": "python",
   "pygments_lexer": "ipython3",
   "version": "3.9.7"
  },
  "latex_envs": {
   "LaTeX_envs_menu_present": true,
   "autoclose": false,
   "autocomplete": true,
   "bibliofile": "biblio.bib",
   "cite_by": "apalike",
   "current_citInitial": 1,
   "eqLabelWithNumbers": true,
   "eqNumInitial": 1,
   "hotkeys": {
    "equation": "Ctrl-E",
    "itemize": "Ctrl-I"
   },
   "labels_anchors": false,
   "latex_user_defs": false,
   "report_style_numbering": false,
   "user_envs_cfg": false
  }
 },
 "nbformat": 4,
 "nbformat_minor": 5
}
